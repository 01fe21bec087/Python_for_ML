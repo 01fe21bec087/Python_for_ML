{
  "nbformat": 4,
  "nbformat_minor": 0,
  "metadata": {
    "colab": {
      "provenance": [],
      "toc_visible": true,
      "authorship_tag": "ABX9TyMBGn6wBHHJoiL1QthqJpl0",
      "include_colab_link": true
    },
    "kernelspec": {
      "name": "python3",
      "display_name": "Python 3"
    },
    "language_info": {
      "name": "python"
    }
  },
  "cells": [
    {
      "cell_type": "markdown",
      "metadata": {
        "id": "view-in-github",
        "colab_type": "text"
      },
      "source": [
        "<a href=\"https://colab.research.google.com/github/01fe21bec087/Python_for_ML/blob/Pantech_ML_Course/Day3_Pantech_DataStructure.ipynb\" target=\"_parent\"><img src=\"https://colab.research.google.com/assets/colab-badge.svg\" alt=\"Open In Colab\"/></a>"
      ]
    },
    {
      "cell_type": "markdown",
      "source": [
        "# ***Data Structures***"
      ],
      "metadata": {
        "id": "US3DGZKNSw8R"
      }
    },
    {
      "cell_type": "markdown",
      "source": [
        "1. List\n",
        "2. Tuple\n",
        "3. Set\n",
        "4. Dictionary"
      ],
      "metadata": {
        "id": "G6AtU4K-S6st"
      }
    },
    {
      "cell_type": "markdown",
      "source": [
        "# ***List***"
      ],
      "metadata": {
        "id": "gyxWF2QJTAFa"
      }
    },
    {
      "cell_type": "markdown",
      "source": [
        "Collection of items enclosed in [ ]\n",
        "\n",
        "\n",
        "*   Ordered, and can be of any type\n",
        "*   Mutable (can be modified after they are created)\n",
        "*   \n",
        "\n"
      ],
      "metadata": {
        "id": "w6I_2FfQTDUy"
      }
    },
    {
      "cell_type": "markdown",
      "source": [
        "## ***Accessing***"
      ],
      "metadata": {
        "id": "5TvukJM7UsM-"
      }
    },
    {
      "cell_type": "markdown",
      "source": [
        "### ***Accessing Discrete elements of a list***"
      ],
      "metadata": {
        "id": "eNagkJQoVlfv"
      }
    },
    {
      "cell_type": "code",
      "execution_count": 21,
      "metadata": {
        "colab": {
          "base_uri": "https://localhost:8080/"
        },
        "id": "TP_-oh7oSrnf",
        "outputId": "8cc03cb8-b3c8-4dad-b0f9-1af3c6ce2cca"
      },
      "outputs": [
        {
          "output_type": "stream",
          "name": "stdout",
          "text": [
            "apple\n"
          ]
        }
      ],
      "source": [
        "#Accessing Discrete elements of a list\n",
        "x=[\"apple\",\"banana\",\"Carrot\"]\n",
        "print(x[0])"
      ]
    },
    {
      "cell_type": "code",
      "source": [
        "print(x[0][0])\n",
        "print(x[2][4])"
      ],
      "metadata": {
        "colab": {
          "base_uri": "https://localhost:8080/"
        },
        "id": "bB6EiX_ITs6T",
        "outputId": "a1830d40-fa1d-427c-bb70-9b19306078bd"
      },
      "execution_count": 22,
      "outputs": [
        {
          "output_type": "stream",
          "name": "stdout",
          "text": [
            "a\n",
            "o\n"
          ]
        }
      ]
    },
    {
      "cell_type": "markdown",
      "source": [
        "### ***Slicing - Access a range of index***"
      ],
      "metadata": {
        "id": "_uV3F3B_Vorh"
      }
    },
    {
      "cell_type": "code",
      "source": [
        "#Slicing - Access a range of index\n",
        "y=['apple',5,5,True,'25']\n",
        "print(y[1:4])\n",
        "print(y[2:])"
      ],
      "metadata": {
        "colab": {
          "base_uri": "https://localhost:8080/"
        },
        "id": "tkYBIBfcUxMS",
        "outputId": "2c1fb4bc-26f7-46fe-e3b9-13296bda7ff9"
      },
      "execution_count": 23,
      "outputs": [
        {
          "output_type": "stream",
          "name": "stdout",
          "text": [
            "[5, 5, True]\n",
            "[5, True, '25']\n"
          ]
        }
      ]
    },
    {
      "cell_type": "markdown",
      "source": [
        "## ***Replacing elements***"
      ],
      "metadata": {
        "id": "VXVv6HqPVqbP"
      }
    },
    {
      "cell_type": "code",
      "source": [
        "y[2]=\"Newword\"\n",
        "print(y)"
      ],
      "metadata": {
        "colab": {
          "base_uri": "https://localhost:8080/"
        },
        "id": "54vweFqZVw-l",
        "outputId": "b80b5a44-e1b5-4048-8ec9-ff7355410a40"
      },
      "execution_count": 24,
      "outputs": [
        {
          "output_type": "stream",
          "name": "stdout",
          "text": [
            "['apple', 5, 'Newword', True, '25']\n"
          ]
        }
      ]
    },
    {
      "cell_type": "markdown",
      "source": [
        "## ***Adding***"
      ],
      "metadata": {
        "id": "hb4dYMQQY_lc"
      }
    },
    {
      "cell_type": "markdown",
      "source": [
        "### ***Insert elements***"
      ],
      "metadata": {
        "id": "Bme_WjaGV-MV"
      }
    },
    {
      "cell_type": "code",
      "source": [
        "#Insert a new element a the specified index (existing elements will be pushed, and not deleted)\n",
        "y.insert(1,\"Inserted\")\n",
        "print(y)"
      ],
      "metadata": {
        "colab": {
          "base_uri": "https://localhost:8080/"
        },
        "id": "ScrddGDPWBAz",
        "outputId": "a692871f-491b-4a55-a1bb-526409ddd0bc"
      },
      "execution_count": 39,
      "outputs": [
        {
          "output_type": "stream",
          "name": "stdout",
          "text": [
            "['apple', 'Inserted', 'Inserted', 5, 'Newword', True, '25', 'Hello']\n"
          ]
        }
      ]
    },
    {
      "cell_type": "markdown",
      "source": [
        "### ***Append elements***"
      ],
      "metadata": {
        "id": "pZhYl6kTW6CO"
      }
    },
    {
      "cell_type": "code",
      "source": [
        "#Insert at end (After the last element)\n",
        "y.append(\"Hello\")\n",
        "print(y)"
      ],
      "metadata": {
        "colab": {
          "base_uri": "https://localhost:8080/"
        },
        "id": "gibKseY-W7-A",
        "outputId": "383f9d30-024b-427e-d9e0-81f06f8e11d7"
      },
      "execution_count": 40,
      "outputs": [
        {
          "output_type": "stream",
          "name": "stdout",
          "text": [
            "['apple', 'Inserted', 'Inserted', 5, 'Newword', True, '25', 'Hello', 'Hello']\n"
          ]
        }
      ]
    },
    {
      "cell_type": "markdown",
      "source": [
        "### ***Extend list***"
      ],
      "metadata": {
        "id": "nd7KUnLFXIEu"
      }
    },
    {
      "cell_type": "code",
      "source": [
        "#Append elements from another list\n",
        "x=[\"a\",3,False,\"Nicce\"]\n",
        "x.extend(y)\n",
        "print(x)"
      ],
      "metadata": {
        "colab": {
          "base_uri": "https://localhost:8080/"
        },
        "id": "uBx3PUOyXJ79",
        "outputId": "44faeb65-4da6-4741-f998-f51a3caf8ffa"
      },
      "execution_count": 41,
      "outputs": [
        {
          "output_type": "stream",
          "name": "stdout",
          "text": [
            "['a', 3, False, 'Nicce', 'apple', 'Inserted', 'Inserted', 5, 'Newword', True, '25', 'Hello', 'Hello']\n"
          ]
        }
      ]
    },
    {
      "cell_type": "code",
      "source": [
        "lis1=[1,2,3]\n",
        "lis2=[4,5,6]\n",
        "\n",
        "lis1.extend(lis2)\n",
        "print(lis1)\n",
        "print(lis2)"
      ],
      "metadata": {
        "colab": {
          "base_uri": "https://localhost:8080/"
        },
        "id": "kJ4rV8LeYGCv",
        "outputId": "00b32a2d-6fd6-4f14-9e91-78df05d05491"
      },
      "execution_count": 42,
      "outputs": [
        {
          "output_type": "stream",
          "name": "stdout",
          "text": [
            "[1, 2, 3, 4, 5, 6]\n",
            "[4, 5, 6]\n"
          ]
        }
      ]
    },
    {
      "cell_type": "markdown",
      "source": [
        "## ***Deleting***"
      ],
      "metadata": {
        "id": "FBe-LjbNZH_Y"
      }
    },
    {
      "cell_type": "markdown",
      "source": [
        "### ***Remove elements***"
      ],
      "metadata": {
        "id": "l2djhhamX6cK"
      }
    },
    {
      "cell_type": "code",
      "source": [
        "lis1.remove(2)\n",
        "print(lis1)"
      ],
      "metadata": {
        "colab": {
          "base_uri": "https://localhost:8080/"
        },
        "id": "f0nbPVrKYgHa",
        "outputId": "6606e43f-e05a-432e-bc23-0e5e90607488"
      },
      "execution_count": 43,
      "outputs": [
        {
          "output_type": "stream",
          "name": "stdout",
          "text": [
            "[1, 3, 4, 5, 6]\n"
          ]
        }
      ]
    },
    {
      "cell_type": "markdown",
      "source": [
        "### ***Pop elements***"
      ],
      "metadata": {
        "id": "quS8xrxKY4iB"
      }
    },
    {
      "cell_type": "code",
      "source": [
        "#Give the index of the element to delete\n",
        "lis1.pop(0)\n",
        "print(lis1)"
      ],
      "metadata": {
        "colab": {
          "base_uri": "https://localhost:8080/"
        },
        "id": "txxkwe4cY7o0",
        "outputId": "46e62b66-7d44-4d9a-df23-87885af12d27"
      },
      "execution_count": 44,
      "outputs": [
        {
          "output_type": "stream",
          "name": "stdout",
          "text": [
            "[3, 4, 5, 6]\n"
          ]
        }
      ]
    },
    {
      "cell_type": "markdown",
      "source": [
        "### ***Clear the entire list***"
      ],
      "metadata": {
        "id": "A2gIvRevZmXX"
      }
    },
    {
      "cell_type": "code",
      "source": [
        "lis2.clear()\n",
        "print(lis2)"
      ],
      "metadata": {
        "colab": {
          "base_uri": "https://localhost:8080/"
        },
        "id": "W3v-De5aZqFt",
        "outputId": "f9e92b9b-ec48-409e-96fa-4b1fd6e3a518"
      },
      "execution_count": 45,
      "outputs": [
        {
          "output_type": "stream",
          "name": "stdout",
          "text": [
            "[]\n"
          ]
        }
      ]
    },
    {
      "cell_type": "markdown",
      "source": [
        "## ***Sorting***"
      ],
      "metadata": {
        "id": "aIv7OlACa3OB"
      }
    },
    {
      "cell_type": "markdown",
      "source": [
        "### ***Sorting list of strings alphabetically***"
      ],
      "metadata": {
        "id": "VUFXDJ5Na6U5"
      }
    },
    {
      "cell_type": "code",
      "source": [
        "lis3=[\"kite\",\"banana\",\"M\",\"apple\"]\n",
        "lis3.sort()\n",
        "print(lis3)"
      ],
      "metadata": {
        "colab": {
          "base_uri": "https://localhost:8080/"
        },
        "id": "XNuY5A5fa9P3",
        "outputId": "05535870-46cf-408d-8b49-c7926fb24b51"
      },
      "execution_count": 50,
      "outputs": [
        {
          "output_type": "stream",
          "name": "stdout",
          "text": [
            "['M', 'apple', 'banana', 'kite']\n"
          ]
        }
      ]
    },
    {
      "cell_type": "markdown",
      "source": [
        "### ***Sorting list of numbers in Ascending order***"
      ],
      "metadata": {
        "id": "Ls-OtvifcJjr"
      }
    },
    {
      "cell_type": "code",
      "source": [
        "list4=[54,8,43,76,46,7.6,42,5,8,43,756,8,43,3,0.76,9,43]\n",
        "list4.sort()\n",
        "print(list4)"
      ],
      "metadata": {
        "colab": {
          "base_uri": "https://localhost:8080/"
        },
        "id": "p15iE6KabhsS",
        "outputId": "d866d4cb-c339-4ebd-af89-32cf1afef75b"
      },
      "execution_count": 54,
      "outputs": [
        {
          "output_type": "stream",
          "name": "stdout",
          "text": [
            "[0.76, 3, 5, 7.6, 8, 8, 8, 9, 42, 43, 43, 43, 43, 46, 54, 76, 756]\n"
          ]
        }
      ]
    },
    {
      "cell_type": "markdown",
      "source": [
        "### ***Sorting list in reverse order/Descending order***"
      ],
      "metadata": {
        "id": "WzIjYdqAcRW1"
      }
    },
    {
      "cell_type": "code",
      "source": [
        "list4.sort(reverse=True)\n",
        "print(list4)"
      ],
      "metadata": {
        "colab": {
          "base_uri": "https://localhost:8080/"
        },
        "id": "R7QWfA57b2fs",
        "outputId": "6ee6aff8-4a34-4e6d-de6d-6846218e476c"
      },
      "execution_count": 55,
      "outputs": [
        {
          "output_type": "stream",
          "name": "stdout",
          "text": [
            "[756, 76, 54, 46, 43, 43, 43, 43, 42, 9, 8, 8, 8, 7.6, 5, 3, 0.76]\n"
          ]
        }
      ]
    },
    {
      "cell_type": "markdown",
      "source": [
        "### ***Non-homogeneous sorting gives error***"
      ],
      "metadata": {
        "id": "s93kW2Sycfcf"
      }
    },
    {
      "cell_type": "code",
      "source": [
        "lis4=[\"kite\",\"banana\",\"M\",\"apple\",1,5,2,True,False]\n",
        "lis4.sort()\n",
        "print(lis4)"
      ],
      "metadata": {
        "colab": {
          "base_uri": "https://localhost:8080/",
          "height": 210
        },
        "id": "aQ8PLvUVbXts",
        "outputId": "dac3d466-a73a-4bdc-b369-2641d38c248e"
      },
      "execution_count": 51,
      "outputs": [
        {
          "output_type": "error",
          "ename": "TypeError",
          "evalue": "ignored",
          "traceback": [
            "\u001b[0;31m---------------------------------------------------------------------------\u001b[0m",
            "\u001b[0;31mTypeError\u001b[0m                                 Traceback (most recent call last)",
            "\u001b[0;32m<ipython-input-51-aa3db979568c>\u001b[0m in \u001b[0;36m<cell line: 2>\u001b[0;34m()\u001b[0m\n\u001b[1;32m      1\u001b[0m \u001b[0mlis4\u001b[0m\u001b[0;34m=\u001b[0m\u001b[0;34m[\u001b[0m\u001b[0;34m\"kite\"\u001b[0m\u001b[0;34m,\u001b[0m\u001b[0;34m\"banana\"\u001b[0m\u001b[0;34m,\u001b[0m\u001b[0;34m\"M\"\u001b[0m\u001b[0;34m,\u001b[0m\u001b[0;34m\"apple\"\u001b[0m\u001b[0;34m,\u001b[0m\u001b[0;36m1\u001b[0m\u001b[0;34m,\u001b[0m\u001b[0;36m5\u001b[0m\u001b[0;34m,\u001b[0m\u001b[0;36m2\u001b[0m\u001b[0;34m,\u001b[0m\u001b[0;32mTrue\u001b[0m\u001b[0;34m,\u001b[0m\u001b[0;32mFalse\u001b[0m\u001b[0;34m]\u001b[0m\u001b[0;34m\u001b[0m\u001b[0;34m\u001b[0m\u001b[0m\n\u001b[0;32m----> 2\u001b[0;31m \u001b[0mlis4\u001b[0m\u001b[0;34m.\u001b[0m\u001b[0msort\u001b[0m\u001b[0;34m(\u001b[0m\u001b[0;34m)\u001b[0m\u001b[0;34m\u001b[0m\u001b[0;34m\u001b[0m\u001b[0m\n\u001b[0m\u001b[1;32m      3\u001b[0m \u001b[0mprint\u001b[0m\u001b[0;34m(\u001b[0m\u001b[0mlis4\u001b[0m\u001b[0;34m)\u001b[0m\u001b[0;34m\u001b[0m\u001b[0;34m\u001b[0m\u001b[0m\n",
            "\u001b[0;31mTypeError\u001b[0m: '<' not supported between instances of 'int' and 'str'"
          ]
        }
      ]
    },
    {
      "cell_type": "markdown",
      "source": [
        "## ***Copy list***"
      ],
      "metadata": {
        "id": "_EQEtYv9cqrL"
      }
    },
    {
      "cell_type": "code",
      "source": [
        "#Create and new list and copy the entire content of other list to it\n",
        "print(lis4)\n",
        "lis5=lis4.copy()\n",
        "print(lis5)"
      ],
      "metadata": {
        "colab": {
          "base_uri": "https://localhost:8080/"
        },
        "id": "RhvzdX3Vcuj7",
        "outputId": "9e2fb8ce-8efd-4174-f9bc-42dc9282623b"
      },
      "execution_count": 58,
      "outputs": [
        {
          "output_type": "stream",
          "name": "stdout",
          "text": [
            "['M', 'apple', 'banana', 'kite', 1, 5, 2, True, False]\n",
            "['M', 'apple', 'banana', 'kite', 1, 5, 2, True, False]\n"
          ]
        }
      ]
    },
    {
      "cell_type": "markdown",
      "source": [
        "# ***Tuple***"
      ],
      "metadata": {
        "id": "S1RsCRXBdgi8"
      }
    },
    {
      "cell_type": "markdown",
      "source": [
        "Collection of items enclosed in paranthesis ( )\n",
        "* Ordered, can be of any type\n",
        "* Immutable (items cannot be modified after they are created)"
      ],
      "metadata": {
        "id": "yvyLsxGQdlGD"
      }
    },
    {
      "cell_type": "markdown",
      "source": [
        "## ***Access a range of Index***"
      ],
      "metadata": {
        "id": "m4Befd1dfIeh"
      }
    },
    {
      "cell_type": "code",
      "source": [
        "tup1=(\"kaggle\",3,True,'n')\n",
        "print(tup1)\n",
        "print(tup1[1:3])"
      ],
      "metadata": {
        "colab": {
          "base_uri": "https://localhost:8080/"
        },
        "id": "wC-E2iPAd6bD",
        "outputId": "7d0929cc-5273-4840-9190-5910fad3d60a"
      },
      "execution_count": 59,
      "outputs": [
        {
          "output_type": "stream",
          "name": "stdout",
          "text": [
            "('kaggle', 3, True, 'n')\n",
            "(3, True)\n"
          ]
        }
      ]
    },
    {
      "cell_type": "markdown",
      "source": [
        "## ***Adding elements to a tuple***"
      ],
      "metadata": {
        "id": "wLS3tilof4Ht"
      }
    },
    {
      "cell_type": "code",
      "source": [
        "#Tuple is Immutable\n",
        "tup1[2]=False"
      ],
      "metadata": {
        "colab": {
          "base_uri": "https://localhost:8080/",
          "height": 193
        },
        "id": "YlFg3wpOefvK",
        "outputId": "44978655-fa13-4ed3-cec9-2af0b8e6cd6e"
      },
      "execution_count": 74,
      "outputs": [
        {
          "output_type": "error",
          "ename": "TypeError",
          "evalue": "ignored",
          "traceback": [
            "\u001b[0;31m---------------------------------------------------------------------------\u001b[0m",
            "\u001b[0;31mTypeError\u001b[0m                                 Traceback (most recent call last)",
            "\u001b[0;32m<ipython-input-74-ddb254756882>\u001b[0m in \u001b[0;36m<cell line: 2>\u001b[0;34m()\u001b[0m\n\u001b[1;32m      1\u001b[0m \u001b[0;31m#Tuple is Immutable\u001b[0m\u001b[0;34m\u001b[0m\u001b[0;34m\u001b[0m\u001b[0m\n\u001b[0;32m----> 2\u001b[0;31m \u001b[0mtup1\u001b[0m\u001b[0;34m[\u001b[0m\u001b[0;36m2\u001b[0m\u001b[0;34m]\u001b[0m\u001b[0;34m=\u001b[0m\u001b[0;32mFalse\u001b[0m\u001b[0;34m\u001b[0m\u001b[0;34m\u001b[0m\u001b[0m\n\u001b[0m",
            "\u001b[0;31mTypeError\u001b[0m: 'tuple' object does not support item assignment"
          ]
        }
      ]
    },
    {
      "cell_type": "markdown",
      "source": [
        "If we want to change the content of tuple anyway, we have to first convert it to list, change the content, and the convert back to tuple"
      ],
      "metadata": {
        "id": "UhtqjHDteux5"
      }
    },
    {
      "cell_type": "markdown",
      "source": [
        "### ***Converting Tuple to list***"
      ],
      "metadata": {
        "id": "gQYY4FEJe3yJ"
      }
    },
    {
      "cell_type": "code",
      "source": [
        "tup1"
      ],
      "metadata": {
        "colab": {
          "base_uri": "https://localhost:8080/"
        },
        "id": "vsfPXd97e29S",
        "outputId": "dad62eaa-32b0-4924-c3d2-5cd384c78d41"
      },
      "execution_count": 75,
      "outputs": [
        {
          "output_type": "execute_result",
          "data": {
            "text/plain": [
              "('kaggle', 3, True, 'n')"
            ]
          },
          "metadata": {},
          "execution_count": 75
        }
      ]
    },
    {
      "cell_type": "code",
      "source": [
        "lis1=list(tup1)\n",
        "print(lis1)"
      ],
      "metadata": {
        "colab": {
          "base_uri": "https://localhost:8080/"
        },
        "id": "VRTnhdpkgctV",
        "outputId": "cf1e1c18-b751-4efe-bf97-b15de762458e"
      },
      "execution_count": 76,
      "outputs": [
        {
          "output_type": "stream",
          "name": "stdout",
          "text": [
            "['kaggle', 3, True, 'n']\n"
          ]
        }
      ]
    },
    {
      "cell_type": "markdown",
      "source": [
        "### ***Add elements to the converted list***"
      ],
      "metadata": {
        "id": "EdShXtUCgVPF"
      }
    },
    {
      "cell_type": "code",
      "source": [
        "lis1.append(\"karthik\")\n",
        "print(lis1)"
      ],
      "metadata": {
        "colab": {
          "base_uri": "https://localhost:8080/"
        },
        "id": "QQ6_x4hTfldu",
        "outputId": "bbb13b63-c0ae-412a-9390-3ec196a3ee9d"
      },
      "execution_count": 77,
      "outputs": [
        {
          "output_type": "stream",
          "name": "stdout",
          "text": [
            "['kaggle', 3, True, 'n', 'karthik']\n"
          ]
        }
      ]
    },
    {
      "cell_type": "code",
      "source": [
        "lis1[2]=\"Newword\"\n",
        "print(lis1)"
      ],
      "metadata": {
        "colab": {
          "base_uri": "https://localhost:8080/"
        },
        "id": "uA2vSClKgmZ2",
        "outputId": "b8b43683-089d-4cd9-8b1a-86f0f26d0ff9"
      },
      "execution_count": 78,
      "outputs": [
        {
          "output_type": "stream",
          "name": "stdout",
          "text": [
            "['kaggle', 3, 'Newword', 'n', 'karthik']\n"
          ]
        }
      ]
    },
    {
      "cell_type": "markdown",
      "source": [
        "### ***Converting List to Tuple***"
      ],
      "metadata": {
        "id": "irWgatQVf-oI"
      }
    },
    {
      "cell_type": "code",
      "source": [
        "tup1=tuple(lis1)\n",
        "print(tup1)"
      ],
      "metadata": {
        "colab": {
          "base_uri": "https://localhost:8080/"
        },
        "id": "8GXQ_GW2fq2O",
        "outputId": "3c932b5a-ebe8-4146-a3ad-c6a734b24331"
      },
      "execution_count": 80,
      "outputs": [
        {
          "output_type": "stream",
          "name": "stdout",
          "text": [
            "('kaggle', 3, 'Newword', 'n', 'karthik')\n"
          ]
        }
      ]
    },
    {
      "cell_type": "markdown",
      "source": [
        "## ***Deleting elements from a tuple***"
      ],
      "metadata": {
        "id": "t6ZKpyAShcWm"
      }
    },
    {
      "cell_type": "markdown",
      "source": [
        "If we want to change the content of tuple anyway, we have to first convert it to list, change the content, and the convert back to tuple"
      ],
      "metadata": {
        "id": "FCL1_qj2hcW8"
      }
    },
    {
      "cell_type": "code",
      "source": [
        "tup2=(5,'k',\"Malibu\",34.65,False,\"Abcd\")\n",
        "print(tup2)"
      ],
      "metadata": {
        "colab": {
          "base_uri": "https://localhost:8080/"
        },
        "outputId": "9eecbd18-071d-4ede-e27a-58ec4048b6f8",
        "id": "uVErHwJzhcW9"
      },
      "execution_count": 83,
      "outputs": [
        {
          "output_type": "stream",
          "name": "stdout",
          "text": [
            "(5, 'k', 'Malibu', 34.65, False, 'Abcd')\n"
          ]
        }
      ]
    },
    {
      "cell_type": "markdown",
      "source": [
        "### ***Converting Tuple to list***"
      ],
      "metadata": {
        "id": "ZSRZiMn6hcW8"
      }
    },
    {
      "cell_type": "code",
      "source": [
        "lis2=list(tup2)\n",
        "print(lis2)"
      ],
      "metadata": {
        "colab": {
          "base_uri": "https://localhost:8080/"
        },
        "outputId": "6e5865e3-d093-4d31-c1f4-592a659ac6e3",
        "id": "_-jOXYBFhcW-"
      },
      "execution_count": 82,
      "outputs": [
        {
          "output_type": "stream",
          "name": "stdout",
          "text": [
            "[5, 'k', 'Malibu', 34.65, False, 'Abcd']\n"
          ]
        }
      ]
    },
    {
      "cell_type": "markdown",
      "source": [
        "### ***Delete elements from the converted list***"
      ],
      "metadata": {
        "id": "2SWe7kjShcW-"
      }
    },
    {
      "cell_type": "code",
      "source": [
        "lis2.remove(False)\n",
        "print(lis2)"
      ],
      "metadata": {
        "colab": {
          "base_uri": "https://localhost:8080/"
        },
        "outputId": "e6297c5c-5f20-445e-ebe3-aa67b5498df0",
        "id": "N_eO4d28hcW_"
      },
      "execution_count": 84,
      "outputs": [
        {
          "output_type": "stream",
          "name": "stdout",
          "text": [
            "[5, 'k', 'Malibu', 34.65, 'Abcd']\n"
          ]
        }
      ]
    },
    {
      "cell_type": "code",
      "source": [
        "lis2.pop(4)\n",
        "print(lis2)"
      ],
      "metadata": {
        "colab": {
          "base_uri": "https://localhost:8080/"
        },
        "outputId": "c4eb3396-e2a4-4c8c-a5ad-4d38f39c29a0",
        "id": "uVR4etrYhcW_"
      },
      "execution_count": 85,
      "outputs": [
        {
          "output_type": "stream",
          "name": "stdout",
          "text": [
            "[5, 'k', 'Malibu', 34.65]\n"
          ]
        }
      ]
    },
    {
      "cell_type": "markdown",
      "source": [
        "### ***Converting List to Tuple***"
      ],
      "metadata": {
        "id": "33t9LVjyhcXA"
      }
    },
    {
      "cell_type": "code",
      "source": [
        "tup2=tuple(lis2)\n",
        "print(tup2)"
      ],
      "metadata": {
        "colab": {
          "base_uri": "https://localhost:8080/"
        },
        "outputId": "313233ec-47b3-45c6-f00b-ece5cd04f5f9",
        "id": "uWsZnfouhcXA"
      },
      "execution_count": 86,
      "outputs": [
        {
          "output_type": "stream",
          "name": "stdout",
          "text": [
            "(5, 'k', 'Malibu', 34.65)\n"
          ]
        }
      ]
    },
    {
      "cell_type": "markdown",
      "source": [
        "## ***Combine multiple tuples***"
      ],
      "metadata": {
        "id": "hrKrNxX0iS8u"
      }
    },
    {
      "cell_type": "code",
      "source": [
        "#Similar to list concatenate\n",
        "tup3=('a',\"Bc\",123)\n",
        "tup4=(456,\"DEFG<\",'z')\n",
        "tupx=tup3+tup4\n",
        "print(tupx)"
      ],
      "metadata": {
        "colab": {
          "base_uri": "https://localhost:8080/"
        },
        "id": "0N4qATcfiWlQ",
        "outputId": "579b25bb-2186-4e9c-8550-50fd6ff8314c"
      },
      "execution_count": 87,
      "outputs": [
        {
          "output_type": "stream",
          "name": "stdout",
          "text": [
            "('a', 'Bc', 123, 456, 'DEFG<', 'z')\n"
          ]
        }
      ]
    },
    {
      "cell_type": "code",
      "source": [
        "tupy=tup3+tup4+tup3\n",
        "print(tupy)"
      ],
      "metadata": {
        "colab": {
          "base_uri": "https://localhost:8080/"
        },
        "id": "fMQm0NidiwHr",
        "outputId": "26db0293-bf24-4b4f-cc6f-08643d003109"
      },
      "execution_count": 89,
      "outputs": [
        {
          "output_type": "stream",
          "name": "stdout",
          "text": [
            "('a', 'Bc', 123, 456, 'DEFG<', 'z', 'a', 'Bc', 123)\n"
          ]
        }
      ]
    },
    {
      "cell_type": "markdown",
      "source": [
        "# ***Set***\n",
        "33:25"
      ],
      "metadata": {
        "id": "095bQs76jmyS"
      }
    }
  ]
}