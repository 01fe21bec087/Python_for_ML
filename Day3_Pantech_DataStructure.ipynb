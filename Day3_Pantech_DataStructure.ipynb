{
  "nbformat": 4,
  "nbformat_minor": 0,
  "metadata": {
    "colab": {
      "provenance": [],
      "toc_visible": true,
      "authorship_tag": "ABX9TyPV49XQ91OEa9YKYy9CCGtO",
      "include_colab_link": true
    },
    "kernelspec": {
      "name": "python3",
      "display_name": "Python 3"
    },
    "language_info": {
      "name": "python"
    }
  },
  "cells": [
    {
      "cell_type": "markdown",
      "metadata": {
        "id": "view-in-github",
        "colab_type": "text"
      },
      "source": [
        "<a href=\"https://colab.research.google.com/github/01fe21bec087/Python_for_ML/blob/Pantech_ML_Course/Day3_Pantech_DataStructure.ipynb\" target=\"_parent\"><img src=\"https://colab.research.google.com/assets/colab-badge.svg\" alt=\"Open In Colab\"/></a>"
      ]
    },
    {
      "cell_type": "markdown",
      "source": [
        "# ***Data Structures***"
      ],
      "metadata": {
        "id": "US3DGZKNSw8R"
      }
    },
    {
      "cell_type": "markdown",
      "source": [
        "1. List\n",
        "2. Tuple\n",
        "3. Set\n",
        "4. Dictionary"
      ],
      "metadata": {
        "id": "G6AtU4K-S6st"
      }
    },
    {
      "cell_type": "markdown",
      "source": [
        "# ***List***"
      ],
      "metadata": {
        "id": "gyxWF2QJTAFa"
      }
    },
    {
      "cell_type": "markdown",
      "source": [
        "Collection of items enclosed in [ ]\n",
        "\n",
        "\n",
        "*   Ordered, and can be of any type\n",
        "*   Mutable (can be modified after they are created)\n",
        "*   \n",
        "\n"
      ],
      "metadata": {
        "id": "w6I_2FfQTDUy"
      }
    },
    {
      "cell_type": "markdown",
      "source": [
        "## ***Accessing***"
      ],
      "metadata": {
        "id": "5TvukJM7UsM-"
      }
    },
    {
      "cell_type": "markdown",
      "source": [
        "### ***Accessing Discrete elements of a list***"
      ],
      "metadata": {
        "id": "eNagkJQoVlfv"
      }
    },
    {
      "cell_type": "code",
      "execution_count": null,
      "metadata": {
        "colab": {
          "base_uri": "https://localhost:8080/"
        },
        "id": "TP_-oh7oSrnf",
        "outputId": "8cc03cb8-b3c8-4dad-b0f9-1af3c6ce2cca"
      },
      "outputs": [
        {
          "output_type": "stream",
          "name": "stdout",
          "text": [
            "apple\n"
          ]
        }
      ],
      "source": [
        "#Accessing Discrete elements of a list\n",
        "x=[\"apple\",\"banana\",\"Carrot\"]\n",
        "print(x[0])"
      ]
    },
    {
      "cell_type": "code",
      "source": [
        "print(x[0][0])\n",
        "print(x[2][4])"
      ],
      "metadata": {
        "colab": {
          "base_uri": "https://localhost:8080/"
        },
        "id": "bB6EiX_ITs6T",
        "outputId": "a1830d40-fa1d-427c-bb70-9b19306078bd"
      },
      "execution_count": null,
      "outputs": [
        {
          "output_type": "stream",
          "name": "stdout",
          "text": [
            "a\n",
            "o\n"
          ]
        }
      ]
    },
    {
      "cell_type": "markdown",
      "source": [
        "### ***Slicing - Access a range of index***"
      ],
      "metadata": {
        "id": "_uV3F3B_Vorh"
      }
    },
    {
      "cell_type": "code",
      "source": [
        "#Slicing - Access a range of index\n",
        "y=['apple',5,5,True,'25']\n",
        "print(y[1:4])\n",
        "print(y[2:])"
      ],
      "metadata": {
        "colab": {
          "base_uri": "https://localhost:8080/"
        },
        "id": "tkYBIBfcUxMS",
        "outputId": "2c1fb4bc-26f7-46fe-e3b9-13296bda7ff9"
      },
      "execution_count": null,
      "outputs": [
        {
          "output_type": "stream",
          "name": "stdout",
          "text": [
            "[5, 5, True]\n",
            "[5, True, '25']\n"
          ]
        }
      ]
    },
    {
      "cell_type": "markdown",
      "source": [
        "## ***Replacing elements***"
      ],
      "metadata": {
        "id": "VXVv6HqPVqbP"
      }
    },
    {
      "cell_type": "code",
      "source": [
        "y[2]=\"Newword\"\n",
        "print(y)"
      ],
      "metadata": {
        "colab": {
          "base_uri": "https://localhost:8080/"
        },
        "id": "54vweFqZVw-l",
        "outputId": "b80b5a44-e1b5-4048-8ec9-ff7355410a40"
      },
      "execution_count": null,
      "outputs": [
        {
          "output_type": "stream",
          "name": "stdout",
          "text": [
            "['apple', 5, 'Newword', True, '25']\n"
          ]
        }
      ]
    },
    {
      "cell_type": "markdown",
      "source": [
        "## ***Adding***"
      ],
      "metadata": {
        "id": "hb4dYMQQY_lc"
      }
    },
    {
      "cell_type": "markdown",
      "source": [
        "### ***Insert elements***"
      ],
      "metadata": {
        "id": "Bme_WjaGV-MV"
      }
    },
    {
      "cell_type": "code",
      "source": [
        "#Insert a new element a the specified index (existing elements will be pushed, and not deleted)\n",
        "y.insert(1,\"Inserted\")\n",
        "print(y)"
      ],
      "metadata": {
        "colab": {
          "base_uri": "https://localhost:8080/"
        },
        "id": "ScrddGDPWBAz",
        "outputId": "a692871f-491b-4a55-a1bb-526409ddd0bc"
      },
      "execution_count": null,
      "outputs": [
        {
          "output_type": "stream",
          "name": "stdout",
          "text": [
            "['apple', 'Inserted', 'Inserted', 5, 'Newword', True, '25', 'Hello']\n"
          ]
        }
      ]
    },
    {
      "cell_type": "markdown",
      "source": [
        "### ***Append elements***"
      ],
      "metadata": {
        "id": "pZhYl6kTW6CO"
      }
    },
    {
      "cell_type": "code",
      "source": [
        "#Insert at end (After the last element)\n",
        "y.append(\"Hello\")\n",
        "print(y)"
      ],
      "metadata": {
        "colab": {
          "base_uri": "https://localhost:8080/"
        },
        "id": "gibKseY-W7-A",
        "outputId": "383f9d30-024b-427e-d9e0-81f06f8e11d7"
      },
      "execution_count": null,
      "outputs": [
        {
          "output_type": "stream",
          "name": "stdout",
          "text": [
            "['apple', 'Inserted', 'Inserted', 5, 'Newword', True, '25', 'Hello', 'Hello']\n"
          ]
        }
      ]
    },
    {
      "cell_type": "markdown",
      "source": [
        "### ***Extend list***"
      ],
      "metadata": {
        "id": "nd7KUnLFXIEu"
      }
    },
    {
      "cell_type": "code",
      "source": [
        "#Append elements from another list\n",
        "x=[\"a\",3,False,\"Nicce\"]\n",
        "x.extend(y)\n",
        "print(x)"
      ],
      "metadata": {
        "colab": {
          "base_uri": "https://localhost:8080/"
        },
        "id": "uBx3PUOyXJ79",
        "outputId": "44faeb65-4da6-4741-f998-f51a3caf8ffa"
      },
      "execution_count": null,
      "outputs": [
        {
          "output_type": "stream",
          "name": "stdout",
          "text": [
            "['a', 3, False, 'Nicce', 'apple', 'Inserted', 'Inserted', 5, 'Newword', True, '25', 'Hello', 'Hello']\n"
          ]
        }
      ]
    },
    {
      "cell_type": "code",
      "source": [
        "lis1=[1,2,3]\n",
        "lis2=[4,5,6]\n",
        "\n",
        "lis1.extend(lis2)\n",
        "print(lis1)\n",
        "print(lis2)"
      ],
      "metadata": {
        "colab": {
          "base_uri": "https://localhost:8080/"
        },
        "id": "kJ4rV8LeYGCv",
        "outputId": "00b32a2d-6fd6-4f14-9e91-78df05d05491"
      },
      "execution_count": null,
      "outputs": [
        {
          "output_type": "stream",
          "name": "stdout",
          "text": [
            "[1, 2, 3, 4, 5, 6]\n",
            "[4, 5, 6]\n"
          ]
        }
      ]
    },
    {
      "cell_type": "markdown",
      "source": [
        "## ***Deleting***"
      ],
      "metadata": {
        "id": "FBe-LjbNZH_Y"
      }
    },
    {
      "cell_type": "markdown",
      "source": [
        "### ***Remove elements***"
      ],
      "metadata": {
        "id": "l2djhhamX6cK"
      }
    },
    {
      "cell_type": "code",
      "source": [
        "lis1.remove(2)\n",
        "print(lis1)"
      ],
      "metadata": {
        "colab": {
          "base_uri": "https://localhost:8080/"
        },
        "id": "f0nbPVrKYgHa",
        "outputId": "6606e43f-e05a-432e-bc23-0e5e90607488"
      },
      "execution_count": null,
      "outputs": [
        {
          "output_type": "stream",
          "name": "stdout",
          "text": [
            "[1, 3, 4, 5, 6]\n"
          ]
        }
      ]
    },
    {
      "cell_type": "markdown",
      "source": [
        "### ***Pop elements***"
      ],
      "metadata": {
        "id": "quS8xrxKY4iB"
      }
    },
    {
      "cell_type": "code",
      "source": [
        "#Give the index of the element to delete\n",
        "lis1.pop(0)\n",
        "print(lis1)"
      ],
      "metadata": {
        "colab": {
          "base_uri": "https://localhost:8080/"
        },
        "id": "txxkwe4cY7o0",
        "outputId": "46e62b66-7d44-4d9a-df23-87885af12d27"
      },
      "execution_count": null,
      "outputs": [
        {
          "output_type": "stream",
          "name": "stdout",
          "text": [
            "[3, 4, 5, 6]\n"
          ]
        }
      ]
    },
    {
      "cell_type": "markdown",
      "source": [
        "### ***Clear the entire list***"
      ],
      "metadata": {
        "id": "A2gIvRevZmXX"
      }
    },
    {
      "cell_type": "code",
      "source": [
        "lis2.clear()\n",
        "print(lis2)"
      ],
      "metadata": {
        "colab": {
          "base_uri": "https://localhost:8080/"
        },
        "id": "W3v-De5aZqFt",
        "outputId": "f9e92b9b-ec48-409e-96fa-4b1fd6e3a518"
      },
      "execution_count": null,
      "outputs": [
        {
          "output_type": "stream",
          "name": "stdout",
          "text": [
            "[]\n"
          ]
        }
      ]
    },
    {
      "cell_type": "markdown",
      "source": [
        "## ***Sorting***"
      ],
      "metadata": {
        "id": "aIv7OlACa3OB"
      }
    },
    {
      "cell_type": "markdown",
      "source": [
        "### ***Sorting list of strings alphabetically***"
      ],
      "metadata": {
        "id": "VUFXDJ5Na6U5"
      }
    },
    {
      "cell_type": "code",
      "source": [
        "lis3=[\"kite\",\"banana\",\"M\",\"apple\"]\n",
        "lis3.sort()\n",
        "print(lis3)"
      ],
      "metadata": {
        "colab": {
          "base_uri": "https://localhost:8080/"
        },
        "id": "XNuY5A5fa9P3",
        "outputId": "05535870-46cf-408d-8b49-c7926fb24b51"
      },
      "execution_count": null,
      "outputs": [
        {
          "output_type": "stream",
          "name": "stdout",
          "text": [
            "['M', 'apple', 'banana', 'kite']\n"
          ]
        }
      ]
    },
    {
      "cell_type": "markdown",
      "source": [
        "### ***Sorting list of numbers in Ascending order***"
      ],
      "metadata": {
        "id": "Ls-OtvifcJjr"
      }
    },
    {
      "cell_type": "code",
      "source": [
        "list4=[54,8,43,76,46,7.6,42,5,8,43,756,8,43,3,0.76,9,43]\n",
        "list4.sort()\n",
        "print(list4)"
      ],
      "metadata": {
        "colab": {
          "base_uri": "https://localhost:8080/"
        },
        "id": "p15iE6KabhsS",
        "outputId": "d866d4cb-c339-4ebd-af89-32cf1afef75b"
      },
      "execution_count": null,
      "outputs": [
        {
          "output_type": "stream",
          "name": "stdout",
          "text": [
            "[0.76, 3, 5, 7.6, 8, 8, 8, 9, 42, 43, 43, 43, 43, 46, 54, 76, 756]\n"
          ]
        }
      ]
    },
    {
      "cell_type": "markdown",
      "source": [
        "### ***Sorting list in reverse order/Descending order***"
      ],
      "metadata": {
        "id": "WzIjYdqAcRW1"
      }
    },
    {
      "cell_type": "code",
      "source": [
        "list4.sort(reverse=True)\n",
        "print(list4)"
      ],
      "metadata": {
        "colab": {
          "base_uri": "https://localhost:8080/"
        },
        "id": "R7QWfA57b2fs",
        "outputId": "6ee6aff8-4a34-4e6d-de6d-6846218e476c"
      },
      "execution_count": null,
      "outputs": [
        {
          "output_type": "stream",
          "name": "stdout",
          "text": [
            "[756, 76, 54, 46, 43, 43, 43, 43, 42, 9, 8, 8, 8, 7.6, 5, 3, 0.76]\n"
          ]
        }
      ]
    },
    {
      "cell_type": "markdown",
      "source": [
        "### ***Non-homogeneous sorting gives error***"
      ],
      "metadata": {
        "id": "s93kW2Sycfcf"
      }
    },
    {
      "cell_type": "code",
      "source": [
        "lis4=[\"kite\",\"banana\",\"M\",\"apple\",1,5,2,True,False]\n",
        "lis4.sort()\n",
        "print(lis4)"
      ],
      "metadata": {
        "colab": {
          "base_uri": "https://localhost:8080/",
          "height": 210
        },
        "id": "aQ8PLvUVbXts",
        "outputId": "dac3d466-a73a-4bdc-b369-2641d38c248e"
      },
      "execution_count": null,
      "outputs": [
        {
          "output_type": "error",
          "ename": "TypeError",
          "evalue": "ignored",
          "traceback": [
            "\u001b[0;31m---------------------------------------------------------------------------\u001b[0m",
            "\u001b[0;31mTypeError\u001b[0m                                 Traceback (most recent call last)",
            "\u001b[0;32m<ipython-input-51-aa3db979568c>\u001b[0m in \u001b[0;36m<cell line: 2>\u001b[0;34m()\u001b[0m\n\u001b[1;32m      1\u001b[0m \u001b[0mlis4\u001b[0m\u001b[0;34m=\u001b[0m\u001b[0;34m[\u001b[0m\u001b[0;34m\"kite\"\u001b[0m\u001b[0;34m,\u001b[0m\u001b[0;34m\"banana\"\u001b[0m\u001b[0;34m,\u001b[0m\u001b[0;34m\"M\"\u001b[0m\u001b[0;34m,\u001b[0m\u001b[0;34m\"apple\"\u001b[0m\u001b[0;34m,\u001b[0m\u001b[0;36m1\u001b[0m\u001b[0;34m,\u001b[0m\u001b[0;36m5\u001b[0m\u001b[0;34m,\u001b[0m\u001b[0;36m2\u001b[0m\u001b[0;34m,\u001b[0m\u001b[0;32mTrue\u001b[0m\u001b[0;34m,\u001b[0m\u001b[0;32mFalse\u001b[0m\u001b[0;34m]\u001b[0m\u001b[0;34m\u001b[0m\u001b[0;34m\u001b[0m\u001b[0m\n\u001b[0;32m----> 2\u001b[0;31m \u001b[0mlis4\u001b[0m\u001b[0;34m.\u001b[0m\u001b[0msort\u001b[0m\u001b[0;34m(\u001b[0m\u001b[0;34m)\u001b[0m\u001b[0;34m\u001b[0m\u001b[0;34m\u001b[0m\u001b[0m\n\u001b[0m\u001b[1;32m      3\u001b[0m \u001b[0mprint\u001b[0m\u001b[0;34m(\u001b[0m\u001b[0mlis4\u001b[0m\u001b[0;34m)\u001b[0m\u001b[0;34m\u001b[0m\u001b[0;34m\u001b[0m\u001b[0m\n",
            "\u001b[0;31mTypeError\u001b[0m: '<' not supported between instances of 'int' and 'str'"
          ]
        }
      ]
    },
    {
      "cell_type": "markdown",
      "source": [
        "## ***Copy list***"
      ],
      "metadata": {
        "id": "_EQEtYv9cqrL"
      }
    },
    {
      "cell_type": "code",
      "source": [
        "#Create and new list and copy the entire content of other list to it\n",
        "print(lis4)\n",
        "lis5=lis4.copy()\n",
        "print(lis5)"
      ],
      "metadata": {
        "colab": {
          "base_uri": "https://localhost:8080/"
        },
        "id": "RhvzdX3Vcuj7",
        "outputId": "9e2fb8ce-8efd-4174-f9bc-42dc9282623b"
      },
      "execution_count": null,
      "outputs": [
        {
          "output_type": "stream",
          "name": "stdout",
          "text": [
            "['M', 'apple', 'banana', 'kite', 1, 5, 2, True, False]\n",
            "['M', 'apple', 'banana', 'kite', 1, 5, 2, True, False]\n"
          ]
        }
      ]
    },
    {
      "cell_type": "markdown",
      "source": [
        "# ***Tuple***"
      ],
      "metadata": {
        "id": "S1RsCRXBdgi8"
      }
    },
    {
      "cell_type": "markdown",
      "source": [
        "Collection of items enclosed in paranthesis ( )\n",
        "* Ordered, can be of any type\n",
        "* Immutable (items cannot be modified after they are created)"
      ],
      "metadata": {
        "id": "yvyLsxGQdlGD"
      }
    },
    {
      "cell_type": "markdown",
      "source": [
        "## ***Access a range of Index***"
      ],
      "metadata": {
        "id": "m4Befd1dfIeh"
      }
    },
    {
      "cell_type": "code",
      "source": [
        "tup1=(\"kaggle\",3,True,'n')\n",
        "print(tup1)\n",
        "print(tup1[1:3])"
      ],
      "metadata": {
        "colab": {
          "base_uri": "https://localhost:8080/"
        },
        "id": "wC-E2iPAd6bD",
        "outputId": "7d0929cc-5273-4840-9190-5910fad3d60a"
      },
      "execution_count": null,
      "outputs": [
        {
          "output_type": "stream",
          "name": "stdout",
          "text": [
            "('kaggle', 3, True, 'n')\n",
            "(3, True)\n"
          ]
        }
      ]
    },
    {
      "cell_type": "markdown",
      "source": [
        "## ***Adding elements to a tuple***"
      ],
      "metadata": {
        "id": "wLS3tilof4Ht"
      }
    },
    {
      "cell_type": "code",
      "source": [
        "#Tuple is Immutable\n",
        "tup1[2]=False"
      ],
      "metadata": {
        "colab": {
          "base_uri": "https://localhost:8080/",
          "height": 193
        },
        "id": "YlFg3wpOefvK",
        "outputId": "44978655-fa13-4ed3-cec9-2af0b8e6cd6e"
      },
      "execution_count": null,
      "outputs": [
        {
          "output_type": "error",
          "ename": "TypeError",
          "evalue": "ignored",
          "traceback": [
            "\u001b[0;31m---------------------------------------------------------------------------\u001b[0m",
            "\u001b[0;31mTypeError\u001b[0m                                 Traceback (most recent call last)",
            "\u001b[0;32m<ipython-input-74-ddb254756882>\u001b[0m in \u001b[0;36m<cell line: 2>\u001b[0;34m()\u001b[0m\n\u001b[1;32m      1\u001b[0m \u001b[0;31m#Tuple is Immutable\u001b[0m\u001b[0;34m\u001b[0m\u001b[0;34m\u001b[0m\u001b[0m\n\u001b[0;32m----> 2\u001b[0;31m \u001b[0mtup1\u001b[0m\u001b[0;34m[\u001b[0m\u001b[0;36m2\u001b[0m\u001b[0;34m]\u001b[0m\u001b[0;34m=\u001b[0m\u001b[0;32mFalse\u001b[0m\u001b[0;34m\u001b[0m\u001b[0;34m\u001b[0m\u001b[0m\n\u001b[0m",
            "\u001b[0;31mTypeError\u001b[0m: 'tuple' object does not support item assignment"
          ]
        }
      ]
    },
    {
      "cell_type": "markdown",
      "source": [
        "If we want to change the content of tuple anyway, we have to first convert it to list, change the content, and the convert back to tuple"
      ],
      "metadata": {
        "id": "UhtqjHDteux5"
      }
    },
    {
      "cell_type": "markdown",
      "source": [
        "### ***Converting Tuple to list***"
      ],
      "metadata": {
        "id": "gQYY4FEJe3yJ"
      }
    },
    {
      "cell_type": "code",
      "source": [
        "tup1"
      ],
      "metadata": {
        "colab": {
          "base_uri": "https://localhost:8080/"
        },
        "id": "vsfPXd97e29S",
        "outputId": "dad62eaa-32b0-4924-c3d2-5cd384c78d41"
      },
      "execution_count": null,
      "outputs": [
        {
          "output_type": "execute_result",
          "data": {
            "text/plain": [
              "('kaggle', 3, True, 'n')"
            ]
          },
          "metadata": {},
          "execution_count": 75
        }
      ]
    },
    {
      "cell_type": "code",
      "source": [
        "lis1=list(tup1)\n",
        "print(lis1)"
      ],
      "metadata": {
        "colab": {
          "base_uri": "https://localhost:8080/"
        },
        "id": "VRTnhdpkgctV",
        "outputId": "cf1e1c18-b751-4efe-bf97-b15de762458e"
      },
      "execution_count": null,
      "outputs": [
        {
          "output_type": "stream",
          "name": "stdout",
          "text": [
            "['kaggle', 3, True, 'n']\n"
          ]
        }
      ]
    },
    {
      "cell_type": "markdown",
      "source": [
        "### ***Add elements to the converted list***"
      ],
      "metadata": {
        "id": "EdShXtUCgVPF"
      }
    },
    {
      "cell_type": "code",
      "source": [
        "lis1.append(\"karthik\")\n",
        "print(lis1)"
      ],
      "metadata": {
        "colab": {
          "base_uri": "https://localhost:8080/"
        },
        "id": "QQ6_x4hTfldu",
        "outputId": "bbb13b63-c0ae-412a-9390-3ec196a3ee9d"
      },
      "execution_count": null,
      "outputs": [
        {
          "output_type": "stream",
          "name": "stdout",
          "text": [
            "['kaggle', 3, True, 'n', 'karthik']\n"
          ]
        }
      ]
    },
    {
      "cell_type": "code",
      "source": [
        "lis1[2]=\"Newword\"\n",
        "print(lis1)"
      ],
      "metadata": {
        "colab": {
          "base_uri": "https://localhost:8080/"
        },
        "id": "uA2vSClKgmZ2",
        "outputId": "b8b43683-089d-4cd9-8b1a-86f0f26d0ff9"
      },
      "execution_count": null,
      "outputs": [
        {
          "output_type": "stream",
          "name": "stdout",
          "text": [
            "['kaggle', 3, 'Newword', 'n', 'karthik']\n"
          ]
        }
      ]
    },
    {
      "cell_type": "markdown",
      "source": [
        "### ***Converting List to Tuple***"
      ],
      "metadata": {
        "id": "irWgatQVf-oI"
      }
    },
    {
      "cell_type": "code",
      "source": [
        "tup1=tuple(lis1)\n",
        "print(tup1)"
      ],
      "metadata": {
        "colab": {
          "base_uri": "https://localhost:8080/"
        },
        "id": "8GXQ_GW2fq2O",
        "outputId": "3c932b5a-ebe8-4146-a3ad-c6a734b24331"
      },
      "execution_count": null,
      "outputs": [
        {
          "output_type": "stream",
          "name": "stdout",
          "text": [
            "('kaggle', 3, 'Newword', 'n', 'karthik')\n"
          ]
        }
      ]
    },
    {
      "cell_type": "markdown",
      "source": [
        "## ***Deleting elements from a tuple***"
      ],
      "metadata": {
        "id": "t6ZKpyAShcWm"
      }
    },
    {
      "cell_type": "markdown",
      "source": [
        "If we want to change the content of tuple anyway, we have to first convert it to list, change the content, and the convert back to tuple"
      ],
      "metadata": {
        "id": "FCL1_qj2hcW8"
      }
    },
    {
      "cell_type": "code",
      "source": [
        "tup2=(5,'k',\"Malibu\",34.65,False,\"Abcd\")\n",
        "print(tup2)"
      ],
      "metadata": {
        "colab": {
          "base_uri": "https://localhost:8080/"
        },
        "outputId": "9eecbd18-071d-4ede-e27a-58ec4048b6f8",
        "id": "uVErHwJzhcW9"
      },
      "execution_count": null,
      "outputs": [
        {
          "output_type": "stream",
          "name": "stdout",
          "text": [
            "(5, 'k', 'Malibu', 34.65, False, 'Abcd')\n"
          ]
        }
      ]
    },
    {
      "cell_type": "markdown",
      "source": [
        "### ***Converting Tuple to list***"
      ],
      "metadata": {
        "id": "ZSRZiMn6hcW8"
      }
    },
    {
      "cell_type": "code",
      "source": [
        "lis2=list(tup2)\n",
        "print(lis2)"
      ],
      "metadata": {
        "colab": {
          "base_uri": "https://localhost:8080/"
        },
        "outputId": "6e5865e3-d093-4d31-c1f4-592a659ac6e3",
        "id": "_-jOXYBFhcW-"
      },
      "execution_count": null,
      "outputs": [
        {
          "output_type": "stream",
          "name": "stdout",
          "text": [
            "[5, 'k', 'Malibu', 34.65, False, 'Abcd']\n"
          ]
        }
      ]
    },
    {
      "cell_type": "markdown",
      "source": [
        "### ***Delete elements from the converted list***"
      ],
      "metadata": {
        "id": "2SWe7kjShcW-"
      }
    },
    {
      "cell_type": "code",
      "source": [
        "lis2.remove(False)\n",
        "print(lis2)"
      ],
      "metadata": {
        "colab": {
          "base_uri": "https://localhost:8080/"
        },
        "outputId": "e6297c5c-5f20-445e-ebe3-aa67b5498df0",
        "id": "N_eO4d28hcW_"
      },
      "execution_count": null,
      "outputs": [
        {
          "output_type": "stream",
          "name": "stdout",
          "text": [
            "[5, 'k', 'Malibu', 34.65, 'Abcd']\n"
          ]
        }
      ]
    },
    {
      "cell_type": "code",
      "source": [
        "lis2.pop(4)\n",
        "print(lis2)"
      ],
      "metadata": {
        "colab": {
          "base_uri": "https://localhost:8080/"
        },
        "outputId": "c4eb3396-e2a4-4c8c-a5ad-4d38f39c29a0",
        "id": "uVR4etrYhcW_"
      },
      "execution_count": null,
      "outputs": [
        {
          "output_type": "stream",
          "name": "stdout",
          "text": [
            "[5, 'k', 'Malibu', 34.65]\n"
          ]
        }
      ]
    },
    {
      "cell_type": "markdown",
      "source": [
        "### ***Converting List to Tuple***"
      ],
      "metadata": {
        "id": "33t9LVjyhcXA"
      }
    },
    {
      "cell_type": "code",
      "source": [
        "tup2=tuple(lis2)\n",
        "print(tup2)"
      ],
      "metadata": {
        "colab": {
          "base_uri": "https://localhost:8080/"
        },
        "outputId": "313233ec-47b3-45c6-f00b-ece5cd04f5f9",
        "id": "uWsZnfouhcXA"
      },
      "execution_count": null,
      "outputs": [
        {
          "output_type": "stream",
          "name": "stdout",
          "text": [
            "(5, 'k', 'Malibu', 34.65)\n"
          ]
        }
      ]
    },
    {
      "cell_type": "markdown",
      "source": [
        "## ***Combine multiple tuples***"
      ],
      "metadata": {
        "id": "hrKrNxX0iS8u"
      }
    },
    {
      "cell_type": "code",
      "source": [
        "#Similar to list concatenate\n",
        "tup3=('a',\"Bc\",123)\n",
        "tup4=(456,\"DEFG<\",'z')\n",
        "tupx=tup3+tup4\n",
        "print(tupx)"
      ],
      "metadata": {
        "colab": {
          "base_uri": "https://localhost:8080/"
        },
        "id": "0N4qATcfiWlQ",
        "outputId": "579b25bb-2186-4e9c-8550-50fd6ff8314c"
      },
      "execution_count": null,
      "outputs": [
        {
          "output_type": "stream",
          "name": "stdout",
          "text": [
            "('a', 'Bc', 123, 456, 'DEFG<', 'z')\n"
          ]
        }
      ]
    },
    {
      "cell_type": "code",
      "source": [
        "tupy=tup3+tup4+tup3\n",
        "print(tupy)"
      ],
      "metadata": {
        "colab": {
          "base_uri": "https://localhost:8080/"
        },
        "id": "fMQm0NidiwHr",
        "outputId": "26db0293-bf24-4b4f-cc6f-08643d003109"
      },
      "execution_count": null,
      "outputs": [
        {
          "output_type": "stream",
          "name": "stdout",
          "text": [
            "('a', 'Bc', 123, 456, 'DEFG<', 'z', 'a', 'Bc', 123)\n"
          ]
        }
      ]
    },
    {
      "cell_type": "markdown",
      "source": [
        "# ***Set***"
      ],
      "metadata": {
        "id": "095bQs76jmyS"
      }
    },
    {
      "cell_type": "markdown",
      "source": [
        "Collection of unique items enclosed in { }\n",
        "* No defined order, can be of any type\n",
        "* sets are mutable\n",
        "* Duplicates not allowed (first duplicate declared is retained)"
      ],
      "metadata": {
        "id": "eMoTDckc2y2H"
      }
    },
    {
      "cell_type": "code",
      "source": [
        "#Unordered, No duplicates allowed\n",
        "set1={\"apple\",34,True,\"apple\"}\n",
        "print(set1)"
      ],
      "metadata": {
        "colab": {
          "base_uri": "https://localhost:8080/"
        },
        "id": "Fswclvod3t8w",
        "outputId": "f8ea780f-f44c-477d-e63b-d8aa0571f41d"
      },
      "execution_count": 1,
      "outputs": [
        {
          "output_type": "stream",
          "name": "stdout",
          "text": [
            "{True, 34, 'apple'}\n"
          ]
        }
      ]
    },
    {
      "cell_type": "code",
      "source": [
        "set1={\"apple\",34,True,\"castle\",1}\n",
        "print(set1)\n",
        "# 1 corresponds to True\n",
        "# 0 corresponds to false"
      ],
      "metadata": {
        "colab": {
          "base_uri": "https://localhost:8080/"
        },
        "id": "pLTsGE-U3-em",
        "outputId": "b50d1f27-9b65-4db6-a7b2-937499adac6c"
      },
      "execution_count": 4,
      "outputs": [
        {
          "output_type": "stream",
          "name": "stdout",
          "text": [
            "{True, 34, 'apple', 'castle'}\n"
          ]
        }
      ]
    },
    {
      "cell_type": "markdown",
      "source": [
        "## ***Adding elements***"
      ],
      "metadata": {
        "id": "76w3QgGR4X0O"
      }
    },
    {
      "cell_type": "code",
      "source": [
        "#use Add method\n",
        "set1.add(567)\n",
        "print(set1)"
      ],
      "metadata": {
        "colab": {
          "base_uri": "https://localhost:8080/"
        },
        "id": "IBFHouQO4bgV",
        "outputId": "60c80de0-50f0-4189-d222-0bf3f617c574"
      },
      "execution_count": 5,
      "outputs": [
        {
          "output_type": "stream",
          "name": "stdout",
          "text": [
            "{True, 34, 'castle', 'apple', 567}\n"
          ]
        }
      ]
    },
    {
      "cell_type": "markdown",
      "source": [
        "## ***Update set***"
      ],
      "metadata": {
        "id": "_PbvAzCc4shN"
      }
    },
    {
      "cell_type": "code",
      "source": [
        "# Use update method to combine two sets\n",
        "print(set1)\n",
        "set2={5436,\"caller\",354,False}\n",
        "set2.update(set1)\n",
        "print(set2)"
      ],
      "metadata": {
        "colab": {
          "base_uri": "https://localhost:8080/"
        },
        "id": "AcbLPiv_4wDh",
        "outputId": "e9b980f5-3156-4b25-c41b-9fe49fb19761"
      },
      "execution_count": 18,
      "outputs": [
        {
          "output_type": "stream",
          "name": "stdout",
          "text": [
            "{True, 34, 'castle', 'apple', 567}\n",
            "{False, 'caller', 354, True, 34, 'castle', 'apple', 567, 5436}\n"
          ]
        }
      ]
    },
    {
      "cell_type": "markdown",
      "source": [
        "## ***Deleting elements***"
      ],
      "metadata": {
        "id": "n3wRVdy05J4z"
      }
    },
    {
      "cell_type": "code",
      "source": [
        "#Use remove method to remove specific item from a set\n",
        "set2.remove(354)\n",
        "print(set2)"
      ],
      "metadata": {
        "colab": {
          "base_uri": "https://localhost:8080/"
        },
        "id": "tGSOekDQ5Mnc",
        "outputId": "fbb2f0ae-487d-44a9-f78d-6feffb41ac6b"
      },
      "execution_count": 7,
      "outputs": [
        {
          "output_type": "stream",
          "name": "stdout",
          "text": [
            "{False, 'caller', True, 34, 'castle', 'apple', 567, 5436}\n"
          ]
        }
      ]
    },
    {
      "cell_type": "markdown",
      "source": [
        "## ***Operations on sets***"
      ],
      "metadata": {
        "id": "4QniOZFP7hgr"
      }
    },
    {
      "cell_type": "markdown",
      "source": [
        "Following operations return the set of corresponding operations"
      ],
      "metadata": {
        "id": "NhG4qBOo8qrd"
      }
    },
    {
      "cell_type": "markdown",
      "source": [
        "### ***Difference (A - B)***"
      ],
      "metadata": {
        "id": "nMHXWvrY5fUJ"
      }
    },
    {
      "cell_type": "code",
      "source": [
        "# To find the value exsting in first set alone\n",
        "set3={34,567,\"caller\",\"something\",False,'f'}\n",
        "print(set2.difference(set3))"
      ],
      "metadata": {
        "colab": {
          "base_uri": "https://localhost:8080/"
        },
        "id": "HnJxXUbx5iqW",
        "outputId": "fde954df-7773-4fb5-d441-d529791d7201"
      },
      "execution_count": 8,
      "outputs": [
        {
          "output_type": "stream",
          "name": "stdout",
          "text": [
            "{True, 'apple', 'castle', 5436}\n"
          ]
        }
      ]
    },
    {
      "cell_type": "code",
      "source": [
        "x={1,2,3,4,5,6,7,8,9,10}\n",
        "y={2,4,6,8,10,12,14,16,18,20}\n",
        "print(x.difference(y))\n",
        "# setx-sety"
      ],
      "metadata": {
        "colab": {
          "base_uri": "https://localhost:8080/"
        },
        "id": "rO53arfr5811",
        "outputId": "ad9db080-64a1-4b84-9cbd-689e156684a7"
      },
      "execution_count": 11,
      "outputs": [
        {
          "output_type": "stream",
          "name": "stdout",
          "text": [
            "{1, 3, 5, 7, 9}\n"
          ]
        }
      ]
    },
    {
      "cell_type": "markdown",
      "source": [
        "### ***Intersection (A n B)***"
      ],
      "metadata": {
        "id": "UAvIVmfw6Wl0"
      }
    },
    {
      "cell_type": "code",
      "source": [
        "# Find common values of two sets\n",
        "print(x.intersection(y))\n",
        "# setx n sety"
      ],
      "metadata": {
        "colab": {
          "base_uri": "https://localhost:8080/"
        },
        "id": "PQPqbGva6ZNH",
        "outputId": "1cd90628-04a4-4b12-8657-a47eec367508"
      },
      "execution_count": 13,
      "outputs": [
        {
          "output_type": "stream",
          "name": "stdout",
          "text": [
            "{2, 4, 6, 8, 10}\n"
          ]
        }
      ]
    },
    {
      "cell_type": "markdown",
      "source": [
        "### ***Symmetric difference (A n B)'***"
      ],
      "metadata": {
        "id": "kBXUGsee6l58"
      }
    },
    {
      "cell_type": "code",
      "source": [
        "#All the itens that are not common to both\n",
        "print(x.symmetric_difference(y))\n",
        "# complement(setx n sety)"
      ],
      "metadata": {
        "colab": {
          "base_uri": "https://localhost:8080/"
        },
        "id": "nIczabiQ6o-V",
        "outputId": "a5012922-0c6e-4e86-b326-e1e7d0186bad"
      },
      "execution_count": 15,
      "outputs": [
        {
          "output_type": "stream",
          "name": "stdout",
          "text": [
            "{1, 3, 5, 7, 9, 12, 14, 16, 18, 20}\n"
          ]
        }
      ]
    },
    {
      "cell_type": "markdown",
      "source": [
        "# ***Dictionary***"
      ],
      "metadata": {
        "id": "8H2ucQa382k1"
      }
    },
    {
      "cell_type": "markdown",
      "source": [
        "Collection of key-value pairs enclosed in { }\n",
        "* Mutable (key-value pairs can be added, removed, modified after they are created)\n",
        "* Duplicates not allowed (latest value is overwritten over old one)"
      ],
      "metadata": {
        "id": "GEpFRpQN86lM"
      }
    },
    {
      "cell_type": "code",
      "source": [
        "dict1={\n",
        "    \"name\":\"John\",\n",
        "    \"place\":\"Delhi\",\n",
        "    4:\"four\",\n",
        "    \"RNo.\":47,\n",
        "    \"place\":\"Hubli\",  #Duplicates of key not allowed, latest is updated\n",
        "    \"PetName\":\"John\",  #value can be duplicated\n",
        "    \"18+\":True,        #All datatypes are valid\n",
        "    \"Languages\":[\"English\",\"Marathi\",\"Hindi\"]\n",
        "}\n",
        "print(dict1)"
      ],
      "metadata": {
        "colab": {
          "base_uri": "https://localhost:8080/"
        },
        "id": "hHFOsrl09k65",
        "outputId": "68218f94-b56c-4813-9b5b-ba1135b03ffd"
      },
      "execution_count": 53,
      "outputs": [
        {
          "output_type": "stream",
          "name": "stdout",
          "text": [
            "{'name': 'John', 'place': 'Hubli', 4: 'four', 'RNo.': 47, 'PetName': 'John', '18+': True, 'Languages': ['English', 'Marathi', 'Hindi']}\n"
          ]
        }
      ]
    },
    {
      "cell_type": "markdown",
      "source": [
        "## ***Accessing***"
      ],
      "metadata": {
        "id": "FquoulAu85xE"
      }
    },
    {
      "cell_type": "markdown",
      "source": [
        "### ***Accessing values***"
      ],
      "metadata": {
        "id": "9vytMO3HAFcM"
      }
    },
    {
      "cell_type": "markdown",
      "source": [
        "#### ***using key as index value***"
      ],
      "metadata": {
        "id": "o0eimGc0BJ2A"
      }
    },
    {
      "cell_type": "code",
      "source": [
        "print(dict1[\"name\"])"
      ],
      "metadata": {
        "colab": {
          "base_uri": "https://localhost:8080/"
        },
        "id": "LJt-0TEw-ptZ",
        "outputId": "1f0d0d5b-9a2a-45ff-e854-e6b4aff956e0"
      },
      "execution_count": 54,
      "outputs": [
        {
          "output_type": "stream",
          "name": "stdout",
          "text": [
            "John\n"
          ]
        }
      ]
    },
    {
      "cell_type": "code",
      "source": [
        "print(dict1[\"Languages\"])\n",
        "print(dict1[\"Languages\"][1])  #1st index element of list in dictionary\n",
        "print(dict1[\"Languages\"][0][4]) #letter at index4, of string-element at index0, of list \"Languages\", in dictionary dict1\n"
      ],
      "metadata": {
        "colab": {
          "base_uri": "https://localhost:8080/"
        },
        "id": "cpmvXBI3_GZ_",
        "outputId": "91a0fc5c-e72f-465e-dcf9-8a6f48c396d5"
      },
      "execution_count": 55,
      "outputs": [
        {
          "output_type": "stream",
          "name": "stdout",
          "text": [
            "['English', 'Marathi', 'Hindi']\n",
            "Marathi\n",
            "i\n"
          ]
        }
      ]
    },
    {
      "cell_type": "markdown",
      "source": [
        "#### ***using get method***"
      ],
      "metadata": {
        "id": "EC63P6dmBXL8"
      }
    },
    {
      "cell_type": "code",
      "source": [
        "# using .get method\n",
        "print(dict1.get(\"name\"))"
      ],
      "metadata": {
        "colab": {
          "base_uri": "https://localhost:8080/"
        },
        "id": "CZsCUPD5_2oG",
        "outputId": "ffdb58ad-34cd-4cce-c3da-d7dfa9765989"
      },
      "execution_count": 56,
      "outputs": [
        {
          "output_type": "stream",
          "name": "stdout",
          "text": [
            "John\n"
          ]
        }
      ]
    },
    {
      "cell_type": "markdown",
      "source": [
        "#### ***using values method***"
      ],
      "metadata": {
        "id": "QBqN4opIBec-"
      }
    },
    {
      "cell_type": "code",
      "source": [
        "print(dict1.values())"
      ],
      "metadata": {
        "colab": {
          "base_uri": "https://localhost:8080/"
        },
        "id": "AWUJyRk4AkRT",
        "outputId": "77def5b4-906e-48a2-f9e9-e0543e88a483"
      },
      "execution_count": 57,
      "outputs": [
        {
          "output_type": "stream",
          "name": "stdout",
          "text": [
            "dict_values(['John', 'Hubli', 'four', 47, 'John', True, ['English', 'Marathi', 'Hindi']])\n"
          ]
        }
      ]
    },
    {
      "cell_type": "markdown",
      "source": [
        "### ***Accessing keys***"
      ],
      "metadata": {
        "id": "UK44_RdEBCpX"
      }
    },
    {
      "cell_type": "code",
      "source": [
        "print(dict1.keys())"
      ],
      "metadata": {
        "colab": {
          "base_uri": "https://localhost:8080/"
        },
        "id": "nq7xGzLUAVg3",
        "outputId": "e1b3c4d1-16a1-48c5-a985-129b7b6b2892"
      },
      "execution_count": 58,
      "outputs": [
        {
          "output_type": "stream",
          "name": "stdout",
          "text": [
            "dict_keys(['name', 'place', 4, 'RNo.', 'PetName', '18+', 'Languages'])\n"
          ]
        }
      ]
    },
    {
      "cell_type": "markdown",
      "source": [
        "### ***Accessing Dictionary***"
      ],
      "metadata": {
        "id": "70wrVKFjBiKm"
      }
    },
    {
      "cell_type": "code",
      "source": [
        "print(dict1.items())"
      ],
      "metadata": {
        "colab": {
          "base_uri": "https://localhost:8080/"
        },
        "id": "usyyow71ApJr",
        "outputId": "d56bec5d-0c17-49a6-ea08-5be7e2f6cd52"
      },
      "execution_count": 59,
      "outputs": [
        {
          "output_type": "stream",
          "name": "stdout",
          "text": [
            "dict_items([('name', 'John'), ('place', 'Hubli'), (4, 'four'), ('RNo.', 47), ('PetName', 'John'), ('18+', True), ('Languages', ['English', 'Marathi', 'Hindi'])])\n"
          ]
        }
      ]
    },
    {
      "cell_type": "code",
      "source": [
        "print(dict1)"
      ],
      "metadata": {
        "colab": {
          "base_uri": "https://localhost:8080/"
        },
        "id": "zgOdy5zaBm6Y",
        "outputId": "6627444c-2a65-4aa0-92e5-bbfcf3657c6e"
      },
      "execution_count": 60,
      "outputs": [
        {
          "output_type": "stream",
          "name": "stdout",
          "text": [
            "{'name': 'John', 'place': 'Hubli', 4: 'four', 'RNo.': 47, 'PetName': 'John', '18+': True, 'Languages': ['English', 'Marathi', 'Hindi']}\n"
          ]
        }
      ]
    },
    {
      "cell_type": "markdown",
      "source": [
        "## ***Overwrite***"
      ],
      "metadata": {
        "id": "wBgug_SQB4Fe"
      }
    },
    {
      "cell_type": "markdown",
      "source": [
        "### ***Change value using key as index***"
      ],
      "metadata": {
        "id": "j9tm5sYSCFa-"
      }
    },
    {
      "cell_type": "code",
      "source": [
        "dict1[\"name\"]=\"Abhinav\"\n",
        "print(dict1)"
      ],
      "metadata": {
        "colab": {
          "base_uri": "https://localhost:8080/"
        },
        "id": "aXH8g4rCB7V8",
        "outputId": "f3b16841-ee13-4f4c-f8fe-66f294e2c6d4"
      },
      "execution_count": 61,
      "outputs": [
        {
          "output_type": "stream",
          "name": "stdout",
          "text": [
            "{'name': 'Abhinav', 'place': 'Hubli', 4: 'four', 'RNo.': 47, 'PetName': 'John', '18+': True, 'Languages': ['English', 'Marathi', 'Hindi']}\n"
          ]
        }
      ]
    },
    {
      "cell_type": "markdown",
      "source": [
        "### ***Update Method***"
      ],
      "metadata": {
        "id": "Z6c_n9YQCRYY"
      }
    },
    {
      "cell_type": "code",
      "source": [
        "#key:value pair must be mentioned in { }\n",
        "# i.e. Dictionary must be passed\n",
        "dict1.update({'RNo.':248})\n",
        "print(dict1)"
      ],
      "metadata": {
        "colab": {
          "base_uri": "https://localhost:8080/"
        },
        "id": "ToAcMzmACV91",
        "outputId": "3073e40e-3ecc-4d8a-d10a-35fa6c1c9214"
      },
      "execution_count": 62,
      "outputs": [
        {
          "output_type": "stream",
          "name": "stdout",
          "text": [
            "{'name': 'Abhinav', 'place': 'Hubli', 4: 'four', 'RNo.': 248, 'PetName': 'John', '18+': True, 'Languages': ['English', 'Marathi', 'Hindi']}\n"
          ]
        }
      ]
    },
    {
      "cell_type": "code",
      "source": [
        "dict1.update({'place':\"Belgaum\",4:\"Chaar\"})\n",
        "print(dict1)"
      ],
      "metadata": {
        "colab": {
          "base_uri": "https://localhost:8080/"
        },
        "id": "pp_tkv28C06R",
        "outputId": "0e4c2950-cbc7-42a7-831e-701f75ba7e23"
      },
      "execution_count": 63,
      "outputs": [
        {
          "output_type": "stream",
          "name": "stdout",
          "text": [
            "{'name': 'Abhinav', 'place': 'Belgaum', 4: 'Chaar', 'RNo.': 248, 'PetName': 'John', '18+': True, 'Languages': ['English', 'Marathi', 'Hindi']}\n"
          ]
        }
      ]
    },
    {
      "cell_type": "code",
      "source": [
        "#Appending to list in dictionary\n",
        "dict1['Languages'].append(\"Kannada\")\n",
        "print(dict1)"
      ],
      "metadata": {
        "colab": {
          "base_uri": "https://localhost:8080/"
        },
        "id": "aTrQQ5zvDDUx",
        "outputId": "1ce74b38-9002-4564-ed5a-813f4c26a147"
      },
      "execution_count": 64,
      "outputs": [
        {
          "output_type": "stream",
          "name": "stdout",
          "text": [
            "{'name': 'Abhinav', 'place': 'Belgaum', 4: 'Chaar', 'RNo.': 248, 'PetName': 'John', '18+': True, 'Languages': ['English', 'Marathi', 'Hindi', 'Kannada']}\n"
          ]
        }
      ]
    },
    {
      "cell_type": "markdown",
      "source": [
        "## ***Deleting***"
      ],
      "metadata": {
        "id": "HHHd79hSD9O7"
      }
    },
    {
      "cell_type": "markdown",
      "source": [
        "### ***Removing key-value pairs using pop() method***"
      ],
      "metadata": {
        "id": "8hoyS38FEA1C"
      }
    },
    {
      "cell_type": "code",
      "source": [
        "#Give the key as parameter to pop method\n",
        "dict1.pop(4)\n",
        "print(dict1)"
      ],
      "metadata": {
        "colab": {
          "base_uri": "https://localhost:8080/"
        },
        "id": "I3NsrB5IEFVR",
        "outputId": "5d19d2b6-c1d9-4d3f-ae78-9849155a1cab"
      },
      "execution_count": 65,
      "outputs": [
        {
          "output_type": "stream",
          "name": "stdout",
          "text": [
            "{'name': 'Abhinav', 'place': 'Belgaum', 'RNo.': 248, 'PetName': 'John', '18+': True, 'Languages': ['English', 'Marathi', 'Hindi', 'Kannada']}\n"
          ]
        }
      ]
    },
    {
      "cell_type": "markdown",
      "source": [
        "## ***Nested Dictionary***"
      ],
      "metadata": {
        "id": "Pg3baAA0Eesy"
      }
    },
    {
      "cell_type": "code",
      "source": [
        "myFamily={\n",
        "    \"Wife\":{\n",
        "        \"name\":\"Hema\",\n",
        "        \"Birthday\":15,\n",
        "        \"MarriedOn\":1996\n",
        "    },\n",
        "    \"Child1\":{\n",
        "        \"name\":\"Mitali\",\n",
        "        \"YOB\":1998\n",
        "    },\n",
        "    \"Child2\":{\n",
        "        \"name\":\"Abhinav\",\n",
        "        \"YOB\":2003\n",
        "    },\n",
        "    \"Dog\":\"Bhow-Bhow\",\n",
        "    \"Cat\":\"Dead\"\n",
        "}\n",
        "print(myFamily)"
      ],
      "metadata": {
        "colab": {
          "base_uri": "https://localhost:8080/"
        },
        "id": "MjGCc_ZKEhZz",
        "outputId": "f5885ab1-40ee-4263-fc5c-66b4b27b7adf"
      },
      "execution_count": 72,
      "outputs": [
        {
          "output_type": "stream",
          "name": "stdout",
          "text": [
            "{'Wife': {'name': 'Hema', 'Birthday': 15, 'MarriedOn': 1996}, 'Child1': {'name': 'Mitali', 'YOB': 1998}, 'Child2': {'name': 'Abhinav', 'YOB': 2003}, 'Dog': 'Bhow-Bhow', 'Cat': 'Dead'}\n"
          ]
        }
      ]
    }
  ]
}