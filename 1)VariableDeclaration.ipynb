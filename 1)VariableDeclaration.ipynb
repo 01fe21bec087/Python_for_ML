{
  "nbformat": 4,
  "nbformat_minor": 0,
  "metadata": {
    "colab": {
      "provenance": [],
      "toc_visible": true,
      "authorship_tag": "ABX9TyMhx/8PKiCl1/wtQA/WuM6+",
      "include_colab_link": true
    },
    "kernelspec": {
      "name": "python3",
      "display_name": "Python 3"
    },
    "language_info": {
      "name": "python"
    }
  },
  "cells": [
    {
      "cell_type": "markdown",
      "metadata": {
        "id": "view-in-github",
        "colab_type": "text"
      },
      "source": [
        "<a href=\"https://colab.research.google.com/github/01fe21bec087/Python_for_ML/blob/main/1)VariableDeclaration.ipynb\" target=\"_parent\"><img src=\"https://colab.research.google.com/assets/colab-badge.svg\" alt=\"Open In Colab\"/></a>"
      ]
    },
    {
      "cell_type": "markdown",
      "source": [
        "# ***Variable Declaration***\n",
        "Subtraction\n"
      ],
      "metadata": {
        "id": "r9f8ICHe-y1y"
      }
    },
    {
      "cell_type": "code",
      "source": [
        "a=10\n",
        "b=8\n",
        "c=5\n",
        "diff2=a-b\n",
        "print(diff2)\n",
        "diff3=a-b-c\n",
        "print(diff3)"
      ],
      "metadata": {
        "colab": {
          "base_uri": "https://localhost:8080/"
        },
        "id": "iwN6myiU-25M",
        "outputId": "5c037ddf-bce0-4216-ceca-f343eb2dbeec"
      },
      "execution_count": null,
      "outputs": [
        {
          "output_type": "stream",
          "name": "stdout",
          "text": [
            "2\n",
            "-3\n"
          ]
        }
      ]
    },
    {
      "cell_type": "markdown",
      "source": [
        "Multiplication"
      ],
      "metadata": {
        "id": "5s0XFa9Z_gOd"
      }
    },
    {
      "cell_type": "code",
      "source": [
        "prod=a*b\n",
        "print(prod)"
      ],
      "metadata": {
        "colab": {
          "base_uri": "https://localhost:8080/"
        },
        "id": "k7DEmZnm_iwV",
        "outputId": "1274d2f7-7c41-4e05-91a9-1b50d6698177"
      },
      "execution_count": null,
      "outputs": [
        {
          "output_type": "stream",
          "name": "stdout",
          "text": [
            "80\n"
          ]
        }
      ]
    },
    {
      "cell_type": "markdown",
      "source": [
        "Division\n"
      ],
      "metadata": {
        "id": "TVs-p6ye_1D0"
      }
    },
    {
      "cell_type": "code",
      "source": [
        "quotient=a/b\n",
        "print(quotient)\n",
        "rem=a%b\n",
        "print(rem)"
      ],
      "metadata": {
        "colab": {
          "base_uri": "https://localhost:8080/"
        },
        "id": "mfMMyTupAs8t",
        "outputId": "7aa6487b-60ac-4cb6-b269-69161c842dba"
      },
      "execution_count": null,
      "outputs": [
        {
          "output_type": "stream",
          "name": "stdout",
          "text": [
            "1.25\n",
            "2\n"
          ]
        }
      ]
    },
    {
      "cell_type": "markdown",
      "source": [
        "Squaring/Square rooting of numbers"
      ],
      "metadata": {
        "id": "KAd8BTIqBX6E"
      }
    },
    {
      "cell_type": "code",
      "source": [
        "import math\n",
        "square=math.pow(a,2)  #(base,index)\n",
        "print(square)\n",
        "sqroot=math.sqrt(a)\n",
        "print(sqroot)"
      ],
      "metadata": {
        "colab": {
          "base_uri": "https://localhost:8080/"
        },
        "id": "ekUBtJR4BbHF",
        "outputId": "e1375af2-ab2e-466e-8bfb-cd5ee8c7da77"
      },
      "execution_count": null,
      "outputs": [
        {
          "output_type": "stream",
          "name": "stdout",
          "text": [
            "100.0\n",
            "3.1622776601683795\n"
          ]
        }
      ]
    },
    {
      "cell_type": "code",
      "source": [
        "#import statistics\n",
        "#Average=statistics.mean(a)\n",
        "numArray=[10,20,30,40,50]\n",
        "average=sum(numArray)/len(numArray)\n",
        "print(average)"
      ],
      "metadata": {
        "colab": {
          "base_uri": "https://localhost:8080/"
        },
        "id": "Ab7whZZYEQdb",
        "outputId": "3b3c241c-f2c8-4cac-90ba-83491ad87b43"
      },
      "execution_count": null,
      "outputs": [
        {
          "output_type": "stream",
          "name": "stdout",
          "text": [
            "30.0\n"
          ]
        }
      ]
    },
    {
      "cell_type": "markdown",
      "source": [
        "# ***DataTypes***\n"
      ],
      "metadata": {
        "id": "jAJxl13JHn0F"
      }
    },
    {
      "cell_type": "markdown",
      "source": [
        "## ***String***"
      ],
      "metadata": {
        "id": "ScmHWWCQMNHk"
      }
    },
    {
      "cell_type": "code",
      "source": [
        "name=\"Abhinav 248 @20/02/2003\"\n",
        "print(name)\n",
        "print(type(name))"
      ],
      "metadata": {
        "colab": {
          "base_uri": "https://localhost:8080/"
        },
        "id": "RDDViPmvHrFn",
        "outputId": "0c5031d2-0c0c-47e4-ee28-2e008d093b9a"
      },
      "execution_count": null,
      "outputs": [
        {
          "output_type": "stream",
          "name": "stdout",
          "text": [
            "Abhinav 248 @20/02/2003\n",
            "<class 'str'>\n"
          ]
        }
      ]
    },
    {
      "cell_type": "markdown",
      "source": [
        "## ***Numeric***"
      ],
      "metadata": {
        "id": "EGRlGPmBMG2A"
      }
    },
    {
      "cell_type": "code",
      "source": [
        "num1=69\n",
        "num2=56.89\n",
        "num3=4j\n",
        "print(type(num1))\n",
        "print(type(num2))\n",
        "print(type(num3))\n",
        "num4=-99\n",
        "print(type(num4))"
      ],
      "metadata": {
        "colab": {
          "base_uri": "https://localhost:8080/"
        },
        "id": "C0zjSkCUK6lV",
        "outputId": "7bdb30ff-119e-442e-fa66-6620b4e7aa34"
      },
      "execution_count": null,
      "outputs": [
        {
          "output_type": "stream",
          "name": "stdout",
          "text": [
            "<class 'int'>\n",
            "<class 'float'>\n",
            "<class 'complex'>\n",
            "<class 'int'>\n"
          ]
        }
      ]
    },
    {
      "cell_type": "markdown",
      "source": [
        "## ***Sequence***"
      ],
      "metadata": {
        "id": "VevHYdEzMQK-"
      }
    },
    {
      "cell_type": "markdown",
      "source": [
        "### ***1. List***\n",
        "\n",
        "\n",
        "*   Ordered\n",
        "*   Mutable\n",
        "*   Allow duplicates  "
      ],
      "metadata": {
        "id": "sYTmL_mXzTAT"
      }
    },
    {
      "cell_type": "code",
      "source": [
        "list1=['kau','123','30.45']\n",
        "type(list1)\n",
        "print(list1)"
      ],
      "metadata": {
        "colab": {
          "base_uri": "https://localhost:8080/"
        },
        "id": "YZXecLEAMwcV",
        "outputId": "966acdd1-5944-41fe-9666-7bf9b1b2b831"
      },
      "execution_count": null,
      "outputs": [
        {
          "output_type": "stream",
          "name": "stdout",
          "text": [
            "['kau', '123', '30.45']\n"
          ]
        }
      ]
    },
    {
      "cell_type": "code",
      "source": [
        "list2=['apple','200','India','milkyway']\n",
        "print(len(list1))\n",
        "print(len(list2))\n",
        "list3=list1+list2\n",
        "print(list3)\n",
        "print(len(list3))"
      ],
      "metadata": {
        "colab": {
          "base_uri": "https://localhost:8080/"
        },
        "id": "rlPlpnDDNYx-",
        "outputId": "9fbc84d0-2dd8-4313-b805-1517a64f3d8e"
      },
      "execution_count": null,
      "outputs": [
        {
          "output_type": "stream",
          "name": "stdout",
          "text": [
            "3\n",
            "4\n",
            "['kau', '123', '30.45', 'apple', '200', 'India', 'milkyway']\n",
            "7\n"
          ]
        }
      ]
    },
    {
      "cell_type": "code",
      "source": [
        "list2=[]\n",
        "list2.append(\"Hubli\")\n",
        "list2"
      ],
      "metadata": {
        "colab": {
          "base_uri": "https://localhost:8080/"
        },
        "id": "2PPqHgs-d-Cq",
        "outputId": "e6839d9e-b7ed-4df1-e0ba-0852d201d70a"
      },
      "execution_count": null,
      "outputs": [
        {
          "output_type": "execute_result",
          "data": {
            "text/plain": [
              "['Hubli']"
            ]
          },
          "metadata": {},
          "execution_count": 6
        }
      ]
    },
    {
      "cell_type": "code",
      "source": [
        "list2.clear()\n",
        "list2"
      ],
      "metadata": {
        "colab": {
          "base_uri": "https://localhost:8080/"
        },
        "id": "34ZkthhYey30",
        "outputId": "10a685d6-1f3e-4995-92cf-49e5c4c4225d"
      },
      "execution_count": null,
      "outputs": [
        {
          "output_type": "execute_result",
          "data": {
            "text/plain": [
              "[]"
            ]
          },
          "metadata": {},
          "execution_count": 7
        }
      ]
    },
    {
      "cell_type": "code",
      "source": [
        "list2=['apple','200','India','milkyway']\n",
        "list2[0]\n",
        "list2[2]\n",
        "list2.sort()\n",
        "list2"
      ],
      "metadata": {
        "colab": {
          "base_uri": "https://localhost:8080/"
        },
        "id": "Vfb5JHyejA28",
        "outputId": "bc7657b8-ebf9-4e15-e8ea-da49d7e1a8ea"
      },
      "execution_count": null,
      "outputs": [
        {
          "output_type": "execute_result",
          "data": {
            "text/plain": [
              "['200', 'India', 'apple', 'milkyway']"
            ]
          },
          "metadata": {},
          "execution_count": 12
        }
      ]
    },
    {
      "cell_type": "markdown",
      "source": [
        "### ***2.Tuples***"
      ],
      "metadata": {
        "id": "ssK-pfede9YM"
      }
    },
    {
      "cell_type": "markdown",
      "source": [
        "Accessing Tuples\n",
        "\n",
        "\n",
        "\n",
        "\n",
        "\n",
        "\n",
        "\n",
        "\n",
        "\n",
        "\n",
        "\n",
        "\n",
        "\n",
        "\n",
        "\n",
        "\n",
        "\n",
        "\n",
        "//write here"
      ],
      "metadata": {
        "id": "nvVo2BRggmrl"
      }
    },
    {
      "cell_type": "code",
      "source": [
        "tuple1=(\"Hubli\",\"Belgaum\",\"Gadag\")\n",
        "print(tuple1[0])\n",
        "print(tuple1[1])\n",
        "print(tuple1[2])\n",
        "print(tuple1[-1])"
      ],
      "metadata": {
        "colab": {
          "base_uri": "https://localhost:8080/"
        },
        "id": "izk0GQyyfBGM",
        "outputId": "ab51391e-ba96-49ac-e408-62dbb299ca80"
      },
      "execution_count": null,
      "outputs": [
        {
          "output_type": "stream",
          "name": "stdout",
          "text": [
            "Hubli\n",
            "Belgaum\n",
            "Gadag\n",
            "Gadag\n"
          ]
        }
      ]
    },
    {
      "cell_type": "markdown",
      "source": [
        "Joining Tuples"
      ],
      "metadata": {
        "id": "kGkhps9xgr0m"
      }
    },
    {
      "cell_type": "code",
      "source": [
        "tuple6=tuple1+tuple1\n",
        "print(tuple6)"
      ],
      "metadata": {
        "colab": {
          "base_uri": "https://localhost:8080/"
        },
        "id": "Ngxm-UvSgXGw",
        "outputId": "83b7b05d-65df-4cdf-a89f-d6cc2b9aa670"
      },
      "execution_count": null,
      "outputs": [
        {
          "output_type": "stream",
          "name": "stdout",
          "text": [
            "('Hubli', 'Belgaum', 'Gadag', 'Hubli', 'Belgaum', 'Gadag')\n"
          ]
        }
      ]
    },
    {
      "cell_type": "code",
      "source": [
        "tuple2=(\"Ab\",\"Cd\")\n",
        "tuple7=tuple2*2\n",
        "tuple7"
      ],
      "metadata": {
        "colab": {
          "base_uri": "https://localhost:8080/"
        },
        "id": "Z4zc1P4lgc2f",
        "outputId": "58a94001-c504-41d8-9e2a-9842b0e49750"
      },
      "execution_count": null,
      "outputs": [
        {
          "output_type": "execute_result",
          "data": {
            "text/plain": [
              "('Ab', 'Cd', 'Ab', 'Cd')"
            ]
          },
          "metadata": {},
          "execution_count": 10
        }
      ]
    },
    {
      "cell_type": "markdown",
      "source": [
        "Indexing Tuples"
      ],
      "metadata": {
        "id": "sEskQtXjgwMC"
      }
    },
    {
      "cell_type": "code",
      "source": [
        "y=tuple6.index('Belgaum')\n",
        "print(y)"
      ],
      "metadata": {
        "colab": {
          "base_uri": "https://localhost:8080/"
        },
        "id": "nyNxwPKKikKE",
        "outputId": "2372e1bc-4ff8-428f-b360-4ba684d62a10"
      },
      "execution_count": null,
      "outputs": [
        {
          "output_type": "stream",
          "name": "stdout",
          "text": [
            "1\n"
          ]
        }
      ]
    },
    {
      "cell_type": "markdown",
      "source": [
        "Counting occurence of elements of tuple"
      ],
      "metadata": {
        "id": "pPqovjbLj2sO"
      }
    },
    {
      "cell_type": "code",
      "source": [
        "x=tuple6.count('Hubli')\n",
        "print(x)"
      ],
      "metadata": {
        "colab": {
          "base_uri": "https://localhost:8080/"
        },
        "id": "N8wIdObkjlW7",
        "outputId": "7356d9b9-dae4-4db3-d090-7d4d5a67dc79"
      },
      "execution_count": null,
      "outputs": [
        {
          "output_type": "stream",
          "name": "stdout",
          "text": [
            "2\n"
          ]
        }
      ]
    },
    {
      "cell_type": "markdown",
      "source": [
        "### ***Typecasting***"
      ],
      "metadata": {
        "id": "5dkMDVQojxJr"
      }
    },
    {
      "cell_type": "code",
      "source": [
        "varT=('Mumbai','Delhi','Ayodhya')   #tuple\n",
        "print(varT)\n",
        "varL=list(varT)                     #list\n",
        "print(varL)"
      ],
      "metadata": {
        "colab": {
          "base_uri": "https://localhost:8080/"
        },
        "id": "QmvFEJXhlllP",
        "outputId": "2b90cf4f-6b0e-490c-a3d9-21b4062b048e"
      },
      "execution_count": null,
      "outputs": [
        {
          "output_type": "stream",
          "name": "stdout",
          "text": [
            "('Mumbai', 'Delhi', 'Ayodhya')\n",
            "['Mumbai', 'Delhi', 'Ayodhya']\n"
          ]
        }
      ]
    },
    {
      "cell_type": "code",
      "source": [
        "#varT[3]=\"Bengaluru\"\n",
        "#cannot assign directly to tuple"
      ],
      "metadata": {
        "id": "0cAddCE8mWIQ"
      },
      "execution_count": null,
      "outputs": []
    },
    {
      "cell_type": "code",
      "source": [
        "varL.append(\"Bengaluru\")    #cannot directly: varL[3]=\"Bengaluru\"\n",
        "print(varL)"
      ],
      "metadata": {
        "colab": {
          "base_uri": "https://localhost:8080/"
        },
        "id": "CofpTd7MmJo0",
        "outputId": "19f3e41f-eccb-4755-89d2-942a43754962"
      },
      "execution_count": null,
      "outputs": [
        {
          "output_type": "stream",
          "name": "stdout",
          "text": [
            "['Mumbai', 'Delhi', 'Ayodhya', 'Bengaluru']\n"
          ]
        }
      ]
    },
    {
      "cell_type": "code",
      "source": [
        "varT=tuple(varL)\n",
        "print(varT)"
      ],
      "metadata": {
        "colab": {
          "base_uri": "https://localhost:8080/"
        },
        "id": "bRvmBq63mKcy",
        "outputId": "81fa0863-12b2-4115-f288-06b2737569d1"
      },
      "execution_count": null,
      "outputs": [
        {
          "output_type": "stream",
          "name": "stdout",
          "text": [
            "('Mumbai', 'Delhi', 'Ayodhya', 'Bengaluru')\n"
          ]
        }
      ]
    },
    {
      "cell_type": "markdown",
      "source": [
        "### ***3. Sets***"
      ],
      "metadata": {
        "id": "s6zjtTwIqbcG"
      }
    },
    {
      "cell_type": "markdown",
      "source": [
        "1.Unordered"
      ],
      "metadata": {
        "id": "OCBHrN2zrjdn"
      }
    },
    {
      "cell_type": "code",
      "source": [
        "set1={\"Red\",\"Blue\",\"Black\"}\n",
        "print(set1)"
      ],
      "metadata": {
        "colab": {
          "base_uri": "https://localhost:8080/"
        },
        "id": "44zQw0dCqfJ3",
        "outputId": "c4d4d5cc-ca63-4937-bea3-78845da764c4"
      },
      "execution_count": null,
      "outputs": [
        {
          "output_type": "stream",
          "name": "stdout",
          "text": [
            "{'Black', 'Blue', 'Red'}\n"
          ]
        }
      ]
    },
    {
      "cell_type": "code",
      "source": [
        "set1.add('Orange')\n",
        "print(set1)"
      ],
      "metadata": {
        "colab": {
          "base_uri": "https://localhost:8080/"
        },
        "id": "cB6MsF2gqlYI",
        "outputId": "bf915477-0e19-4fb8-af20-48406c29b160"
      },
      "execution_count": null,
      "outputs": [
        {
          "output_type": "stream",
          "name": "stdout",
          "text": [
            "{'Black', 'Blue', 'Red', 'Orange'}\n"
          ]
        }
      ]
    },
    {
      "cell_type": "markdown",
      "source": [
        "3.Duplicates not allowed"
      ],
      "metadata": {
        "id": "LYHvIM77ro0_"
      }
    },
    {
      "cell_type": "code",
      "source": [
        "set1.add('Red')\n",
        "print(set1)"
      ],
      "metadata": {
        "colab": {
          "base_uri": "https://localhost:8080/"
        },
        "id": "YnomXQ0crb7v",
        "outputId": "262406eb-54a4-48b5-a407-e7faf585e495"
      },
      "execution_count": null,
      "outputs": [
        {
          "output_type": "stream",
          "name": "stdout",
          "text": [
            "{'Black', 'Blue', 'Red', 'Orange'}\n"
          ]
        }
      ]
    },
    {
      "cell_type": "code",
      "source": [
        "set2={\"Ball\",\"Bat\",\"Wicket\"}\n",
        "set1.update(set2)\n",
        "print(set1)"
      ],
      "metadata": {
        "colab": {
          "base_uri": "https://localhost:8080/"
        },
        "id": "GIq_vrtjsS2i",
        "outputId": "7c65aa3a-91bc-4f51-ec08-9d0a0da77214"
      },
      "execution_count": null,
      "outputs": [
        {
          "output_type": "stream",
          "name": "stdout",
          "text": [
            "{'Bat', 'Wicket', 'Red', 'Orange', 'Black', 'Blue', 'Ball'}\n"
          ]
        }
      ]
    },
    {
      "cell_type": "markdown",
      "source": [
        "### ***4. Dictionary***"
      ],
      "metadata": {
        "id": "LyI0I8vzszlk"
      }
    },
    {
      "cell_type": "code",
      "source": [
        "dict1={\"Name\": \"Kaushik\",\n",
        "       \"Age\": \"32\",\n",
        "       \"Gender\": \"Male\"}\n",
        "print(dict1)\n",
        "print(type(dict1))"
      ],
      "metadata": {
        "colab": {
          "base_uri": "https://localhost:8080/"
        },
        "id": "hhLVQ2w5s290",
        "outputId": "d224f984-caad-475b-9ba5-381aaaf14a24"
      },
      "execution_count": null,
      "outputs": [
        {
          "output_type": "stream",
          "name": "stdout",
          "text": [
            "{'Name': 'Kaushik', 'Age': '32', 'Gender': 'Male'}\n",
            "<class 'dict'>\n"
          ]
        }
      ]
    },
    {
      "cell_type": "code",
      "source": [
        "#Duplicate NOT allowed\n",
        "dict2={\"Name\": \"Kaushik\",\n",
        "       \"Age\": \"32\",\n",
        "       \"Gender\": \"Male\",\n",
        "       \"Year\": \"2023\",\n",
        "       \"Year\": \"2015\",\n",
        "       \"Name\": \"Abhinav\"}\n",
        "print(dict2)"
      ],
      "metadata": {
        "colab": {
          "base_uri": "https://localhost:8080/"
        },
        "id": "wAAY149QtV73",
        "outputId": "90518879-43e9-46f2-878c-23d700eb42c0"
      },
      "execution_count": null,
      "outputs": [
        {
          "output_type": "stream",
          "name": "stdout",
          "text": [
            "{'Name': 'Abhinav', 'Age': '32', 'Gender': 'Male', 'Year': '2015'}\n"
          ]
        }
      ]
    },
    {
      "cell_type": "markdown",
      "source": [
        "# ***Assignment***"
      ],
      "metadata": {
        "id": "ufCP_qcUzwfT"
      }
    },
    {
      "cell_type": "markdown",
      "source": [
        "Code 1"
      ],
      "metadata": {
        "id": "ilxi6Lf6WVxb"
      }
    },
    {
      "cell_type": "code",
      "source": [
        "ask=int(input(\"Press 1 for student, 0 for parent: \"))\n",
        "if(ask==1):\n",
        "  print(\"visit: student.kletech.ac.in\")\n",
        "elif(ask==0):\n",
        "  print(\"visit: parents.kletech.ac.in\")\n",
        "else:\n",
        "  print(\"URL unavailable\")"
      ],
      "metadata": {
        "colab": {
          "base_uri": "https://localhost:8080/"
        },
        "id": "YLiNyTU1U8Dg",
        "outputId": "3912605e-55aa-4064-abce-022c3ba59469"
      },
      "execution_count": null,
      "outputs": [
        {
          "output_type": "stream",
          "name": "stdout",
          "text": [
            "Press 1 for student, 0 for parent: 1\n",
            "visit: student.kletech.ac.in\n"
          ]
        }
      ]
    },
    {
      "cell_type": "markdown",
      "source": [
        "Code 2"
      ],
      "metadata": {
        "id": "-8Pk-dFKWZKI"
      }
    },
    {
      "cell_type": "code",
      "source": [
        "a=10\n",
        "b=8\n",
        "c=5\n",
        "diff2=a-b\n",
        "print(diff2)\n",
        "diff3=a-b-c\n",
        "print(diff3)"
      ],
      "metadata": {
        "colab": {
          "base_uri": "https://localhost:8080/"
        },
        "id": "_b7SUsIAVyGJ",
        "outputId": "84f65f53-800e-4d28-8a68-d2eee55e246c"
      },
      "execution_count": null,
      "outputs": [
        {
          "output_type": "stream",
          "name": "stdout",
          "text": [
            "2\n",
            "-3\n"
          ]
        }
      ]
    },
    {
      "cell_type": "markdown",
      "source": [
        "Code 3"
      ],
      "metadata": {
        "id": "6S5sIFn3Wad5"
      }
    },
    {
      "cell_type": "code",
      "source": [
        "dict2={\"Name\": \"Kaushik\",\n",
        "       \"Age\": \"32\",\n",
        "       \"Gender\": \"Male\",\n",
        "       \"Year\": \"2023\",\n",
        "       \"Year\": \"2015\",\n",
        "       \"Name\": \"Abhinav\"}\n",
        "print(dict2)"
      ],
      "metadata": {
        "colab": {
          "base_uri": "https://localhost:8080/"
        },
        "id": "2i5LK7dWV3Ao",
        "outputId": "989a3022-8fe6-4889-d6ca-315b4623d6ab"
      },
      "execution_count": null,
      "outputs": [
        {
          "output_type": "stream",
          "name": "stdout",
          "text": [
            "{'Name': 'Abhinav', 'Age': '32', 'Gender': 'Male', 'Year': '2015'}\n"
          ]
        }
      ]
    },
    {
      "cell_type": "markdown",
      "source": [
        "Code 4"
      ],
      "metadata": {
        "id": "GVgjEq3NWbp4"
      }
    },
    {
      "cell_type": "code",
      "source": [
        "numArray=[10,20,30,40,50]\n",
        "average=sum(numArray)/len(numArray)\n",
        "print(average)"
      ],
      "metadata": {
        "colab": {
          "base_uri": "https://localhost:8080/"
        },
        "id": "HGzvFjd4WHWz",
        "outputId": "abd3bad9-7345-477e-cacf-c00d448ef733"
      },
      "execution_count": null,
      "outputs": [
        {
          "output_type": "stream",
          "name": "stdout",
          "text": [
            "30.0\n"
          ]
        }
      ]
    },
    {
      "cell_type": "markdown",
      "source": [
        "Code 5"
      ],
      "metadata": {
        "id": "rMFIY8z_Wc15"
      }
    },
    {
      "cell_type": "code",
      "source": [
        "import math\n",
        "square=math.pow(a,2)  #(base,index)\n",
        "print(square)\n",
        "sqroot=math.sqrt(a)\n",
        "print(sqroot)"
      ],
      "metadata": {
        "colab": {
          "base_uri": "https://localhost:8080/"
        },
        "id": "S9jtqudWWNQI",
        "outputId": "55f88db8-24a1-411c-9cbd-6fbb391bd547"
      },
      "execution_count": null,
      "outputs": [
        {
          "output_type": "stream",
          "name": "stdout",
          "text": [
            "100.0\n",
            "3.1622776601683795\n"
          ]
        }
      ]
    }
  ]
}