{
  "nbformat": 4,
  "nbformat_minor": 0,
  "metadata": {
    "colab": {
      "provenance": [],
      "toc_visible": true,
      "authorship_tag": "ABX9TyOoxYRTGh6PdlVMyZB6pDFQ",
      "include_colab_link": true
    },
    "kernelspec": {
      "name": "python3",
      "display_name": "Python 3"
    },
    "language_info": {
      "name": "python"
    }
  },
  "cells": [
    {
      "cell_type": "markdown",
      "metadata": {
        "id": "view-in-github",
        "colab_type": "text"
      },
      "source": [
        "<a href=\"https://colab.research.google.com/github/01fe21bec087/Python_for_ML/blob/main/6)Modules.ipynb\" target=\"_parent\"><img src=\"https://colab.research.google.com/assets/colab-badge.svg\" alt=\"Open In Colab\"/></a>"
      ]
    },
    {
      "cell_type": "markdown",
      "source": [
        "# ***Module***"
      ],
      "metadata": {
        "id": "cfwAZllm-Tva"
      }
    },
    {
      "cell_type": "markdown",
      "source": [
        "\n",
        "\n",
        "1.   Math\n",
        "2.   Time\n",
        "3.  Random\n",
        "4.  Date/time\n",
        "5.  OS\n",
        "\n"
      ],
      "metadata": {
        "id": "yASDXwND-V4I"
      }
    },
    {
      "cell_type": "markdown",
      "source": [
        "##**Random module**"
      ],
      "metadata": {
        "id": "bg56nxdc-cVa"
      }
    },
    {
      "cell_type": "code",
      "source": [
        "import random\n",
        "x=random.randint(1,9) #(start,end) limits\n",
        "print(x)\n",
        "\n",
        "a=random.random()\n",
        "print(a)"
      ],
      "metadata": {
        "colab": {
          "base_uri": "https://localhost:8080/"
        },
        "id": "lF5cu-uj-c8u",
        "outputId": "f6b690c3-2d58-48e3-f9ea-23fddab627ae"
      },
      "execution_count": null,
      "outputs": [
        {
          "output_type": "stream",
          "name": "stdout",
          "text": [
            "7\n",
            "0.2524179315921342\n"
          ]
        }
      ]
    },
    {
      "cell_type": "code",
      "source": [
        "#Game: Whoever types the greatest number wins\n",
        "import random\n",
        "computer=random.randint(1,9)\n",
        "userinput=int(input(\"Enter the number between 1 & 9: \"))\n",
        "print(\"Computer's number: \",computer)\n",
        "print(\"Your number: \",userinput)\n",
        "\n",
        "if computer>userinput:\n",
        "  print(\"Computer won!\")\n",
        "elif computer==userinput:\n",
        "  print(\"Tie\")\n",
        "else:\n",
        "  print(\"You won!\")"
      ],
      "metadata": {
        "colab": {
          "base_uri": "https://localhost:8080/"
        },
        "id": "oQXpK2U1-g2r",
        "outputId": "611d87db-4773-48cc-bf1c-c0265c88b37d"
      },
      "execution_count": null,
      "outputs": [
        {
          "output_type": "stream",
          "name": "stdout",
          "text": [
            "Enter the number between 1 & 9: 6\n",
            "Computer's number:  7\n",
            "Your number:  6\n",
            "Computer won!\n"
          ]
        }
      ]
    },
    {
      "cell_type": "code",
      "source": [
        "#Lottery Game: Whoever types the greatest number wins\n",
        "import random\n",
        "compScore=0\n",
        "userScore=0\n",
        "\n",
        "while 1:\n",
        "  computer=random.randint(1,9)\n",
        "  userinput=int(input(\"Enter the number between 1 & 9 (Enter 0 to exit): \"))\n",
        "  print(\"Computer's number: \",computer)\n",
        "  print(\"Your number: \",userinput)\n",
        "\n",
        "  if userinput==0:\n",
        "    print()\n",
        "    print(\"____________________________________________________________\")\n",
        "    print(\"Computer Score: \",compScore,\" Your Score: \",userScore)\n",
        "    if compScore>userScore:\n",
        "      print(\"You lost to computer by \",compScore-userScore,\" points!\")\n",
        "    elif userScore>compScore:\n",
        "      print(\"You won against computer by \",userScore-compScore,\" points!\")\n",
        "    else:\n",
        "      print(\"You are in tie with the computer with scores \",userScore)\n",
        "    print(\"____________________________________________________________\")\n",
        "    break\n",
        "  if computer>userinput:\n",
        "    print(\"Computer scored\")\n",
        "    compScore+=1\n",
        "  elif computer==userinput:\n",
        "    print(\"Tie\")\n",
        "  else:\n",
        "    print(\"You scored\")\n",
        "    userScore+=1\n",
        "  print()"
      ],
      "metadata": {
        "id": "jJmoNGD4-ppQ",
        "colab": {
          "base_uri": "https://localhost:8080/"
        },
        "outputId": "ead1fa3e-afef-419d-c9d2-ff3c9dd5c42a"
      },
      "execution_count": null,
      "outputs": [
        {
          "output_type": "stream",
          "name": "stdout",
          "text": [
            "Enter the number between 1 & 9 (Enter 0 to exit): 6\n",
            "Computer's number:  6\n",
            "Your number:  6\n",
            "Tie\n",
            "\n",
            "Enter the number between 1 & 9 (Enter 0 to exit): 7\n",
            "Computer's number:  1\n",
            "Your number:  7\n",
            "You scored\n",
            "\n",
            "Enter the number between 1 & 9 (Enter 0 to exit): 3\n",
            "Computer's number:  9\n",
            "Your number:  3\n",
            "Computer scored\n",
            "\n",
            "Enter the number between 1 & 9 (Enter 0 to exit): 5\n",
            "Computer's number:  9\n",
            "Your number:  5\n",
            "Computer scored\n",
            "\n",
            "Enter the number between 1 & 9 (Enter 0 to exit): 2\n",
            "Computer's number:  3\n",
            "Your number:  2\n",
            "Computer scored\n",
            "\n",
            "Enter the number between 1 & 9 (Enter 0 to exit): 8\n",
            "Computer's number:  6\n",
            "Your number:  8\n",
            "You scored\n",
            "\n",
            "Enter the number between 1 & 9 (Enter 0 to exit): 0\n",
            "Computer's number:  8\n",
            "Your number:  0\n",
            "\n",
            "____________________________________________________________\n",
            "Computer Score:  3  Your Score:  2\n",
            "You lost to computer by  1  points!\n",
            "____________________________________________________________\n"
          ]
        }
      ]
    },
    {
      "cell_type": "code",
      "source": [
        "#Rock paper Scissor Game\n",
        "import random\n",
        "\n",
        "gamelist=['rock','paper','scissors']\n",
        "comp=random.choice(gamelist)\n",
        "user=input(\"Enter either rock or paper or scissors: \")\n",
        "print(\"You chose: \",user)\n",
        "print(\"Computer chose: \",comp)\n",
        "\n",
        "if comp==\"rock\" and user==\"paper\":\n",
        "  print(\"You won\")\n",
        "elif comp==\"rock\" and user==\"scissors\":\n",
        "  print(\"You lost\")\n",
        "elif comp==\"paper\" and user==\"rock\":\n",
        "  print(\"You won\")\n",
        "elif comp==\"paper\" and user==\"scissors\":\n",
        "  print(\"You won\")\n",
        "elif comp==\"scissors\" and user==\"paper\":\n",
        "  print(\"You lost\")\n",
        "elif comp==\"scissors\" and user==\"rock\":\n",
        "  print(\"You won\")\n",
        "else:\n",
        "  print(\"Tie\")"
      ],
      "metadata": {
        "colab": {
          "base_uri": "https://localhost:8080/"
        },
        "id": "grhMyASL6vVv",
        "outputId": "5988b514-1316-435e-d9db-a199d6e23dbd"
      },
      "execution_count": null,
      "outputs": [
        {
          "output_type": "stream",
          "name": "stdout",
          "text": [
            "Enter either rock or paper or scissors: rock\n",
            "You chose:  rock\n",
            "Computer chose:  paper\n",
            "You won\n"
          ]
        }
      ]
    }
  ]
}