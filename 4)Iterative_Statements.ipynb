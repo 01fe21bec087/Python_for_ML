{
  "nbformat": 4,
  "nbformat_minor": 0,
  "metadata": {
    "colab": {
      "provenance": [],
      "toc_visible": true,
      "authorship_tag": "ABX9TyPT9ULWYyvtHv/6UqIWpmQe",
      "include_colab_link": true
    },
    "kernelspec": {
      "name": "python3",
      "display_name": "Python 3"
    },
    "language_info": {
      "name": "python"
    }
  },
  "cells": [
    {
      "cell_type": "markdown",
      "metadata": {
        "id": "view-in-github",
        "colab_type": "text"
      },
      "source": [
        "<a href=\"https://colab.research.google.com/github/01fe21bec087/Python_for_ML/blob/main/4)Iterative_Statements.ipynb\" target=\"_parent\"><img src=\"https://colab.research.google.com/assets/colab-badge.svg\" alt=\"Open In Colab\"/></a>"
      ]
    },
    {
      "cell_type": "markdown",
      "source": [
        "## ***While loop***"
      ],
      "metadata": {
        "id": "hNz8945DrqQy"
      }
    },
    {
      "cell_type": "code",
      "source": [
        "num=int(input(\"Enter the number: \"))\n",
        "while num<=9:\n",
        "  print(\"Number is single digit\")\n",
        "  break\n",
        "while num>9 and num<99:\n",
        "  print(\"Number is double digit\")\n",
        "  break\n",
        "else:\n",
        "  print(\"Number has more than 2 digits\")"
      ],
      "metadata": {
        "colab": {
          "base_uri": "https://localhost:8080/"
        },
        "id": "iBKwbVysrtIS",
        "outputId": "7b1b26c9-a09c-42ce-d314-2060b3a2f26c"
      },
      "execution_count": null,
      "outputs": [
        {
          "output_type": "stream",
          "name": "stdout",
          "text": [
            "Enter the number: 12345\n",
            "Number has more than 2 digits\n"
          ]
        }
      ]
    },
    {
      "cell_type": "markdown",
      "source": [
        "## ***For loop***"
      ],
      "metadata": {
        "id": "oJlAdCJ75YwX"
      }
    },
    {
      "cell_type": "markdown",
      "source": [
        "for count_var in range(starpt,endpt,interval)"
      ],
      "metadata": {
        "id": "TXuG7iCi5fVT"
      }
    },
    {
      "cell_type": "code",
      "source": [
        "for x in range(1,20,2):\n",
        "  print(x)"
      ],
      "metadata": {
        "colab": {
          "base_uri": "https://localhost:8080/"
        },
        "id": "X9YeqvgS5aMU",
        "outputId": "40dc9955-3b7e-475e-d2b6-78b35872fa9c"
      },
      "execution_count": null,
      "outputs": [
        {
          "output_type": "stream",
          "name": "stdout",
          "text": [
            "1\n",
            "3\n",
            "5\n",
            "7\n",
            "9\n",
            "11\n",
            "13\n",
            "15\n",
            "17\n",
            "19\n"
          ]
        }
      ]
    },
    {
      "cell_type": "code",
      "source": [
        "for x in range(0,5):\n",
        "  print(\"ten times\",x,\"is\",10*x)"
      ],
      "metadata": {
        "colab": {
          "base_uri": "https://localhost:8080/"
        },
        "id": "zEBNxxWe6w3_",
        "outputId": "0c8bb441-c498-4ac7-bb38-a474460b6fcd"
      },
      "execution_count": null,
      "outputs": [
        {
          "output_type": "stream",
          "name": "stdout",
          "text": [
            "ten times 0 is 0\n",
            "ten times 1 is 10\n",
            "ten times 2 is 20\n",
            "ten times 3 is 30\n",
            "ten times 4 is 40\n"
          ]
        }
      ]
    },
    {
      "cell_type": "code",
      "source": [
        "for x in range(-3,2):\n",
        "  print(x)"
      ],
      "metadata": {
        "colab": {
          "base_uri": "https://localhost:8080/"
        },
        "id": "bSZ0VhMg6JRV",
        "outputId": "f9498a57-5b41-4eb0-a89d-c7bfc621cf22"
      },
      "execution_count": null,
      "outputs": [
        {
          "output_type": "stream",
          "name": "stdout",
          "text": [
            "-3\n",
            "-2\n",
            "-1\n",
            "0\n",
            "1\n"
          ]
        }
      ]
    },
    {
      "cell_type": "code",
      "source": [
        "for i in range(0,10):\n",
        "  print(i,\"is single digit\")\n",
        "for i in range(10,99,10):\n",
        "  print(i,\"is double digit\")"
      ],
      "metadata": {
        "colab": {
          "base_uri": "https://localhost:8080/"
        },
        "id": "UHUWRVCp-H1M",
        "outputId": "a1bb36c8-441e-42e7-f623-92988282c483"
      },
      "execution_count": null,
      "outputs": [
        {
          "output_type": "stream",
          "name": "stdout",
          "text": [
            "0 is single digit\n",
            "1 is single digit\n",
            "2 is single digit\n",
            "3 is single digit\n",
            "4 is single digit\n",
            "5 is single digit\n",
            "6 is single digit\n",
            "7 is single digit\n",
            "8 is single digit\n",
            "9 is single digit\n",
            "10 is double digit\n",
            "20 is double digit\n",
            "30 is double digit\n",
            "40 is double digit\n",
            "50 is double digit\n",
            "60 is double digit\n",
            "70 is double digit\n",
            "80 is double digit\n",
            "90 is double digit\n"
          ]
        }
      ]
    },
    {
      "cell_type": "code",
      "source": [
        "places=[\"hubli\",\"Haveri\",\"Belgaum\",\"bengaluru\"]\n",
        "for x in places:\n",
        "  print(x[0])\n",
        "  #print(type(x))"
      ],
      "metadata": {
        "colab": {
          "base_uri": "https://localhost:8080/"
        },
        "id": "3-EfnHoe-2Rq",
        "outputId": "1cd43dd4-e72c-46b2-c48a-170a2f041bf4"
      },
      "execution_count": null,
      "outputs": [
        {
          "output_type": "stream",
          "name": "stdout",
          "text": [
            "h\n",
            "<class 'str'>\n",
            "H\n",
            "<class 'str'>\n",
            "B\n",
            "<class 'str'>\n",
            "b\n",
            "<class 'str'>\n"
          ]
        }
      ]
    },
    {
      "cell_type": "code",
      "source": [
        "places=[\"hubli\",\"Haveri\",\"Belgaum\",\"bengaluru\"]\n",
        "i=0\n",
        "for x in places:\n",
        "  print(x)\n",
        "  if x==\"Belgaum\":\n",
        "    print(x,\"is found at\",i)\n",
        "    break\n",
        "  i+=1"
      ],
      "metadata": {
        "colab": {
          "base_uri": "https://localhost:8080/"
        },
        "id": "HanWjdajACpD",
        "outputId": "1aab7a53-f2b2-4740-aa1e-f4bfd37db89c"
      },
      "execution_count": null,
      "outputs": [
        {
          "output_type": "stream",
          "name": "stdout",
          "text": [
            "hubli\n",
            "Haveri\n",
            "Belgaum\n",
            "Belgaum is found at 2\n"
          ]
        }
      ]
    },
    {
      "cell_type": "markdown",
      "source": [
        "Assignment code 1"
      ],
      "metadata": {
        "id": "ImxNS0HoI9Ft"
      }
    },
    {
      "cell_type": "code",
      "source": [
        "def pattern1(num):\n",
        "  for i in range(1,num+1,2):\n",
        "    #if(i%2==1):\n",
        "      for j in range(num+1,i,-1):\n",
        "        print(\"*\",end=\" \")\n",
        "      print()\n",
        "\n",
        "pattern1(5)"
      ],
      "metadata": {
        "colab": {
          "base_uri": "https://localhost:8080/"
        },
        "id": "EkLxrtOnI_Jx",
        "outputId": "9a35d862-936a-4839-dc8e-411b16d8b81b"
      },
      "execution_count": null,
      "outputs": [
        {
          "output_type": "stream",
          "name": "stdout",
          "text": [
            "* * * * * \n",
            "* * * \n",
            "* \n"
          ]
        }
      ]
    },
    {
      "cell_type": "markdown",
      "source": [
        "Assignment code 2"
      ],
      "metadata": {
        "id": "Gc7ebzQDKEqy"
      }
    },
    {
      "cell_type": "code",
      "source": [
        "def pattern2(num):\n",
        "  for i in range(0,num,2):\n",
        "    for j in range(0,(num-i)//2):\n",
        "        print(\" \",end=\" \")\n",
        "    for j in range(0,i+1):\n",
        "        print(\"*\",end=\" \")\n",
        "    for j in range(0,(num-i)//2):\n",
        "        print(\" \",end=\" \")\n",
        "    print()\n",
        "\n",
        "pattern2(5)"
      ],
      "metadata": {
        "id": "dgKWEu9tKHKU",
        "colab": {
          "base_uri": "https://localhost:8080/"
        },
        "outputId": "23790d3c-5d35-4278-b92b-55d284e341e5"
      },
      "execution_count": null,
      "outputs": [
        {
          "output_type": "stream",
          "name": "stdout",
          "text": [
            "    *     \n",
            "  * * *   \n",
            "* * * * * \n"
          ]
        }
      ]
    },
    {
      "cell_type": "markdown",
      "source": [
        "Assignment code 3"
      ],
      "metadata": {
        "id": "keww_PLTgrNE"
      }
    },
    {
      "cell_type": "code",
      "source": [
        "def table(num):\n",
        "   for i in range(1,10+1):\n",
        "      print(num,\"x\",i,\"=\",num*i)\n",
        "   print()\n",
        "\n",
        "table(2)\n",
        "table(5)"
      ],
      "metadata": {
        "colab": {
          "base_uri": "https://localhost:8080/"
        },
        "id": "HAT1pMKcgtRn",
        "outputId": "b6fca74c-6539-4feb-df50-31b84d201b31"
      },
      "execution_count": null,
      "outputs": [
        {
          "output_type": "stream",
          "name": "stdout",
          "text": [
            "2 x 1 = 2\n",
            "2 x 2 = 4\n",
            "2 x 3 = 6\n",
            "2 x 4 = 8\n",
            "2 x 5 = 10\n",
            "2 x 6 = 12\n",
            "2 x 7 = 14\n",
            "2 x 8 = 16\n",
            "2 x 9 = 18\n",
            "2 x 10 = 20\n",
            "\n",
            "5 x 1 = 5\n",
            "5 x 2 = 10\n",
            "5 x 3 = 15\n",
            "5 x 4 = 20\n",
            "5 x 5 = 25\n",
            "5 x 6 = 30\n",
            "5 x 7 = 35\n",
            "5 x 8 = 40\n",
            "5 x 9 = 45\n",
            "5 x 10 = 50\n",
            "\n"
          ]
        }
      ]
    }
  ]
}