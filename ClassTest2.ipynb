{
  "nbformat": 4,
  "nbformat_minor": 0,
  "metadata": {
    "colab": {
      "provenance": [],
      "mount_file_id": "1yAOLSJNtuSavXsWpW5Q074O3g-1muG_s",
      "authorship_tag": "ABX9TyNuBt208Ix02dI2EUb2GSpT",
      "include_colab_link": true
    },
    "kernelspec": {
      "name": "python3",
      "display_name": "Python 3"
    },
    "language_info": {
      "name": "python"
    }
  },
  "cells": [
    {
      "cell_type": "markdown",
      "metadata": {
        "id": "view-in-github",
        "colab_type": "text"
      },
      "source": [
        "<a href=\"https://colab.research.google.com/github/01fe21bec087/Python_for_ML/blob/main/ClassTest2.ipynb\" target=\"_parent\"><img src=\"https://colab.research.google.com/assets/colab-badge.svg\" alt=\"Open In Colab\"/></a>"
      ]
    },
    {
      "cell_type": "markdown",
      "source": [
        "# ***5. Write a function called Humpty_Dumpty that takes a number, if that number is divisible by 3, it should return \"Humpty\", if that number is divisible by 5, it should return \"Dumpty\", if that number is divisible by both 3 and 5, it should return \"Humpty_Dumpty. otherwise return that same number***"
      ],
      "metadata": {
        "id": "TaaVNlOGpJzp"
      }
    },
    {
      "cell_type": "code",
      "source": [
        "def Humpty_Dumpty():\n",
        "  num=int(input())\n",
        "  if num%3==0 and num%5==0:\n",
        "    return \"Humpty_Dumpty\"\n",
        "  elif num%3==0:\n",
        "    return \"Humpyt\"\n",
        "  elif num%5==0:\n",
        "    return \"Dumpyt\"\n",
        "  else:\n",
        "    return num\n",
        "\n",
        "\n",
        "print(Humpty_Dumpty())"
      ],
      "metadata": {
        "colab": {
          "base_uri": "https://localhost:8080/"
        },
        "id": "yqkTcSPEpsAD",
        "outputId": "01c314fc-7da0-4e16-85bf-2025937516cf"
      },
      "execution_count": 54,
      "outputs": [
        {
          "output_type": "stream",
          "name": "stdout",
          "text": [
            "3\n",
            "Humpyt\n"
          ]
        }
      ]
    },
    {
      "cell_type": "markdown",
      "source": [
        "# ***6. Write a program which read two matrices of 3x2 and 2x3 respectively and perform matrix multiplication***"
      ],
      "metadata": {
        "id": "R092-ZuDk_3g"
      }
    },
    {
      "cell_type": "code",
      "source": [
        "arr1=[[0,0],\n",
        "    [0,0],\n",
        "    [0,0]]\n",
        "arr2=[[0,0,0],\n",
        "    [0,0,0]]\n",
        "res = [[0,0,0],\n",
        "         [0,0,0],\n",
        "         [0,0,0]]\n",
        "\n",
        "print(\"Enter the values for matrix 1 (3*2): \")\n",
        "for i in range(3):\n",
        "  for j in range(2):\n",
        "    arr1[i][j]=int(input())\n",
        "\n",
        "print(\"Enter the values for matrix 2 (2*3): \")\n",
        "for i in range(2):\n",
        "  for j in range(3):\n",
        "    arr2[i][j]=int(input())\n",
        "\n",
        "print(\"The resultant matrix is: \")\n",
        "for i in range(3):\n",
        "   for j in range(3):\n",
        "       for k in range(2):\n",
        "           res[i][j] += arr1[i][k] * arr2[k][j]\n",
        "\n",
        "#for r in res:\n",
        "print(res)"
      ],
      "metadata": {
        "colab": {
          "base_uri": "https://localhost:8080/"
        },
        "id": "oyR6PN3lodEr",
        "outputId": "9cd60166-e717-42bb-8f0d-70b4a725b400"
      },
      "execution_count": 23,
      "outputs": [
        {
          "output_type": "stream",
          "name": "stdout",
          "text": [
            "Enter the values for matrix 1 (3*2): \n",
            "1\n",
            "2\n",
            "3\n",
            "4\n",
            "5\n",
            "6\n",
            "Enter the values for matrix 2 (2*3): \n",
            "7\n",
            "8\n",
            "9\n",
            "10\n",
            "11\n",
            "12\n",
            "The resultant matrix is: \n",
            "[[27, 30, 33], [61, 68, 75], [95, 106, 117]]\n"
          ]
        }
      ]
    },
    {
      "cell_type": "markdown",
      "source": [
        "# ***7. Write a function that returns the sum of multiples of 3 and 5 between 0 and limit(parameter).***"
      ],
      "metadata": {
        "id": "LtYwK63fjgkt"
      }
    },
    {
      "cell_type": "code",
      "source": [
        "def sum_of_multiples():\n",
        "  limit=int(input(\"Enter the limit: \"))\n",
        "  sum=0\n",
        "  for i in range(limit+1):\n",
        "    if i%3==0 or i%5==0:\n",
        "      sum+=i\n",
        "  return sum\n",
        "\n",
        "s=sum_of_multiples()\n",
        "print(s)"
      ],
      "metadata": {
        "colab": {
          "base_uri": "https://localhost:8080/"
        },
        "id": "a_IacOJ-jv3O",
        "outputId": "2fe8198c-63c3-476d-ad37-c2e167b02d9c"
      },
      "execution_count": 2,
      "outputs": [
        {
          "output_type": "stream",
          "name": "stdout",
          "text": [
            "Enter the limit: 20\n",
            "98\n"
          ]
        }
      ]
    },
    {
      "cell_type": "markdown",
      "source": [
        "# ***8. Write a python program to demonstrate the following conditions: Read the data from .txt file, Plot the data using suitable plots, Fit a linear line assuming 'm'(slope) and 'c'(Offset/bias)***"
      ],
      "metadata": {
        "id": "iGG8EwuQp2kG"
      }
    },
    {
      "cell_type": "code",
      "source": [
        "import pandas as pd\n",
        "import numpy as np\n",
        "import matplotlib.pyplot as plt\n",
        "\n",
        "m=5\n",
        "trainx=pd.read_csv('/content/drive/MyDrive/ML using Python/CT2_Trainx.txt')\n",
        "trainy=pd.read_csv('/content/drive/MyDrive/ML using Python/CT2_Trainy.txt')\n",
        "print(trainx)\n",
        "print(trainy)"
      ],
      "metadata": {
        "colab": {
          "base_uri": "https://localhost:8080/"
        },
        "id": "cyvDmyt3qNsM",
        "outputId": "7502b5c5-90e2-431a-f35d-8afd9213b830"
      },
      "execution_count": 45,
      "outputs": [
        {
          "output_type": "stream",
          "name": "stdout",
          "text": [
            "      x\n",
            "0  2600\n",
            "1  3000\n",
            "2  3200\n",
            "3  3600\n",
            "4  4000\n",
            "        y\n",
            "0  550000\n",
            "1  565000\n",
            "2  610000\n",
            "3  680000\n",
            "4  725000\n"
          ]
        }
      ]
    },
    {
      "cell_type": "code",
      "source": [
        "#Plotting Training values\n",
        "plt.xlabel('x')\n",
        "plt.ylabel('y')\n",
        "plt.scatter(trainx,trainy,color='blue',marker='+')"
      ],
      "metadata": {
        "colab": {
          "base_uri": "https://localhost:8080/",
          "height": 466
        },
        "id": "HAS5PDjjr7Vs",
        "outputId": "436b5529-ce57-44a8-b227-a03fe3a8502e"
      },
      "execution_count": 46,
      "outputs": [
        {
          "output_type": "execute_result",
          "data": {
            "text/plain": [
              "<matplotlib.collections.PathCollection at 0x7e688b8bf7c0>"
            ]
          },
          "metadata": {},
          "execution_count": 46
        },
        {
          "output_type": "display_data",
          "data": {
            "text/plain": [
              "<Figure size 640x480 with 1 Axes>"
            ],
            "image/png": "[encoded data removed]"
          },
          "metadata": {}
        }
      ]
    },
    {
      "cell_type": "code",
      "source": [
        "def hypothesis(xi,b,w1):\n",
        "  hwi=w1*xi+b\n",
        "  return hwi\n",
        "\n",
        "def sum1(b,w1):\n",
        "  s1=0\n",
        "  for j in range(m):\n",
        "    xi=trainx.x[j]\n",
        "    yi=trainy.y[j]\n",
        "    s1+=hypothesis(xi,b,w1)-yi\n",
        "  return s1\n",
        "\n",
        "def sum2(b,w1):\n",
        "  s2=0\n",
        "  for k in range(m):\n",
        "    xi=trainx.x[k]\n",
        "    yi=trainy.y[k]\n",
        "    s2+=(hypothesis(xi,b,w1)-yi)*xi\n",
        "  return s2\n",
        "\n",
        "#m=5\n",
        "b=0\n",
        "w1=0\n",
        "a=0.00000001 #1/m -- learning rate\n",
        "for i in range(1000):\n",
        "  btemp=b-(a*sum1(b,w1))/m\n",
        "  w1temp=w1-(a*sum2(b,w1))/m\n",
        "  b=btemp\n",
        "  w1=w1temp\n",
        "\n",
        "print(\"b =\",b)\n",
        "print(\"w1 =\",w1)\n",
        "print()\n",
        "print(\"The linear Regression model is: y_=w1*x+b\")\n",
        "print(\"y_ =\",w1,\"*x +\",b)\n",
        "\n",
        "print()\n",
        "y_=hypothesis(4000,b,w1)\n",
        "print(\"for x = 4000, y_ =\",y_)"
      ],
      "metadata": {
        "colab": {
          "base_uri": "https://localhost:8080/"
        },
        "id": "-HDkzQ2hufhT",
        "outputId": "a81e99cc-8d6a-45bb-bd42-345ebbe53efc"
      },
      "execution_count": 48,
      "outputs": [
        {
          "output_type": "stream",
          "name": "stdout",
          "text": [
            "b = 0.09498556255653949\n",
            "w1 = 189.6833778741573\n",
            "\n",
            "The linear Regression model is: y_=w1*x+b\n",
            "y_ = 189.6833778741573 *x + 0.09498556255653949\n",
            "\n",
            "for x = 4000, y_ = 758733.6064821917\n"
          ]
        }
      ]
    },
    {
      "cell_type": "code",
      "source": [
        "test=pd.read_csv('/content/drive/MyDrive/ML using Python/CT2_Test.txt')\n",
        "test"
      ],
      "metadata": {
        "colab": {
          "base_uri": "https://localhost:8080/",
          "height": 206
        },
        "id": "_K81sHBmvnpK",
        "outputId": "45c94601-c2b0-4ed5-aa7c-0be1b26da13a"
      },
      "execution_count": 50,
      "outputs": [
        {
          "output_type": "execute_result",
          "data": {
            "text/plain": [
              "      x\n",
              "0  1200\n",
              "1  3500\n",
              "2  7897\n",
              "3  2437\n",
              "4  5466"
            ],
            "text/html": [
              "\n",
              "  <div id=\"df-fdaeaba0-7113-400d-8623-278a4c57e2af\" class=\"colab-df-container\">\n",
              "    <div>\n",
              "<style scoped>\n",
              "    .dataframe tbody tr th:only-of-type {\n",
              "        vertical-align: middle;\n",
              "    }\n",
              "\n",
              "    .dataframe tbody tr th {\n",
              "        vertical-align: top;\n",
              "    }\n",
              "\n",
              "    .dataframe thead th {\n",
              "        text-align: right;\n",
              "    }\n",
              "</style>\n",
              "<table border=\"1\" class=\"dataframe\">\n",
              "  <thead>\n",
              "    <tr style=\"text-align: right;\">\n",
              "      <th></th>\n",
              "      <th>x</th>\n",
              "    </tr>\n",
              "  </thead>\n",
              "  <tbody>\n",
              "    <tr>\n",
              "      <th>0</th>\n",
              "      <td>1200</td>\n",
              "    </tr>\n",
              "    <tr>\n",
              "      <th>1</th>\n",
              "      <td>3500</td>\n",
              "    </tr>\n",
              "    <tr>\n",
              "      <th>2</th>\n",
              "      <td>7897</td>\n",
              "    </tr>\n",
              "    <tr>\n",
              "      <th>3</th>\n",
              "      <td>2437</td>\n",
              "    </tr>\n",
              "    <tr>\n",
              "      <th>4</th>\n",
              "      <td>5466</td>\n",
              "    </tr>\n",
              "  </tbody>\n",
              "</table>\n",
              "</div>\n",
              "    <div class=\"colab-df-buttons\">\n",
              "\n",
              "  <div class=\"colab-df-container\">\n",
              "    <button class=\"colab-df-convert\" onclick=\"convertToInteractive('df-fdaeaba0-7113-400d-8623-278a4c57e2af')\"\n",
              "            title=\"Convert this dataframe to an interactive table.\"\n",
              "            style=\"display:none;\">\n",
              "\n",
              "  <svg xmlns=\"http://www.w3.org/2000/svg\" height=\"24px\" viewBox=\"0 -960 960 960\">\n",
              "    <path d=\"M120-120v-720h720v720H120Zm60-500h600v-160H180v160Zm220 220h160v-160H400v160Zm0 220h160v-160H400v160ZM180-400h160v-160H180v160Zm440 0h160v-160H620v160ZM180-180h160v-160H180v160Zm440 0h160v-160H620v160Z\"/>\n",
              "  </svg>\n",
              "    </button>\n",
              "\n",
              "  <style>\n",
              "    .colab-df-container {\n",
              "      display:flex;\n",
              "      gap: 12px;\n",
              "    }\n",
              "\n",
              "    .colab-df-convert {\n",
              "      background-color: #E8F0FE;\n",
              "      border: none;\n",
              "      border-radius: 50%;\n",
              "      cursor: pointer;\n",
              "      display: none;\n",
              "      fill: #1967D2;\n",
              "      height: 32px;\n",
              "      padding: 0 0 0 0;\n",
              "      width: 32px;\n",
              "    }\n",
              "\n",
              "    .colab-df-convert:hover {\n",
              "      background-color: #E2EBFA;\n",
              "      box-shadow: 0px 1px 2px rgba(60, 64, 67, 0.3), 0px 1px 3px 1px rgba(60, 64, 67, 0.15);\n",
              "      fill: #174EA6;\n",
              "    }\n",
              "\n",
              "    .colab-df-buttons div {\n",
              "      margin-bottom: 4px;\n",
              "    }\n",
              "\n",
              "    [theme=dark] .colab-df-convert {\n",
              "      background-color: #3B4455;\n",
              "      fill: #D2E3FC;\n",
              "    }\n",
              "\n",
              "    [theme=dark] .colab-df-convert:hover {\n",
              "      background-color: #434B5C;\n",
              "      box-shadow: 0px 1px 3px 1px rgba(0, 0, 0, 0.15);\n",
              "      filter: drop-shadow(0px 1px 2px rgba(0, 0, 0, 0.3));\n",
              "      fill: #FFFFFF;\n",
              "    }\n",
              "  </style>\n",
              "\n",
              "    <script>\n",
              "      const buttonEl =\n",
              "        document.querySelector('#df-fdaeaba0-7113-400d-8623-278a4c57e2af button.colab-df-convert');\n",
              "      buttonEl.style.display =\n",
              "        google.colab.kernel.accessAllowed ? 'block' : 'none';\n",
              "\n",
              "      async function convertToInteractive(key) {\n",
              "        const element = document.querySelector('#df-fdaeaba0-7113-400d-8623-278a4c57e2af');\n",
              "        const dataTable =\n",
              "          await google.colab.kernel.invokeFunction('convertToInteractive',\n",
              "                                                    [key], {});\n",
              "        if (!dataTable) return;\n",
              "\n",
              "        const docLinkHtml = 'Like what you see? Visit the ' +\n",
              "          '<a target=\"_blank\" href=https://colab.research.google.com/notebooks/data_table.ipynb>data table notebook</a>'\n",
              "          + ' to learn more about interactive tables.';\n",
              "        element.innerHTML = '';\n",
              "        dataTable['output_type'] = 'display_data';\n",
              "        await google.colab.output.renderOutput(dataTable, element);\n",
              "        const docLink = document.createElement('div');\n",
              "        docLink.innerHTML = docLinkHtml;\n",
              "        element.appendChild(docLink);\n",
              "      }\n",
              "    </script>\n",
              "  </div>\n",
              "\n",
              "\n",
              "<div id=\"df-c80dac27-444c-4914-a2f2-188423639020\">\n",
              "  <button class=\"colab-df-quickchart\" onclick=\"quickchart('df-c80dac27-444c-4914-a2f2-188423639020')\"\n",
              "            title=\"Suggest charts.\"\n",
              "            style=\"display:none;\">\n",
              "\n",
              "<svg xmlns=\"http://www.w3.org/2000/svg\" height=\"24px\"viewBox=\"0 0 24 24\"\n",
              "     width=\"24px\">\n",
              "    <g>\n",
              "        <path d=\"M19 3H5c-1.1 0-2 .9-2 2v14c0 1.1.9 2 2 2h14c1.1 0 2-.9 2-2V5c0-1.1-.9-2-2-2zM9 17H7v-7h2v7zm4 0h-2V7h2v10zm4 0h-2v-4h2v4z\"/>\n",
              "    </g>\n",
              "</svg>\n",
              "  </button>\n",
              "\n",
              "<style>\n",
              "  .colab-df-quickchart {\n",
              "      --bg-color: #E8F0FE;\n",
              "      --fill-color: #1967D2;\n",
              "      --hover-bg-color: #E2EBFA;\n",
              "      --hover-fill-color: #174EA6;\n",
              "      --disabled-fill-color: #AAA;\n",
              "      --disabled-bg-color: #DDD;\n",
              "  }\n",
              "\n",
              "  [theme=dark] .colab-df-quickchart {\n",
              "      --bg-color: #3B4455;\n",
              "      --fill-color: #D2E3FC;\n",
              "      --hover-bg-color: #434B5C;\n",
              "      --hover-fill-color: #FFFFFF;\n",
              "      --disabled-bg-color: #3B4455;\n",
              "      --disabled-fill-color: #666;\n",
              "  }\n",
              "\n",
              "  .colab-df-quickchart {\n",
              "    background-color: var(--bg-color);\n",
              "    border: none;\n",
              "    border-radius: 50%;\n",
              "    cursor: pointer;\n",
              "    display: none;\n",
              "    fill: var(--fill-color);\n",
              "    height: 32px;\n",
              "    padding: 0;\n",
              "    width: 32px;\n",
              "  }\n",
              "\n",
              "  .colab-df-quickchart:hover {\n",
              "    background-color: var(--hover-bg-color);\n",
              "    box-shadow: 0 1px 2px rgba(60, 64, 67, 0.3), 0 1px 3px 1px rgba(60, 64, 67, 0.15);\n",
              "    fill: var(--button-hover-fill-color);\n",
              "  }\n",
              "\n",
              "  .colab-df-quickchart-complete:disabled,\n",
              "  .colab-df-quickchart-complete:disabled:hover {\n",
              "    background-color: var(--disabled-bg-color);\n",
              "    fill: var(--disabled-fill-color);\n",
              "    box-shadow: none;\n",
              "  }\n",
              "\n",
              "  .colab-df-spinner {\n",
              "    border: 2px solid var(--fill-color);\n",
              "    border-color: transparent;\n",
              "    border-bottom-color: var(--fill-color);\n",
              "    animation:\n",
              "      spin 1s steps(1) infinite;\n",
              "  }\n",
              "\n",
              "  @keyframes spin {\n",
              "    0% {\n",
              "      border-color: transparent;\n",
              "      border-bottom-color: var(--fill-color);\n",
              "      border-left-color: var(--fill-color);\n",
              "    }\n",
              "    20% {\n",
              "      border-color: transparent;\n",
              "      border-left-color: var(--fill-color);\n",
              "      border-top-color: var(--fill-color);\n",
              "    }\n",
              "    30% {\n",
              "      border-color: transparent;\n",
              "      border-left-color: var(--fill-color);\n",
              "      border-top-color: var(--fill-color);\n",
              "      border-right-color: var(--fill-color);\n",
              "    }\n",
              "    40% {\n",
              "      border-color: transparent;\n",
              "      border-right-color: var(--fill-color);\n",
              "      border-top-color: var(--fill-color);\n",
              "    }\n",
              "    60% {\n",
              "      border-color: transparent;\n",
              "      border-right-color: var(--fill-color);\n",
              "    }\n",
              "    80% {\n",
              "      border-color: transparent;\n",
              "      border-right-color: var(--fill-color);\n",
              "      border-bottom-color: var(--fill-color);\n",
              "    }\n",
              "    90% {\n",
              "      border-color: transparent;\n",
              "      border-bottom-color: var(--fill-color);\n",
              "    }\n",
              "  }\n",
              "</style>\n",
              "\n",
              "  <script>\n",
              "    async function quickchart(key) {\n",
              "      const quickchartButtonEl =\n",
              "        document.querySelector('#' + key + ' button');\n",
              "      quickchartButtonEl.disabled = true;  // To prevent multiple clicks.\n",
              "      quickchartButtonEl.classList.add('colab-df-spinner');\n",
              "      try {\n",
              "        const charts = await google.colab.kernel.invokeFunction(\n",
              "            'suggestCharts', [key], {});\n",
              "      } catch (error) {\n",
              "        console.error('Error during call to suggestCharts:', error);\n",
              "      }\n",
              "      quickchartButtonEl.classList.remove('colab-df-spinner');\n",
              "      quickchartButtonEl.classList.add('colab-df-quickchart-complete');\n",
              "    }\n",
              "    (() => {\n",
              "      let quickchartButtonEl =\n",
              "        document.querySelector('#df-c80dac27-444c-4914-a2f2-188423639020 button');\n",
              "      quickchartButtonEl.style.display =\n",
              "        google.colab.kernel.accessAllowed ? 'block' : 'none';\n",
              "    })();\n",
              "  </script>\n",
              "</div>\n",
              "    </div>\n",
              "  </div>\n"
            ]
          },
          "metadata": {},
          "execution_count": 50
        }
      ]
    },
    {
      "cell_type": "code",
      "source": [
        "plt.xlabel('x')\n",
        "plt.ylabel('y')\n",
        "plt.scatter(trainx,trainy,color='blue',marker='+')\n",
        "\n",
        "plt.plot(test,hypothesis(test.x,b,w1),color='red',marker='.')\n",
        "plt.show"
      ],
      "metadata": {
        "colab": {
          "base_uri": "https://localhost:8080/",
          "height": 482
        },
        "id": "sDczfXtGvsfU",
        "outputId": "5a12b44f-54bd-4753-b06c-0eba9af36771"
      },
      "execution_count": 51,
      "outputs": [
        {
          "output_type": "execute_result",
          "data": {
            "text/plain": [
              "<function matplotlib.pyplot.show(close=None, block=None)>"
            ]
          },
          "metadata": {},
          "execution_count": 51
        },
        {
          "output_type": "display_data",
          "data": {
            "text/plain": [
              "<Figure size 640x480 with 1 Axes>"
            ],
            "image/png": "[encoded data removed]"
          },
          "metadata": {}
        }
      ]
    }
  ]
}