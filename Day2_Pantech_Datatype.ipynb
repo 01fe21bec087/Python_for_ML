{
  "nbformat": 4,
  "nbformat_minor": 0,
  "metadata": {
    "colab": {
      "provenance": [],
      "toc_visible": true,
      "authorship_tag": "ABX9TyPOM+ceCZp3Z/TNwGOiKS/G",
      "include_colab_link": true
    },
    "kernelspec": {
      "name": "python3",
      "display_name": "Python 3"
    },
    "language_info": {
      "name": "python"
    }
  },
  "cells": [
    {
      "cell_type": "markdown",
      "metadata": {
        "id": "view-in-github",
        "colab_type": "text"
      },
      "source": [
        "<a href=\"https://colab.research.google.com/github/01fe21bec087/Python_for_ML/blob/main/Day2_Pantech_Datatype.ipynb\" target=\"_parent\"><img src=\"https://colab.research.google.com/assets/colab-badge.svg\" alt=\"Open In Colab\"/></a>"
      ]
    },
    {
      "cell_type": "markdown",
      "source": [
        "# ***Datatypes***"
      ],
      "metadata": {
        "id": "wwvcbP3uF4Kt"
      }
    },
    {
      "cell_type": "code",
      "execution_count": 1,
      "metadata": {
        "colab": {
          "base_uri": "https://localhost:8080/"
        },
        "id": "9Kyn3PiGEcJh",
        "outputId": "a6403ab1-8547-4e9e-a401-a637cf59cc78"
      },
      "outputs": [
        {
          "output_type": "execute_result",
          "data": {
            "text/plain": [
              "15"
            ]
          },
          "metadata": {},
          "execution_count": 1
        }
      ],
      "source": [
        "15"
      ]
    },
    {
      "cell_type": "code",
      "source": [
        "print(type(15))"
      ],
      "metadata": {
        "colab": {
          "base_uri": "https://localhost:8080/"
        },
        "id": "BNysv1JQGD-m",
        "outputId": "39e5a70b-e51a-4aec-f60b-2f15489e1394"
      },
      "execution_count": 3,
      "outputs": [
        {
          "output_type": "stream",
          "name": "stdout",
          "text": [
            "<class 'int'>\n"
          ]
        }
      ]
    },
    {
      "cell_type": "markdown",
      "source": [
        "## ***Number type Conversion***"
      ],
      "metadata": {
        "id": "-x0aBMz8Ftpq"
      }
    },
    {
      "cell_type": "code",
      "source": [
        "int(5.32)"
      ],
      "metadata": {
        "colab": {
          "base_uri": "https://localhost:8080/"
        },
        "id": "Wr0xR9hHGKH6",
        "outputId": "c3855e57-8dd3-4232-db9d-ebd6d84dd373"
      },
      "execution_count": 8,
      "outputs": [
        {
          "output_type": "execute_result",
          "data": {
            "text/plain": [
              "5"
            ]
          },
          "metadata": {},
          "execution_count": 8
        }
      ]
    },
    {
      "cell_type": "code",
      "source": [
        "float(11)"
      ],
      "metadata": {
        "colab": {
          "base_uri": "https://localhost:8080/"
        },
        "id": "C1ZZ3mbQGPmu",
        "outputId": "1dc7d43e-6c68-422c-cda5-c398685425aa"
      },
      "execution_count": 9,
      "outputs": [
        {
          "output_type": "execute_result",
          "data": {
            "text/plain": [
              "11.0"
            ]
          },
          "metadata": {},
          "execution_count": 9
        }
      ]
    },
    {
      "cell_type": "code",
      "source": [
        "complex(10)"
      ],
      "metadata": {
        "colab": {
          "base_uri": "https://localhost:8080/"
        },
        "id": "pYrbD9sUGRzP",
        "outputId": "d495b01a-28a7-4f26-f2d1-08de0bac12db"
      },
      "execution_count": 6,
      "outputs": [
        {
          "output_type": "execute_result",
          "data": {
            "text/plain": [
              "(10+0j)"
            ]
          },
          "metadata": {},
          "execution_count": 6
        }
      ]
    },
    {
      "cell_type": "markdown",
      "source": [
        "### ***Logical Operators***"
      ],
      "metadata": {
        "id": "U3OPBCo5QiCr"
      }
    },
    {
      "cell_type": "code",
      "source": [
        "3>5 and 5<9"
      ],
      "metadata": {
        "colab": {
          "base_uri": "https://localhost:8080/"
        },
        "id": "VrTEPs31Qi5g",
        "outputId": "7f79e0e3-78d4-462e-9eee-55467b89c35c"
      },
      "execution_count": 64,
      "outputs": [
        {
          "output_type": "execute_result",
          "data": {
            "text/plain": [
              "False"
            ]
          },
          "metadata": {},
          "execution_count": 64
        }
      ]
    },
    {
      "cell_type": "markdown",
      "source": [
        "## ***Boolean***"
      ],
      "metadata": {
        "id": "0mKMPZp8Gogv"
      }
    },
    {
      "cell_type": "code",
      "source": [
        "print(type(True))\n",
        "print(False)"
      ],
      "metadata": {
        "colab": {
          "base_uri": "https://localhost:8080/"
        },
        "id": "eUfA8kXEG9KO",
        "outputId": "a948c16a-25bf-4598-c26a-f1a29e9f4da1"
      },
      "execution_count": 10,
      "outputs": [
        {
          "output_type": "stream",
          "name": "stdout",
          "text": [
            "<class 'bool'>\n",
            "False\n"
          ]
        }
      ]
    },
    {
      "cell_type": "markdown",
      "source": [
        "## ***Strings***"
      ],
      "metadata": {
        "id": "xj4To-fEJdYG"
      }
    },
    {
      "cell_type": "code",
      "source": [
        "name=\"Shiva\"\n",
        "print(len(name))"
      ],
      "metadata": {
        "colab": {
          "base_uri": "https://localhost:8080/"
        },
        "id": "5rtGAPDBJWON",
        "outputId": "73dbcd36-65c7-48e1-9a25-cebb3a6980c5"
      },
      "execution_count": 12,
      "outputs": [
        {
          "output_type": "stream",
          "name": "stdout",
          "text": [
            "5\n"
          ]
        }
      ]
    },
    {
      "cell_type": "code",
      "source": [
        "#zero indexing\n",
        "print(name[0])\n",
        "print(name[1])"
      ],
      "metadata": {
        "colab": {
          "base_uri": "https://localhost:8080/"
        },
        "id": "dDulYIDYJogN",
        "outputId": "83678d7b-941c-479d-cba0-290e45862644"
      },
      "execution_count": 18,
      "outputs": [
        {
          "output_type": "stream",
          "name": "stdout",
          "text": [
            "S\n",
            "h\n"
          ]
        }
      ]
    },
    {
      "cell_type": "code",
      "source": [
        "#negative indexing\n",
        "print(name[-1])\n",
        "print(name[-2])"
      ],
      "metadata": {
        "colab": {
          "base_uri": "https://localhost:8080/"
        },
        "id": "JmLPG--8KFEM",
        "outputId": "dc50b378-180a-4152-e983-53a91c9eaac5"
      },
      "execution_count": 19,
      "outputs": [
        {
          "output_type": "stream",
          "name": "stdout",
          "text": [
            "a\n",
            "v\n"
          ]
        }
      ]
    },
    {
      "cell_type": "code",
      "source": [
        "#Reverse indexing\n",
        "print(name[~0])\n",
        "print(name[~1])"
      ],
      "metadata": {
        "colab": {
          "base_uri": "https://localhost:8080/"
        },
        "id": "jlKjGAD5J041",
        "outputId": "5ac2721b-56d0-4563-99e1-3bfdefe84037"
      },
      "execution_count": 17,
      "outputs": [
        {
          "output_type": "stream",
          "name": "stdout",
          "text": [
            "a\n",
            "v\n"
          ]
        }
      ]
    },
    {
      "cell_type": "code",
      "source": [
        "x=\"Hello world\"\n",
        "print(len(x))"
      ],
      "metadata": {
        "colab": {
          "base_uri": "https://localhost:8080/"
        },
        "id": "CMCLfBHOKOeE",
        "outputId": "801621c3-0147-4398-dfae-58caed7f72d4"
      },
      "execution_count": 20,
      "outputs": [
        {
          "output_type": "stream",
          "name": "stdout",
          "text": [
            "11\n"
          ]
        }
      ]
    },
    {
      "cell_type": "markdown",
      "source": [
        "### ***String Slicing***"
      ],
      "metadata": {
        "id": "_CuNlzR7KwfF"
      }
    },
    {
      "cell_type": "code",
      "source": [
        "#String Slicing\n",
        "print(x[0:])\n",
        "print(x[0:3])\n",
        "print(x[:4])"
      ],
      "metadata": {
        "colab": {
          "base_uri": "https://localhost:8080/"
        },
        "id": "wZzTt1fAKUi9",
        "outputId": "78914158-e034-45cc-a4fe-2e5a0794e700"
      },
      "execution_count": 31,
      "outputs": [
        {
          "output_type": "stream",
          "name": "stdout",
          "text": [
            "Hello world\n",
            "Hel\n",
            "Hell\n"
          ]
        }
      ]
    },
    {
      "cell_type": "markdown",
      "source": [
        "### ***String Concatenate***"
      ],
      "metadata": {
        "id": "tO37iFCoLBXy"
      }
    },
    {
      "cell_type": "code",
      "source": [
        "x=\"Hello\"\n",
        "y=\"World\"\n",
        "print(x+y)"
      ],
      "metadata": {
        "colab": {
          "base_uri": "https://localhost:8080/"
        },
        "id": "QWbt9X7aLGCy",
        "outputId": "a9d7a65d-ce87-4837-8500-2687cf614220"
      },
      "execution_count": 32,
      "outputs": [
        {
          "output_type": "stream",
          "name": "stdout",
          "text": [
            "HelloWorld\n"
          ]
        }
      ]
    },
    {
      "cell_type": "code",
      "source": [
        "a=\"7\"\n",
        "b=\"6\"\n",
        "c=\"a\"\n",
        "print(a+b+c)"
      ],
      "metadata": {
        "colab": {
          "base_uri": "https://localhost:8080/"
        },
        "id": "nj90UCaZLaFb",
        "outputId": "094c1573-5e2d-47c4-dbb1-f1144155bbc9"
      },
      "execution_count": 33,
      "outputs": [
        {
          "output_type": "stream",
          "name": "stdout",
          "text": [
            "76a\n"
          ]
        }
      ]
    },
    {
      "cell_type": "markdown",
      "source": [
        "### ***String formating***"
      ],
      "metadata": {
        "id": "_0Q_CioFLj8Y"
      }
    },
    {
      "cell_type": "code",
      "source": [
        "p=20\n",
        "print(type(p))\n",
        "print(f\"His age is {p}\")\n",
        "#Add a placeholder for p\n",
        "#f denotes formatted string"
      ],
      "metadata": {
        "colab": {
          "base_uri": "https://localhost:8080/"
        },
        "id": "xjS7M0w6LlrQ",
        "outputId": "cbaa5d38-a067-4e85-f706-37d53ab5d3f7"
      },
      "execution_count": 40,
      "outputs": [
        {
          "output_type": "stream",
          "name": "stdout",
          "text": [
            "<class 'int'>\n",
            "His age is 20\n"
          ]
        }
      ]
    },
    {
      "cell_type": "code",
      "source": [
        "q=2003\n",
        "print(f\"His age is {p} born in {q}\")"
      ],
      "metadata": {
        "colab": {
          "base_uri": "https://localhost:8080/"
        },
        "id": "Wbjp-TW0OOfQ",
        "outputId": "b70b3d93-16b6-4496-88db-ee92c8bbc87f"
      },
      "execution_count": 41,
      "outputs": [
        {
          "output_type": "stream",
          "name": "stdout",
          "text": [
            "His age is 20 born in 2003\n"
          ]
        }
      ]
    },
    {
      "cell_type": "markdown",
      "source": [
        "### ***String Count***"
      ],
      "metadata": {
        "id": "HYxXCAQLOCxw"
      }
    },
    {
      "cell_type": "code",
      "source": [
        "x=\"Hello Helloe Hello\"\n",
        "y=x.count('Hello')\n",
        "print(y)"
      ],
      "metadata": {
        "colab": {
          "base_uri": "https://localhost:8080/"
        },
        "id": "IvKf4qdtObSe",
        "outputId": "69167b7b-8e84-445c-c1e0-7b16f464a777"
      },
      "execution_count": 61,
      "outputs": [
        {
          "output_type": "stream",
          "name": "stdout",
          "text": [
            "3\n"
          ]
        }
      ]
    },
    {
      "cell_type": "code",
      "source": [
        "print(x.count('l'))"
      ],
      "metadata": {
        "colab": {
          "base_uri": "https://localhost:8080/"
        },
        "id": "jOo5rVXDOoCs",
        "outputId": "36a1b11b-ea0f-4b1a-e99c-395328b0aca1"
      },
      "execution_count": 62,
      "outputs": [
        {
          "output_type": "stream",
          "name": "stdout",
          "text": [
            "6\n"
          ]
        }
      ]
    },
    {
      "cell_type": "code",
      "source": [
        "#Counting space\n",
        "print(x.count(' '))"
      ],
      "metadata": {
        "colab": {
          "base_uri": "https://localhost:8080/"
        },
        "id": "gvv52LLzQBec",
        "outputId": "fe9a1c3e-4c0f-46ab-b92b-c30c80fef34b"
      },
      "execution_count": 63,
      "outputs": [
        {
          "output_type": "stream",
          "name": "stdout",
          "text": [
            "2\n"
          ]
        }
      ]
    },
    {
      "cell_type": "markdown",
      "source": [
        "### ***Capitalize***"
      ],
      "metadata": {
        "id": "e1p_Gps_OwGB"
      }
    },
    {
      "cell_type": "code",
      "source": [
        "#First character is converted to uppercase, and rest ones are converted to lowercase\n",
        "x=\"heLLo WoRLd\"\n",
        "print(x.capitalize())"
      ],
      "metadata": {
        "colab": {
          "base_uri": "https://localhost:8080/"
        },
        "id": "yRGWrahaOzBI",
        "outputId": "44f303cd-f560-4af3-c866-3f9aae1ee014"
      },
      "execution_count": 46,
      "outputs": [
        {
          "output_type": "stream",
          "name": "stdout",
          "text": [
            "Hello world\n"
          ]
        }
      ]
    },
    {
      "cell_type": "code",
      "source": [
        "x.upper()"
      ],
      "metadata": {
        "colab": {
          "base_uri": "https://localhost:8080/",
          "height": 36
        },
        "id": "rRkrPo9nPF5r",
        "outputId": "c5ad810a-ed64-43ee-a738-87569944c534"
      },
      "execution_count": 49,
      "outputs": [
        {
          "output_type": "execute_result",
          "data": {
            "text/plain": [
              "'HELLO WORLD'"
            ],
            "application/vnd.google.colaboratory.intrinsic+json": {
              "type": "string"
            }
          },
          "metadata": {},
          "execution_count": 49
        }
      ]
    },
    {
      "cell_type": "code",
      "source": [
        "x.lower()"
      ],
      "metadata": {
        "colab": {
          "base_uri": "https://localhost:8080/",
          "height": 36
        },
        "id": "RXf7c9ruPMx3",
        "outputId": "59361a6a-44da-4d07-b4a3-2ac12c4ce43e"
      },
      "execution_count": 50,
      "outputs": [
        {
          "output_type": "execute_result",
          "data": {
            "text/plain": [
              "'hello world'"
            ],
            "application/vnd.google.colaboratory.intrinsic+json": {
              "type": "string"
            }
          },
          "metadata": {},
          "execution_count": 50
        }
      ]
    },
    {
      "cell_type": "markdown",
      "source": [
        "### ***String Replace***"
      ],
      "metadata": {
        "id": "14zKZr1RPRgS"
      }
    },
    {
      "cell_type": "code",
      "source": [
        "#Replace specific string with another specified string\n",
        "#replace(<existing_string>,<replacing_string>)\n",
        "x=\"Welcome to python course\"\n",
        "y=x.replace(\"python\",\"machine learning\")\n",
        "print(x)\n",
        "print(y)"
      ],
      "metadata": {
        "colab": {
          "base_uri": "https://localhost:8080/"
        },
        "id": "BMnp_rxKPWRm",
        "outputId": "125f6203-d781-4433-851b-0dd5235dd12f"
      },
      "execution_count": 53,
      "outputs": [
        {
          "output_type": "stream",
          "name": "stdout",
          "text": [
            "Welcome to python course\n",
            "Welcome to machine learning course\n"
          ]
        }
      ]
    },
    {
      "cell_type": "code",
      "source": [
        "x=\"Hello Helloe otHello\"\n",
        "y=x.replace(\"Hello\",\"Hi\")\n",
        "print(y)"
      ],
      "metadata": {
        "colab": {
          "base_uri": "https://localhost:8080/"
        },
        "id": "wkCEiY8CQrdQ",
        "outputId": "a5d6d6d8-740c-4338-9284-80dc5476985f"
      },
      "execution_count": 66,
      "outputs": [
        {
          "output_type": "stream",
          "name": "stdout",
          "text": [
            "Hi Hie otHi\n"
          ]
        }
      ]
    },
    {
      "cell_type": "code",
      "source": [
        "z=x.replace(\"Hello\",\"Hi\",2)\n",
        "#Only First two occurences of \"Hello\" will be replaced by \"Hi\"\n",
        "print(z)"
      ],
      "metadata": {
        "colab": {
          "base_uri": "https://localhost:8080/"
        },
        "id": "e1W_1LahQ2u5",
        "outputId": "c9c9f2b2-0132-4168-8b7f-0c222c271c38"
      },
      "execution_count": 76,
      "outputs": [
        {
          "output_type": "stream",
          "name": "stdout",
          "text": [
            "Hi Hie otHello\n"
          ]
        }
      ]
    },
    {
      "cell_type": "markdown",
      "source": [
        "### ***String Split***"
      ],
      "metadata": {
        "id": "-yzc_9cmRUJW"
      }
    },
    {
      "cell_type": "code",
      "source": [
        "#Split string into separate string in list\n",
        "x=\"Welcome to this course\"\n",
        "y=x.split() #Split wrt space\n",
        "print(y)"
      ],
      "metadata": {
        "colab": {
          "base_uri": "https://localhost:8080/"
        },
        "id": "hnTsMcw2RWmB",
        "outputId": "7152ea7f-0a46-45ad-f1c1-74434cb6db19"
      },
      "execution_count": 84,
      "outputs": [
        {
          "output_type": "stream",
          "name": "stdout",
          "text": [
            "['Welcome', 'to', 'this', 'course']\n"
          ]
        }
      ]
    },
    {
      "cell_type": "code",
      "source": [
        "print(type(y))\n",
        "print(y[2])"
      ],
      "metadata": {
        "colab": {
          "base_uri": "https://localhost:8080/"
        },
        "id": "SWMw2TsjRiEy",
        "outputId": "1a026847-1b6f-47f1-d612-80ff5861f866"
      },
      "execution_count": 81,
      "outputs": [
        {
          "output_type": "stream",
          "name": "stdout",
          "text": [
            "<class 'list'>\n",
            "this\n"
          ]
        }
      ]
    },
    {
      "cell_type": "code",
      "source": [
        "z=x.split('e')  #Split wrt 'e'\n",
        "print(z)"
      ],
      "metadata": {
        "colab": {
          "base_uri": "https://localhost:8080/"
        },
        "id": "eKwW-vraRvhj",
        "outputId": "6586ee82-9613-4445-e7d6-b0f0ef497d07"
      },
      "execution_count": 85,
      "outputs": [
        {
          "output_type": "stream",
          "name": "stdout",
          "text": [
            "['W', 'lcom', ' to this cours', '']\n"
          ]
        }
      ]
    },
    {
      "cell_type": "code",
      "source": [
        "msg1=\"This is the most breathtaking thesis\"\n",
        "list1=msg1.split(\"th\")\n",
        "print(list1)"
      ],
      "metadata": {
        "colab": {
          "base_uri": "https://localhost:8080/"
        },
        "id": "qaGB0GEgSD-G",
        "outputId": "efcffc02-cc47-487b-d721-0dd8a478ed2c"
      },
      "execution_count": 86,
      "outputs": [
        {
          "output_type": "stream",
          "name": "stdout",
          "text": [
            "['This is ', 'e most brea', 'taking ', 'esis']\n"
          ]
        }
      ]
    }
  ]
}