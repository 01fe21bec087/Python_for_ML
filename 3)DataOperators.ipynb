{
  "nbformat": 4,
  "nbformat_minor": 0,
  "metadata": {
    "colab": {
      "provenance": [],
      "toc_visible": true,
      "authorship_tag": "ABX9TyNK5OH9dfklvWKYlDwsrfn7",
      "include_colab_link": true
    },
    "kernelspec": {
      "name": "python3",
      "display_name": "Python 3"
    },
    "language_info": {
      "name": "python"
    }
  },
  "cells": [
    {
      "cell_type": "markdown",
      "metadata": {
        "id": "view-in-github",
        "colab_type": "text"
      },
      "source": [
        "<a href=\"https://colab.research.google.com/github/01fe21bec087/Python_for_ML/blob/main/3)DataOperators.ipynb\" target=\"_parent\"><img src=\"https://colab.research.google.com/assets/colab-badge.svg\" alt=\"Open In Colab\"/></a>"
      ]
    },
    {
      "cell_type": "markdown",
      "source": [
        "# ***Data Operators in Python***"
      ],
      "metadata": {
        "id": "wzDGme3LYaKi"
      }
    },
    {
      "cell_type": "markdown",
      "source": [
        "## ***1. Arithmetic Operators***"
      ],
      "metadata": {
        "id": "2SiSoMQQYfY_"
      }
    },
    {
      "cell_type": "code",
      "source": [
        "x=12\n",
        "y=4\n",
        "\n",
        "sum=x+y\n",
        "print(sum)\n",
        "\n",
        "diff=x-y\n",
        "print(diff)\n",
        "\n",
        "prod=x*y\n",
        "print(prod)\n",
        "\n",
        "div=x/y\n",
        "print(div)\n",
        "\n",
        "fdiv=x//y\n",
        "print(fdiv)\n",
        "\n",
        "mod=x%y\n",
        "print(mod)\n",
        "\n",
        "power=x**y\n",
        "print(power)"
      ],
      "metadata": {
        "colab": {
          "base_uri": "https://localhost:8080/"
        },
        "id": "0aNWwOgACE9i",
        "outputId": "251196d4-ba32-4be3-a172-472853330619"
      },
      "execution_count": null,
      "outputs": [
        {
          "output_type": "stream",
          "name": "stdout",
          "text": [
            "16\n",
            "8\n",
            "48\n",
            "3.0\n",
            "3\n",
            "0\n",
            "20736\n"
          ]
        }
      ]
    },
    {
      "cell_type": "markdown",
      "source": [
        "## ***2. Logical Operators***"
      ],
      "metadata": {
        "id": "nG2m0Sz2YntH"
      }
    },
    {
      "cell_type": "code",
      "source": [
        "age=int(input(\"Enter the age: \"))\n",
        "print(age>18 and age<60)\n",
        "print(age>21 or age<18)"
      ],
      "metadata": {
        "colab": {
          "base_uri": "https://localhost:8080/"
        },
        "id": "knMYveCzDIOV",
        "outputId": "950602c8-9fca-41cc-b4b6-58b830a2835c"
      },
      "execution_count": null,
      "outputs": [
        {
          "output_type": "stream",
          "name": "stdout",
          "text": [
            "Enter the age: 20\n",
            "True\n",
            "False\n"
          ]
        }
      ]
    },
    {
      "cell_type": "markdown",
      "source": [
        "## ***3. Comparison Operators***"
      ],
      "metadata": {
        "id": "-FqoZ8rGYrE6"
      }
    },
    {
      "cell_type": "markdown",
      "source": [
        "## ***4. Bitwise Operators***"
      ],
      "metadata": {
        "id": "imXEgsknYvje"
      }
    },
    {
      "cell_type": "markdown",
      "source": [
        "&, |, ^, ~, <<, >>"
      ],
      "metadata": {
        "id": "FVVOxbH0Y_h4"
      }
    },
    {
      "cell_type": "code",
      "source": [
        "print(8&12)\n",
        "print(0xfe|0x12)\n",
        "x=int(input())\n",
        "y=int(input())\n",
        "Exor=x^y\n",
        "print(Exor)"
      ],
      "metadata": {
        "colab": {
          "base_uri": "https://localhost:8080/"
        },
        "id": "ZpZxQCsVZD-B",
        "outputId": "bf15bc9d-36e4-4d77-cccf-6d05be405b0d"
      },
      "execution_count": null,
      "outputs": [
        {
          "output_type": "stream",
          "name": "stdout",
          "text": [
            "8\n",
            "254\n",
            "3\n",
            "4\n",
            "7\n",
            "-12\n"
          ]
        }
      ]
    },
    {
      "cell_type": "code",
      "source": [
        "#NOT\n",
        "print(~11)\n",
        "print(~15)\n",
        "print(~0)\n",
        "print(~16)"
      ],
      "metadata": {
        "colab": {
          "base_uri": "https://localhost:8080/"
        },
        "id": "oExfZRnhdkE7",
        "outputId": "3b4c99e0-a75e-4525-fbe1-aecb8091a03b"
      },
      "execution_count": null,
      "outputs": [
        {
          "output_type": "stream",
          "name": "stdout",
          "text": [
            "-12\n",
            "-16\n",
            "-1\n",
            "-17\n"
          ]
        }
      ]
    },
    {
      "cell_type": "code",
      "source": [
        "print(\"3x(2^1) = \",3<<1)   #left shift (X by 2^n)\n",
        "a=int(input())\n",
        "b=int(input())\n",
        "print(a,\"/(2^\",b,\") = \",a>>b)"
      ],
      "metadata": {
        "id": "qe0ELzaub11o",
        "colab": {
          "base_uri": "https://localhost:8080/"
        },
        "outputId": "3440dfe2-4aac-4bec-cdc6-854613e2e19d"
      },
      "execution_count": null,
      "outputs": [
        {
          "output_type": "stream",
          "name": "stdout",
          "text": [
            "3x(2^1) =  6\n",
            "123456\n",
            "12\n",
            "123456 /(2^ 12 ) =  30\n"
          ]
        }
      ]
    },
    {
      "cell_type": "markdown",
      "source": [
        "## ***5. Assignment Operators***"
      ],
      "metadata": {
        "id": "DULzoQzXhjw1"
      }
    },
    {
      "cell_type": "code",
      "source": [
        "a=int(input())\n",
        "b=int(input())\n",
        "a+=b\n",
        "print(a)\n",
        "a-=b\n",
        "print(a)\n",
        "a*=b\n",
        "print(a)\n",
        "a>>=b\n",
        "print(a)\n",
        "a**=b\n",
        "print(a)\n",
        "\n",
        "a<<=b\n",
        "print(a)\n",
        "a&=b\n",
        "print(a)\n",
        "a|=b\n",
        "print(a)\n",
        "a/=b\n",
        "print(a)\n",
        "a%=b\n",
        "print(a)"
      ],
      "metadata": {
        "colab": {
          "base_uri": "https://localhost:8080/"
        },
        "id": "GBG3KS9EhmCL",
        "outputId": "b7f022db-3c0f-4a3b-cb4d-4a97fe2bc85d"
      },
      "execution_count": null,
      "outputs": [
        {
          "output_type": "stream",
          "name": "stdout",
          "text": [
            "5\n",
            "3\n",
            "8\n",
            "5\n",
            "15\n",
            "1\n",
            "1\n",
            "8\n",
            "0\n",
            "3\n",
            "1.0\n",
            "1.0\n"
          ]
        }
      ]
    },
    {
      "cell_type": "markdown",
      "source": [
        "## ***6. Identity and Membership Operators***"
      ],
      "metadata": {
        "id": "TFFc99YCkrC6"
      }
    },
    {
      "cell_type": "markdown",
      "source": [
        "is, is not\n",
        "\n",
        "in"
      ],
      "metadata": {
        "id": "6dFKgfK5kuLb"
      }
    },
    {
      "cell_type": "code",
      "source": [
        "list1=[\"Hubli\",\"Belgaum\",\"Gadag\",\"Bengaluru\"]\n",
        "list2=[\"Karnataka\",\"Maharashtra\"]\n",
        "list3=list2\n",
        "list3=list1\n",
        "print(list3 is not list2)\n",
        "print(list3 is list1)\n",
        "print(\"Belgaum\" in list1)\n",
        "list4=[\"Maharashtra\"]\n",
        "print(list4 in list2)\n",
        "str1=\"Maharashtra\"\n",
        "print(str1 in list2)"
      ],
      "metadata": {
        "colab": {
          "base_uri": "https://localhost:8080/"
        },
        "id": "AjZVI6fNkwTM",
        "outputId": "c6d2029d-e73e-432c-cd7d-f3f9ed77706c"
      },
      "execution_count": null,
      "outputs": [
        {
          "output_type": "stream",
          "name": "stdout",
          "text": [
            "True\n",
            "True\n",
            "True\n",
            "False\n",
            "True\n"
          ]
        }
      ]
    }
  ]
}