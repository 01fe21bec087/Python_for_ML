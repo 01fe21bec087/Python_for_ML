{
  "nbformat": 4,
  "nbformat_minor": 0,
  "metadata": {
    "colab": {
      "provenance": [],
      "toc_visible": true,
      "mount_file_id": "1qeyfRMB_T4W_kWdDyk7ajVw9dIbX56-4",
      "authorship_tag": "ABX9TyMls7VrvgkwrQe+wf56FRxu",
      "include_colab_link": true
    },
    "kernelspec": {
      "name": "python3",
      "display_name": "Python 3"
    },
    "language_info": {
      "name": "python"
    }
  },
  "cells": [
    {
      "cell_type": "markdown",
      "metadata": {
        "id": "view-in-github",
        "colab_type": "text"
      },
      "source": [
        "<a href=\"https://colab.research.google.com/github/01fe21bec087/Python_for_ML/blob/main/Basic_Python_Excercise_1.ipynb\" target=\"_parent\"><img src=\"https://colab.research.google.com/assets/colab-badge.svg\" alt=\"Open In Colab\"/></a>"
      ]
    },
    {
      "cell_type": "markdown",
      "source": [
        "# ***1. Read a CSV file with data in multiple columns and compute mean, median, mode of each of the columns.***"
      ],
      "metadata": {
        "id": "e6BH8_p16Jwh"
      }
    },
    {
      "cell_type": "markdown",
      "source": [
        "## ***Reading and plotting a .csv file***"
      ],
      "metadata": {
        "id": "6fdgAEhV6Tq0"
      }
    },
    {
      "cell_type": "code",
      "execution_count": 4,
      "metadata": {
        "colab": {
          "base_uri": "https://localhost:8080/",
          "height": 363
        },
        "id": "lKGob9u12Fk9",
        "outputId": "e2108ce2-c466-4008-fc80-30484a6a48e0"
      },
      "outputs": [
        {
          "output_type": "execute_result",
          "data": {
            "text/plain": [
              "  trip`  distance  price\n",
              "0     A       545   3000\n",
              "1     B       954  12000\n",
              "2     C       154    700\n",
              "3     D       789  10000\n",
              "4     E       546   5000\n",
              "5     E       123    900\n",
              "6     F       786   8000\n",
              "7     G       243   1500\n",
              "8     H       852  12000\n",
              "9     I       986  11000"
            ],
            "text/html": [
              "\n",
              "  <div id=\"df-9d02bcf8-4762-4148-9a42-3a2dd1be25b0\" class=\"colab-df-container\">\n",
              "    <div>\n",
              "<style scoped>\n",
              "    .dataframe tbody tr th:only-of-type {\n",
              "        vertical-align: middle;\n",
              "    }\n",
              "\n",
              "    .dataframe tbody tr th {\n",
              "        vertical-align: top;\n",
              "    }\n",
              "\n",
              "    .dataframe thead th {\n",
              "        text-align: right;\n",
              "    }\n",
              "</style>\n",
              "<table border=\"1\" class=\"dataframe\">\n",
              "  <thead>\n",
              "    <tr style=\"text-align: right;\">\n",
              "      <th></th>\n",
              "      <th>trip`</th>\n",
              "      <th>distance</th>\n",
              "      <th>price</th>\n",
              "    </tr>\n",
              "  </thead>\n",
              "  <tbody>\n",
              "    <tr>\n",
              "      <th>0</th>\n",
              "      <td>A</td>\n",
              "      <td>545</td>\n",
              "      <td>3000</td>\n",
              "    </tr>\n",
              "    <tr>\n",
              "      <th>1</th>\n",
              "      <td>B</td>\n",
              "      <td>954</td>\n",
              "      <td>12000</td>\n",
              "    </tr>\n",
              "    <tr>\n",
              "      <th>2</th>\n",
              "      <td>C</td>\n",
              "      <td>154</td>\n",
              "      <td>700</td>\n",
              "    </tr>\n",
              "    <tr>\n",
              "      <th>3</th>\n",
              "      <td>D</td>\n",
              "      <td>789</td>\n",
              "      <td>10000</td>\n",
              "    </tr>\n",
              "    <tr>\n",
              "      <th>4</th>\n",
              "      <td>E</td>\n",
              "      <td>546</td>\n",
              "      <td>5000</td>\n",
              "    </tr>\n",
              "    <tr>\n",
              "      <th>5</th>\n",
              "      <td>E</td>\n",
              "      <td>123</td>\n",
              "      <td>900</td>\n",
              "    </tr>\n",
              "    <tr>\n",
              "      <th>6</th>\n",
              "      <td>F</td>\n",
              "      <td>786</td>\n",
              "      <td>8000</td>\n",
              "    </tr>\n",
              "    <tr>\n",
              "      <th>7</th>\n",
              "      <td>G</td>\n",
              "      <td>243</td>\n",
              "      <td>1500</td>\n",
              "    </tr>\n",
              "    <tr>\n",
              "      <th>8</th>\n",
              "      <td>H</td>\n",
              "      <td>852</td>\n",
              "      <td>12000</td>\n",
              "    </tr>\n",
              "    <tr>\n",
              "      <th>9</th>\n",
              "      <td>I</td>\n",
              "      <td>986</td>\n",
              "      <td>11000</td>\n",
              "    </tr>\n",
              "  </tbody>\n",
              "</table>\n",
              "</div>\n",
              "    <div class=\"colab-df-buttons\">\n",
              "\n",
              "  <div class=\"colab-df-container\">\n",
              "    <button class=\"colab-df-convert\" onclick=\"convertToInteractive('df-9d02bcf8-4762-4148-9a42-3a2dd1be25b0')\"\n",
              "            title=\"Convert this dataframe to an interactive table.\"\n",
              "            style=\"display:none;\">\n",
              "\n",
              "  <svg xmlns=\"http://www.w3.org/2000/svg\" height=\"24px\" viewBox=\"0 -960 960 960\">\n",
              "    <path d=\"M120-120v-720h720v720H120Zm60-500h600v-160H180v160Zm220 220h160v-160H400v160Zm0 220h160v-160H400v160ZM180-400h160v-160H180v160Zm440 0h160v-160H620v160ZM180-180h160v-160H180v160Zm440 0h160v-160H620v160Z\"/>\n",
              "  </svg>\n",
              "    </button>\n",
              "\n",
              "  <style>\n",
              "    .colab-df-container {\n",
              "      display:flex;\n",
              "      gap: 12px;\n",
              "    }\n",
              "\n",
              "    .colab-df-convert {\n",
              "      background-color: #E8F0FE;\n",
              "      border: none;\n",
              "      border-radius: 50%;\n",
              "      cursor: pointer;\n",
              "      display: none;\n",
              "      fill: #1967D2;\n",
              "      height: 32px;\n",
              "      padding: 0 0 0 0;\n",
              "      width: 32px;\n",
              "    }\n",
              "\n",
              "    .colab-df-convert:hover {\n",
              "      background-color: #E2EBFA;\n",
              "      box-shadow: 0px 1px 2px rgba(60, 64, 67, 0.3), 0px 1px 3px 1px rgba(60, 64, 67, 0.15);\n",
              "      fill: #174EA6;\n",
              "    }\n",
              "\n",
              "    .colab-df-buttons div {\n",
              "      margin-bottom: 4px;\n",
              "    }\n",
              "\n",
              "    [theme=dark] .colab-df-convert {\n",
              "      background-color: #3B4455;\n",
              "      fill: #D2E3FC;\n",
              "    }\n",
              "\n",
              "    [theme=dark] .colab-df-convert:hover {\n",
              "      background-color: #434B5C;\n",
              "      box-shadow: 0px 1px 3px 1px rgba(0, 0, 0, 0.15);\n",
              "      filter: drop-shadow(0px 1px 2px rgba(0, 0, 0, 0.3));\n",
              "      fill: #FFFFFF;\n",
              "    }\n",
              "  </style>\n",
              "\n",
              "    <script>\n",
              "      const buttonEl =\n",
              "        document.querySelector('#df-9d02bcf8-4762-4148-9a42-3a2dd1be25b0 button.colab-df-convert');\n",
              "      buttonEl.style.display =\n",
              "        google.colab.kernel.accessAllowed ? 'block' : 'none';\n",
              "\n",
              "      async function convertToInteractive(key) {\n",
              "        const element = document.querySelector('#df-9d02bcf8-4762-4148-9a42-3a2dd1be25b0');\n",
              "        const dataTable =\n",
              "          await google.colab.kernel.invokeFunction('convertToInteractive',\n",
              "                                                    [key], {});\n",
              "        if (!dataTable) return;\n",
              "\n",
              "        const docLinkHtml = 'Like what you see? Visit the ' +\n",
              "          '<a target=\"_blank\" href=https://colab.research.google.com/notebooks/data_table.ipynb>data table notebook</a>'\n",
              "          + ' to learn more about interactive tables.';\n",
              "        element.innerHTML = '';\n",
              "        dataTable['output_type'] = 'display_data';\n",
              "        await google.colab.output.renderOutput(dataTable, element);\n",
              "        const docLink = document.createElement('div');\n",
              "        docLink.innerHTML = docLinkHtml;\n",
              "        element.appendChild(docLink);\n",
              "      }\n",
              "    </script>\n",
              "  </div>\n",
              "\n",
              "\n",
              "<div id=\"df-9c07cf07-bb61-4480-9c59-1dffb9c0f741\">\n",
              "  <button class=\"colab-df-quickchart\" onclick=\"quickchart('df-9c07cf07-bb61-4480-9c59-1dffb9c0f741')\"\n",
              "            title=\"Suggest charts.\"\n",
              "            style=\"display:none;\">\n",
              "\n",
              "<svg xmlns=\"http://www.w3.org/2000/svg\" height=\"24px\"viewBox=\"0 0 24 24\"\n",
              "     width=\"24px\">\n",
              "    <g>\n",
              "        <path d=\"M19 3H5c-1.1 0-2 .9-2 2v14c0 1.1.9 2 2 2h14c1.1 0 2-.9 2-2V5c0-1.1-.9-2-2-2zM9 17H7v-7h2v7zm4 0h-2V7h2v10zm4 0h-2v-4h2v4z\"/>\n",
              "    </g>\n",
              "</svg>\n",
              "  </button>\n",
              "\n",
              "<style>\n",
              "  .colab-df-quickchart {\n",
              "    background-color: #E8F0FE;\n",
              "    border: none;\n",
              "    border-radius: 50%;\n",
              "    cursor: pointer;\n",
              "    display: none;\n",
              "    fill: #1967D2;\n",
              "    height: 32px;\n",
              "    padding: 0 0 0 0;\n",
              "    width: 32px;\n",
              "  }\n",
              "\n",
              "  .colab-df-quickchart:hover {\n",
              "    background-color: #E2EBFA;\n",
              "    box-shadow: 0px 1px 2px rgba(60, 64, 67, 0.3), 0px 1px 3px 1px rgba(60, 64, 67, 0.15);\n",
              "    fill: #174EA6;\n",
              "  }\n",
              "\n",
              "  [theme=dark] .colab-df-quickchart {\n",
              "    background-color: #3B4455;\n",
              "    fill: #D2E3FC;\n",
              "  }\n",
              "\n",
              "  [theme=dark] .colab-df-quickchart:hover {\n",
              "    background-color: #434B5C;\n",
              "    box-shadow: 0px 1px 3px 1px rgba(0, 0, 0, 0.15);\n",
              "    filter: drop-shadow(0px 1px 2px rgba(0, 0, 0, 0.3));\n",
              "    fill: #FFFFFF;\n",
              "  }\n",
              "</style>\n",
              "\n",
              "  <script>\n",
              "    async function quickchart(key) {\n",
              "      const charts = await google.colab.kernel.invokeFunction(\n",
              "          'suggestCharts', [key], {});\n",
              "    }\n",
              "    (() => {\n",
              "      let quickchartButtonEl =\n",
              "        document.querySelector('#df-9c07cf07-bb61-4480-9c59-1dffb9c0f741 button');\n",
              "      quickchartButtonEl.style.display =\n",
              "        google.colab.kernel.accessAllowed ? 'block' : 'none';\n",
              "    })();\n",
              "  </script>\n",
              "</div>\n",
              "    </div>\n",
              "  </div>\n"
            ]
          },
          "metadata": {},
          "execution_count": 4
        }
      ],
      "source": [
        "import pandas as pd\n",
        "import matplotlib.pyplot as plt\n",
        "import numpy as np\n",
        "data = pd.read_csv('/content/drive/MyDrive/ML using Python/trip_training.csv')\n",
        "#print(data.to_string())\n",
        "data"
      ]
    },
    {
      "cell_type": "code",
      "source": [
        "#Plotting Training values\n",
        "plt.xlabel('x=Distance(km)')\n",
        "plt.ylabel('y=Price(INR)')\n",
        "plt.scatter(data.distance,data.price,color='blue',marker='+')"
      ],
      "metadata": {
        "colab": {
          "base_uri": "https://localhost:8080/",
          "height": 466
        },
        "id": "TOmlWjk_5J9R",
        "outputId": "9db98d26-fb00-45b8-e283-1cb3f6000a60"
      },
      "execution_count": 5,
      "outputs": [
        {
          "output_type": "execute_result",
          "data": {
            "text/plain": [
              "<matplotlib.collections.PathCollection at 0x79ef0c9e3e20>"
            ]
          },
          "metadata": {},
          "execution_count": 5
        },
        {
          "output_type": "display_data",
          "data": {
            "text/plain": [
              "<Figure size 640x480 with 1 Axes>"
            ],
            "image/png": "[encoded data removed]"
          },
          "metadata": {}
        }
      ]
    },
    {
      "cell_type": "markdown",
      "source": [
        "## ***Finding Mean***"
      ],
      "metadata": {
        "id": "8mUlFvFf6bwX"
      }
    },
    {
      "cell_type": "code",
      "source": [
        "print(\"Mean:\")\n",
        "print(data.mean())"
      ],
      "metadata": {
        "colab": {
          "base_uri": "https://localhost:8080/"
        },
        "id": "Uh_1v2j-6gnc",
        "outputId": "4a3033a2-1f29-4c8f-ae67-8d0043328fed"
      },
      "execution_count": 6,
      "outputs": [
        {
          "output_type": "stream",
          "name": "stdout",
          "text": [
            "Mean:\n",
            "distance     597.8\n",
            "price       6410.0\n",
            "dtype: float64\n"
          ]
        },
        {
          "output_type": "stream",
          "name": "stderr",
          "text": [
            "<ipython-input-6-a72567e44dc3>:2: FutureWarning: The default value of numeric_only in DataFrame.mean is deprecated. In a future version, it will default to False. In addition, specifying 'numeric_only=None' is deprecated. Select only valid columns or specify the value of numeric_only to silence this warning.\n",
            "  print(data.mean())\n"
          ]
        }
      ]
    },
    {
      "cell_type": "markdown",
      "source": [
        "## ***Finding Median***"
      ],
      "metadata": {
        "id": "aEqC6sze6oob"
      }
    },
    {
      "cell_type": "code",
      "source": [
        "print(\"\\nMedian\")\n",
        "print(data.median())"
      ],
      "metadata": {
        "colab": {
          "base_uri": "https://localhost:8080/"
        },
        "id": "HsrbXuS06rKP",
        "outputId": "edf0fcb3-756e-4add-f0c1-ad5523738ae9"
      },
      "execution_count": 7,
      "outputs": [
        {
          "output_type": "stream",
          "name": "stdout",
          "text": [
            "\n",
            "Median\n",
            "distance     666.0\n",
            "price       6500.0\n",
            "dtype: float64\n"
          ]
        },
        {
          "output_type": "stream",
          "name": "stderr",
          "text": [
            "<ipython-input-7-f1e60075f5a1>:2: FutureWarning: The default value of numeric_only in DataFrame.median is deprecated. In a future version, it will default to False. In addition, specifying 'numeric_only=None' is deprecated. Select only valid columns or specify the value of numeric_only to silence this warning.\n",
            "  print(data.median())\n"
          ]
        }
      ]
    },
    {
      "cell_type": "code",
      "source": [
        "a=data.plot()\n",
        "plt.show()"
      ],
      "metadata": {
        "colab": {
          "base_uri": "https://localhost:8080/",
          "height": 430
        },
        "id": "0wumuZQK6v00",
        "outputId": "3dd15e1e-b85f-4f50-9cca-b03dec50bc79"
      },
      "execution_count": 8,
      "outputs": [
        {
          "output_type": "display_data",
          "data": {
            "text/plain": [
              "<Figure size 640x480 with 1 Axes>"
            ],
            "image/png": "[encoded data removed]"
          },
          "metadata": {}
        }
      ]
    },
    {
      "cell_type": "markdown",
      "source": [
        "# ***2. Plot each of the columns with different colors (check what kind of graph is suitable:)***"
      ],
      "metadata": {
        "id": "kU2lxVir6_Pt"
      }
    },
    {
      "cell_type": "code",
      "source": [
        "data.price"
      ],
      "metadata": {
        "colab": {
          "base_uri": "https://localhost:8080/"
        },
        "id": "KyDPhgit7ZHZ",
        "outputId": "c7f83eb3-9614-4c75-ad0f-9cef4b031782"
      },
      "execution_count": 9,
      "outputs": [
        {
          "output_type": "execute_result",
          "data": {
            "text/plain": [
              "0     3000\n",
              "1    12000\n",
              "2      700\n",
              "3    10000\n",
              "4     5000\n",
              "5      900\n",
              "6     8000\n",
              "7     1500\n",
              "8    12000\n",
              "9    11000\n",
              "Name: price, dtype: int64"
            ]
          },
          "metadata": {},
          "execution_count": 9
        }
      ]
    },
    {
      "cell_type": "code",
      "source": [
        "plt.bar(data.distance,data.price,color=[\"red\",\"blue\",\"black\",\"green\",\"violet\",\"orange\",\"grey\",\"hotpink\",\"yellow\"])\n",
        "plt.xlabel(\"distance\")\n",
        "plt.ylabel(\"price\")\n",
        "plt.show()"
      ],
      "metadata": {
        "colab": {
          "base_uri": "https://localhost:8080/",
          "height": 449
        },
        "id": "iXNv4tia7C4p",
        "outputId": "3b1fa231-99cb-4d10-a999-817b7db9814b"
      },
      "execution_count": 16,
      "outputs": [
        {
          "output_type": "display_data",
          "data": {
            "text/plain": [
              "<Figure size 640x480 with 1 Axes>"
            ],
            "image/png": "[encoded data removed]"
          },
          "metadata": {}
        }
      ]
    },
    {
      "cell_type": "code",
      "source": [
        "#Plotting Training values\n",
        "plt.xlabel('x=Distance(km)')\n",
        "plt.ylabel('y=Price(INR)')\n",
        "plt.scatter(data.distance,data.price,color='blue',marker='+')"
      ],
      "metadata": {
        "colab": {
          "base_uri": "https://localhost:8080/",
          "height": 466
        },
        "id": "Symc1Zct8R1Z",
        "outputId": "460df505-c8b5-4aac-df2f-1bd8808174b4"
      },
      "execution_count": 17,
      "outputs": [
        {
          "output_type": "execute_result",
          "data": {
            "text/plain": [
              "<matplotlib.collections.PathCollection at 0x79ef0a48da20>"
            ]
          },
          "metadata": {},
          "execution_count": 17
        },
        {
          "output_type": "display_data",
          "data": {
            "text/plain": [
              "<Figure size 640x480 with 1 Axes>"
            ],
            "image/png": "[encoded data removed]"
          },
          "metadata": {}
        }
      ]
    },
    {
      "cell_type": "markdown",
      "source": [
        "# ***3. Create a game (like lottery/ rock paper/scissors) and write a python code to record how many times the computer won and the user won. Plot the graph showing the success rate of user and computer with different colors***"
      ],
      "metadata": {
        "id": "ts391t3v8Tth"
      }
    },
    {
      "cell_type": "markdown",
      "source": [
        "## ***Lottery Game: Whoever types the greatest number wins***"
      ],
      "metadata": {
        "id": "tOK9KhHN_TMS"
      }
    },
    {
      "cell_type": "code",
      "source": [
        "#Lottery Game: Whoever types the greatest number wins\n",
        "import random\n",
        "compScore=0\n",
        "userScore=0\n",
        "\n",
        "while 1:\n",
        "  computer=random.randint(1,9)\n",
        "  userinput=int(input(\"Enter the number between 1 & 9 (Enter 0 to exit): \"))\n",
        "  print(\"Computer's number: \",computer)\n",
        "  print(\"Your number: \",userinput)\n",
        "\n",
        "  if userinput==0:\n",
        "    print()\n",
        "    print(\"____________________________________________________________\")\n",
        "    print(\"Computer Score: \",compScore,\" Your Score: \",userScore)\n",
        "    if compScore>userScore:\n",
        "      print(\"You lost to computer by \",compScore-userScore,\" points!\")\n",
        "    elif userScore>compScore:\n",
        "      print(\"You won against computer by \",userScore-compScore,\" points!\")\n",
        "    else:\n",
        "      print(\"You are in tie with the computer with scores \",userScore)\n",
        "    print(\"____________________________________________________________\")\n",
        "    break\n",
        "  if computer>userinput:\n",
        "    print(\"Computer scored\")\n",
        "    compScore+=1\n",
        "  elif computer==userinput:\n",
        "    print(\"Tie\")\n",
        "  else:\n",
        "    print(\"You scored\")\n",
        "    userScore+=1\n",
        "  print()"
      ],
      "metadata": {
        "colab": {
          "base_uri": "https://localhost:8080/"
        },
        "id": "s2pyitUs8Xvl",
        "outputId": "4e90c3bf-2de2-4072-97ce-2335de9b983f"
      },
      "execution_count": 20,
      "outputs": [
        {
          "output_type": "stream",
          "name": "stdout",
          "text": [
            "Enter the number between 1 & 9 (Enter 0 to exit): 5\n",
            "Computer's number:  7\n",
            "Your number:  5\n",
            "Computer scored\n",
            "\n",
            "Enter the number between 1 & 9 (Enter 0 to exit): 2\n",
            "Computer's number:  7\n",
            "Your number:  2\n",
            "Computer scored\n",
            "\n",
            "Enter the number between 1 & 9 (Enter 0 to exit): 9\n",
            "Computer's number:  2\n",
            "Your number:  9\n",
            "You scored\n",
            "\n",
            "Enter the number between 1 & 9 (Enter 0 to exit): 7\n",
            "Computer's number:  6\n",
            "Your number:  7\n",
            "You scored\n",
            "\n",
            "Enter the number between 1 & 9 (Enter 0 to exit): 6\n",
            "Computer's number:  5\n",
            "Your number:  6\n",
            "You scored\n",
            "\n",
            "Enter the number between 1 & 9 (Enter 0 to exit): 4\n",
            "Computer's number:  2\n",
            "Your number:  4\n",
            "You scored\n",
            "\n",
            "Enter the number between 1 & 9 (Enter 0 to exit): 0\n",
            "Computer's number:  7\n",
            "Your number:  0\n",
            "\n",
            "____________________________________________________________\n",
            "Computer Score:  2  Your Score:  4\n",
            "You won against computer by  2  points!\n",
            "____________________________________________________________\n"
          ]
        }
      ]
    },
    {
      "cell_type": "markdown",
      "source": [
        "## ***Rock paper Scissor Game***"
      ],
      "metadata": {
        "id": "HSWkPcLh_ZrL"
      }
    },
    {
      "cell_type": "code",
      "source": [
        "#Rock paper Scissor Game\n",
        "import random\n",
        "\n",
        "def result(comp,user):\n",
        "  if comp==\"rock\" and user==\"paper\":\n",
        "    res=1 #print(\"You won\")\n",
        "  elif comp==\"rock\" and user==\"scissors\":\n",
        "    res=-1 #print(\"You lost\")\n",
        "  elif comp==\"paper\" and user==\"rock\":\n",
        "    res=1 #print(\"You won\")\n",
        "  elif comp==\"paper\" and user==\"scissors\":\n",
        "    res=1 #print(\"You won\")\n",
        "  elif comp==\"scissors\" and user==\"paper\":\n",
        "    res=-1 #print(\"You lost\")\n",
        "  elif comp==\"scissors\" and user==\"rock\":\n",
        "    res=1 #print(\"You won\")\n",
        "  else:\n",
        "    res=0 #print(\"Tie\")\n",
        "  return res\n",
        "\n",
        "gamelist=['rock','paper','scissors']\n",
        "user=\"rock\"\n",
        "userscore=0\n",
        "compscore=0\n",
        "while user==\"rock\" or user==\"paper\" or user==\"scissors\":\n",
        "  comp=random.choice(gamelist)\n",
        "  print()\n",
        "  user=input(\"Enter either rock or paper or scissors (Enter anything else to exit): \")\n",
        "  print(\"You chose: \",user)\n",
        "  print(\"Computer chose: \",comp)\n",
        "  if result(comp,user)==1:\n",
        "    userscore+=1\n",
        "  elif result(comp,user)==-1:\n",
        "    compscore+=1\n",
        "  else:\n",
        "    userscore+=1\n",
        "    compscore+=1\n",
        "\n",
        "print()\n",
        "print()\n",
        "print(\"____________________________________________\")\n",
        "print(\"Your score is: \",userscore)\n",
        "print(\"Computer's score is: \",compscore)\n",
        "if userscore>compscore:\n",
        "  print(\"Your won!\")\n",
        "elif compscore>userscore:\n",
        "  print(\"You lost\")\n",
        "else:\n",
        "  print(\"Tie!\")\n",
        "print(\"____________________________________________\")"
      ],
      "metadata": {
        "colab": {
          "base_uri": "https://localhost:8080/"
        },
        "id": "2eaaXNNN88G5",
        "outputId": "127497c0-be09-434b-f874-b3c04347f73f"
      },
      "execution_count": 26,
      "outputs": [
        {
          "output_type": "stream",
          "name": "stdout",
          "text": [
            "\n",
            "Enter either rock or paper or scissors (Enter anything else to exit): rock\n",
            "You chose:  rock\n",
            "Computer chose:  scissors\n",
            "\n",
            "Enter either rock or paper or scissors (Enter anything else to exit): scissors\n",
            "You chose:  scissors\n",
            "Computer chose:  rock\n",
            "\n",
            "Enter either rock or paper or scissors (Enter anything else to exit): rock\n",
            "You chose:  rock\n",
            "Computer chose:  scissors\n",
            "\n",
            "Enter either rock or paper or scissors (Enter anything else to exit): paper\n",
            "You chose:  paper\n",
            "Computer chose:  scissors\n",
            "\n",
            "Enter either rock or paper or scissors (Enter anything else to exit): paper\n",
            "You chose:  paper\n",
            "Computer chose:  rock\n",
            "\n",
            "Enter either rock or paper or scissors (Enter anything else to exit): end\n",
            "You chose:  end\n",
            "Computer chose:  paper\n",
            "\n",
            "\n",
            "____________________________________________\n",
            "Your score is:  4\n",
            "Computer's score is:  3\n",
            "Your won!\n",
            "____________________________________________\n"
          ]
        }
      ]
    }
  ]
}