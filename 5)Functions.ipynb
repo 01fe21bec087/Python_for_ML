{
  "nbformat": 4,
  "nbformat_minor": 0,
  "metadata": {
    "colab": {
      "provenance": [],
      "toc_visible": true,
      "authorship_tag": "ABX9TyN0pAfHqM3M4DMim4ra/fn9",
      "include_colab_link": true
    },
    "kernelspec": {
      "name": "python3",
      "display_name": "Python 3"
    },
    "language_info": {
      "name": "python"
    }
  },
  "cells": [
    {
      "cell_type": "markdown",
      "metadata": {
        "id": "view-in-github",
        "colab_type": "text"
      },
      "source": [
        "<a href=\"https://colab.research.google.com/github/01fe21bec087/Python_for_ML/blob/main/5)Functions.ipynb\" target=\"_parent\"><img src=\"https://colab.research.google.com/assets/colab-badge.svg\" alt=\"Open In Colab\"/></a>"
      ]
    },
    {
      "cell_type": "markdown",
      "source": [
        "# ***Functions***"
      ],
      "metadata": {
        "id": "ztd8eFocBkGN"
      }
    },
    {
      "cell_type": "markdown",
      "source": [
        "1. Define the function\n",
        "2. Invoking the function\n",
        "3. Passing the arguments"
      ],
      "metadata": {
        "id": "Exj1c-EFBqEQ"
      }
    },
    {
      "cell_type": "markdown",
      "source": [
        "## ***1. Defining the function***"
      ],
      "metadata": {
        "id": "0s90bdN_CPOO"
      }
    },
    {
      "cell_type": "markdown",
      "source": [
        "def function_name():\n",
        "  \n",
        "  "
      ],
      "metadata": {
        "id": "R72jkrMFCUZu"
      }
    },
    {
      "cell_type": "markdown",
      "source": [
        "## ***2. Invoking the function (Calling a function)***"
      ],
      "metadata": {
        "id": "yhWm8cc4EHQW"
      }
    },
    {
      "cell_type": "code",
      "source": [
        "def cake_baker():\n",
        "  print(\"I am ready to bake the cake\")\n",
        "cake_baker()"
      ],
      "metadata": {
        "colab": {
          "base_uri": "https://localhost:8080/"
        },
        "id": "yDwvfe2UBvae",
        "outputId": "17025b8e-5bf4-48c2-8737-37c17ff3e59d"
      },
      "execution_count": null,
      "outputs": [
        {
          "output_type": "stream",
          "name": "stdout",
          "text": [
            "I am ready to bake the cake\n"
          ]
        }
      ]
    },
    {
      "cell_type": "markdown",
      "source": [
        "## ***3. Passing the arguments***"
      ],
      "metadata": {
        "id": "mAFisCUgEApb"
      }
    },
    {
      "cell_type": "code",
      "source": [
        "def cake_baker(p,f,s):\n",
        "  #print(\"I am ready to bake the cake\")\n",
        "  print(\"No. of pieces = \",p)\n",
        "  print(\"Flavour is = \",f)\n",
        "  print(\"Size is = \",s)\n",
        "  print()\n",
        "\n",
        "cake_baker(\"5\",\"Chocolate\",\"2kg\")\n",
        "cake_baker(\"100\",\"vanilla\",\"3kg\")"
      ],
      "metadata": {
        "colab": {
          "base_uri": "https://localhost:8080/"
        },
        "id": "zMkMq0diCOIW",
        "outputId": "8999e46a-f1f2-4a7c-b7f3-92b794913c3c"
      },
      "execution_count": null,
      "outputs": [
        {
          "output_type": "stream",
          "name": "stdout",
          "text": [
            "No. of pieces =  5\n",
            "Flavour is =  Chocolate\n",
            "Size is =  2kg\n",
            "\n",
            "No. of pieces =  100\n",
            "Flavour is =  vanilla\n",
            "Size is =  3kg\n",
            "\n"
          ]
        }
      ]
    },
    {
      "cell_type": "code",
      "source": [
        "def tables(x):\n",
        "  for i in range(1,11):\n",
        "    print(x,\"times\",i,\" = \",x*i)\n",
        "  print()\n",
        "\n",
        "tables(2)\n",
        "tables(3)"
      ],
      "metadata": {
        "colab": {
          "base_uri": "https://localhost:8080/"
        },
        "id": "nVcIpcqoDJED",
        "outputId": "bc5cb474-f4b6-4fa3-f7ca-31fa284b729b"
      },
      "execution_count": null,
      "outputs": [
        {
          "output_type": "stream",
          "name": "stdout",
          "text": [
            "2 times 1  =  2\n",
            "2 times 2  =  4\n",
            "2 times 3  =  6\n",
            "2 times 4  =  8\n",
            "2 times 5  =  10\n",
            "2 times 6  =  12\n",
            "2 times 7  =  14\n",
            "2 times 8  =  16\n",
            "2 times 9  =  18\n",
            "2 times 10  =  20\n",
            "\n",
            "3 times 1  =  3\n",
            "3 times 2  =  6\n",
            "3 times 3  =  9\n",
            "3 times 4  =  12\n",
            "3 times 5  =  15\n",
            "3 times 6  =  18\n",
            "3 times 7  =  21\n",
            "3 times 8  =  24\n",
            "3 times 9  =  27\n",
            "3 times 10  =  30\n",
            "\n"
          ]
        }
      ]
    },
    {
      "cell_type": "markdown",
      "source": [
        "# ***Args***"
      ],
      "metadata": {
        "id": "fr6BDLfOFiuv"
      }
    },
    {
      "cell_type": "code",
      "source": [
        "def add(*args):\n",
        "  #print(type(args))\n",
        "  sum=0\n",
        "  for i in args:\n",
        "    sum+=i\n",
        "  return sum\n",
        "\n",
        "print(add(1,2,3,4))\n",
        "print(add(54,7,4367,23,67,3,6,8))"
      ],
      "metadata": {
        "colab": {
          "base_uri": "https://localhost:8080/"
        },
        "id": "Rxl0UIzDFzz_",
        "outputId": "ff4fec12-9ad0-4d56-9281-0543c60b166f"
      },
      "execution_count": null,
      "outputs": [
        {
          "output_type": "stream",
          "name": "stdout",
          "text": [
            "10\n",
            "4535\n"
          ]
        }
      ]
    },
    {
      "cell_type": "markdown",
      "source": [
        "# ***Kwargs***"
      ],
      "metadata": {
        "id": "j8zoUXkMHLZN"
      }
    },
    {
      "cell_type": "markdown",
      "source": [
        "For keyword - element assignment"
      ],
      "metadata": {
        "id": "Cj1ms0yUmlJt"
      }
    },
    {
      "cell_type": "code",
      "source": [
        "def greet(**kwargs):\n",
        "  print(\"Hello\")\n",
        "  for key,value in kwargs.items():\n",
        "    print(value, end=\" \")\n",
        "  print()\n",
        "  print()\n",
        "\n",
        "greet(name=\"Abhinav\",usn=\"01FE21BEC087\",branch=\"ECE\")\n",
        "greet(college=\"KLETECH\")"
      ],
      "metadata": {
        "colab": {
          "base_uri": "https://localhost:8080/"
        },
        "id": "ysLpNvZRHNbP",
        "outputId": "cad44a93-21e7-4b02-e3d2-bc2625f5cd68"
      },
      "execution_count": null,
      "outputs": [
        {
          "output_type": "stream",
          "name": "stdout",
          "text": [
            "Hello\n",
            "Abhinav 01FE21BEC087 ECE \n",
            "\n",
            "Hello\n",
            "KLETECH \n",
            "\n"
          ]
        }
      ]
    }
  ]
}