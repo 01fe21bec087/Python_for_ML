{
  "nbformat": 4,
  "nbformat_minor": 0,
  "metadata": {
    "colab": {
      "provenance": [],
      "toc_visible": true,
      "authorship_tag": "ABX9TyMOni2Hb6yuT9zK1ltENird",
      "include_colab_link": true
    },
    "kernelspec": {
      "name": "python3",
      "display_name": "Python 3"
    },
    "language_info": {
      "name": "python"
    }
  },
  "cells": [
    {
      "cell_type": "markdown",
      "metadata": {
        "id": "view-in-github",
        "colab_type": "text"
      },
      "source": [
        "<a href=\"https://colab.research.google.com/github/01fe21bec087/Python_for_ML/blob/main/2)Conditional_Statements.ipynb\" target=\"_parent\"><img src=\"https://colab.research.google.com/assets/colab-badge.svg\" alt=\"Open In Colab\"/></a>"
      ]
    },
    {
      "cell_type": "markdown",
      "source": [
        "# ***Taking input from user***"
      ],
      "metadata": {
        "id": "Z9OHEaZ-D1GH"
      }
    },
    {
      "cell_type": "code",
      "source": [
        "#taking input from user\n",
        "a=input(\"Enter the value of a: \")\n",
        "b=input(\"Enter the value of b: \")\n",
        "print(a)\n",
        "print(b)"
      ],
      "metadata": {
        "colab": {
          "base_uri": "https://localhost:8080/"
        },
        "id": "QJ9Z7auWD73o",
        "outputId": "57a5d79e-90ee-4141-81da-6a127a2d68f9"
      },
      "execution_count": null,
      "outputs": [
        {
          "output_type": "stream",
          "name": "stdout",
          "text": [
            "Enter the value of a: 3\n",
            "Enter the value of b: 1\n",
            "3\n",
            "1\n"
          ]
        }
      ]
    },
    {
      "cell_type": "markdown",
      "source": [
        "## ***Typecasting Input***"
      ],
      "metadata": {
        "id": "I2Xx4JfjEIpu"
      }
    },
    {
      "cell_type": "code",
      "source": [
        "age=input(\"Enter the age: \")\n",
        "print(type(age))\n",
        "#Hence typecasting is required"
      ],
      "metadata": {
        "colab": {
          "base_uri": "https://localhost:8080/"
        },
        "id": "aFPTe3jsEJd2",
        "outputId": "d3fdb6bd-e0e5-41d3-9dba-a81f5a7447d5"
      },
      "execution_count": null,
      "outputs": [
        {
          "output_type": "stream",
          "name": "stdout",
          "text": [
            "Enter the age: 21\n",
            "<class 'str'>\n"
          ]
        }
      ]
    },
    {
      "cell_type": "code",
      "source": [
        "age=int(input(\"Enter the age: \"))\n",
        "print(type(age))"
      ],
      "metadata": {
        "colab": {
          "base_uri": "https://localhost:8080/"
        },
        "id": "SdMSrzWFEOf2",
        "outputId": "70568237-e434-4ed4-cd4e-8dd4bd804984"
      },
      "execution_count": null,
      "outputs": [
        {
          "output_type": "stream",
          "name": "stdout",
          "text": [
            "Enter the age: 12\n",
            "<class 'int'>\n"
          ]
        }
      ]
    },
    {
      "cell_type": "markdown",
      "source": [
        "# ***Conditional Statements***"
      ],
      "metadata": {
        "id": "nfhGr6Y-ESmn"
      }
    },
    {
      "cell_type": "markdown",
      "source": [
        "## ***1. if-else***"
      ],
      "metadata": {
        "id": "b_atl34LETV4"
      }
    },
    {
      "cell_type": "code",
      "source": [
        "a=input(\"Enter the value of a: \")\n",
        "b=input(\"Enter the value of b: \")\n",
        "print(a)\n",
        "print(b)\n",
        "\n",
        "if a>b:\n",
        "  print(\"The value of a is greater than b\")\n",
        "#if a==b:\n",
        " # print(\"Both a abd b are same\")\n",
        "else:\n",
        "  print(\"The value of b is greater than a\")"
      ],
      "metadata": {
        "colab": {
          "base_uri": "https://localhost:8080/"
        },
        "id": "4bQF23ypEW-R",
        "outputId": "bad22cf1-c3c4-4ada-98ba-c5c7a510f2a4"
      },
      "execution_count": null,
      "outputs": [
        {
          "output_type": "stream",
          "name": "stdout",
          "text": [
            "Enter the value of a: 3\n",
            "Enter the value of b: 1\n",
            "3\n",
            "1\n",
            "The value of a is greater than b\n"
          ]
        }
      ]
    },
    {
      "cell_type": "markdown",
      "source": [
        "## ***2. Elif***"
      ],
      "metadata": {
        "id": "DbOvJzV0Ebsm"
      }
    },
    {
      "cell_type": "code",
      "source": [
        "#elif\n",
        "ball1=\"green\"\n",
        "ball2=\"red\"\n",
        "ball3=\"white\"\n",
        "pick=input(\"Pick a ball: \")\n",
        "\n",
        "if pick==ball1:\n",
        "  print(\"Green ball is picked\")\n",
        "elif pick==ball2:\n",
        "  print(\"Red ball is picked\")\n",
        "elif pick==ball3:\n",
        "  print(\"White ball is picked\")\n",
        "else:\n",
        "  print(\"This ball does not exist in given balls\")\n"
      ],
      "metadata": {
        "colab": {
          "base_uri": "https://localhost:8080/"
        },
        "id": "IW5oylCOEedi",
        "outputId": "c08e9fc9-a04a-45a8-f9d4-07485cb42d78"
      },
      "execution_count": null,
      "outputs": [
        {
          "output_type": "stream",
          "name": "stdout",
          "text": [
            "Pick a ball: white\n",
            "White ball is picked\n"
          ]
        }
      ]
    }
  ]
}