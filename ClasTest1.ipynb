{
  "nbformat": 4,
  "nbformat_minor": 0,
  "metadata": {
    "colab": {
      "provenance": [],
      "authorship_tag": "ABX9TyO8+LA9vChzxqtF1JxoLDrt",
      "include_colab_link": true
    },
    "kernelspec": {
      "name": "python3",
      "display_name": "Python 3"
    },
    "language_info": {
      "name": "python"
    }
  },
  "cells": [
    {
      "cell_type": "markdown",
      "metadata": {
        "id": "view-in-github",
        "colab_type": "text"
      },
      "source": [
        "<a href=\"https://colab.research.google.com/github/01fe21bec087/Python_for_ML/blob/main/ClasTest1.ipynb\" target=\"_parent\"><img src=\"https://colab.research.google.com/assets/colab-badge.svg\" alt=\"Open In Colab\"/></a>"
      ]
    },
    {
      "cell_type": "code",
      "execution_count": 29,
      "metadata": {
        "colab": {
          "base_uri": "https://localhost:8080/"
        },
        "id": "rUvvRZHMlXN5",
        "outputId": "2c0f5198-9264-4a98-e234-a556cb4840ea"
      },
      "outputs": [
        {
          "output_type": "stream",
          "name": "stdout",
          "text": [
            "81\n",
            "81  is NOT a prime number\n",
            "81  is divisible by 3\n",
            "81  is NOT divisible by 7\n",
            "81  is divisible by 9\n",
            "81  is NOT divisible by 11\n"
          ]
        }
      ],
      "source": [
        "#5. check for prime, if not prime check dvisibility 3,7,9,11\n",
        "def check_div(num):\n",
        "  if num%3==0:\n",
        "    print(num,\" is divisible by 3\")\n",
        "  else:\n",
        "    print(num,\" is NOT divisible by 3\")\n",
        "  if num%7==0:\n",
        "    print(num,\" is divisible by 7\")\n",
        "  else:\n",
        "    print(num,\" is NOT divisible by 7\")\n",
        "  if num%9==0:\n",
        "    print(num,\" is divisible by 9\")\n",
        "  else:\n",
        "    print(num,\" is NOT divisible by 9\")\n",
        "  if num%11==0:\n",
        "    print(num,\" is divisible by 11\")\n",
        "  else:\n",
        "    print(num,\" is NOT divisible by 11\")\n",
        "\n",
        "num=int(input())\n",
        "flag=0\n",
        "for i in range(2,(num//2)+1,1):\n",
        "  if num%i==0:\n",
        "    print(num,\" is NOT a prime number\")\n",
        "    check_div(num)\n",
        "    flag=1\n",
        "    break\n",
        "\n",
        "if flag==0:\n",
        "  print(num,' is a prime number')"
      ]
    },
    {
      "cell_type": "code",
      "source": [
        "#6. check palindrome\n",
        "text=input(\"Enter the string: \")\n",
        "rev=reversed(text)\n",
        "if list(rev)==list(text):\n",
        "  print(\"String is palindrome\")\n",
        "else:\n",
        "  print(\"String is not a palindrome\")"
      ],
      "metadata": {
        "colab": {
          "base_uri": "https://localhost:8080/"
        },
        "id": "vAneZwNPltEQ",
        "outputId": "a95578d6-57ec-490a-f610-cc15a12cabc1"
      },
      "execution_count": 27,
      "outputs": [
        {
          "output_type": "stream",
          "name": "stdout",
          "text": [
            "Enter the string: mom\n",
            "String is palindrome\n"
          ]
        }
      ]
    },
    {
      "cell_type": "code",
      "source": [
        "#7. seek 10 elts and print even odd separately\n",
        "list1=[]\n",
        "listE=[]\n",
        "listO=[]\n",
        "\n",
        "for i in range(0,10,1):\n",
        "  temp=int(input(\"Enter the number: \"))\n",
        "  list1.append(temp)\n",
        "  if(temp%2==0):\n",
        "    listE.append(temp)\n",
        "  else:\n",
        "    listO.append(temp)\n",
        "\n",
        "print(\"Your numbers are: \")\n",
        "print(list1)\n",
        "\n",
        "print(\"Even numbers are: \",listE)\n",
        "print(\"Odd numbers are: \",listO)\n"
      ],
      "metadata": {
        "colab": {
          "base_uri": "https://localhost:8080/"
        },
        "id": "fyeywQd5mLBc",
        "outputId": "c258698c-d254-42a0-9d3a-affdec70029b"
      },
      "execution_count": 18,
      "outputs": [
        {
          "output_type": "stream",
          "name": "stdout",
          "text": [
            "Enter the number: 12\n",
            "Enter the number: 15\n",
            "Enter the number: 567\n",
            "Enter the number: 234\n",
            "Enter the number: 98\n",
            "Enter the number: 567\n",
            "Enter the number: 234\n",
            "Enter the number: 557868\n",
            "Enter the number: 75436\n",
            "Enter the number: 4556\n",
            "Your numbers are: \n",
            "[12, 15, 567, 234, 98, 567, 234, 557868, 75436, 4556]\n",
            "Even numbers are:  [12, 234, 98, 234, 557868, 75436, 4556]\n",
            "Odd numbers are:  [15, 567, 567]\n"
          ]
        }
      ]
    },
    {
      "cell_type": "code",
      "source": [
        "#8. Print the pattern\n",
        "# *\n",
        "# **\n",
        "# ***\n",
        "# ****\n",
        "\n",
        "row=int(input(\"Enter row value: \"))\n",
        "for i in range(0,row,1):\n",
        "  for j in range(0,row,1):\n",
        "    if(i>=j):\n",
        "      print(\"*\",end=\" \")\n",
        "  print()"
      ],
      "metadata": {
        "colab": {
          "base_uri": "https://localhost:8080/"
        },
        "id": "HYgbLuRCo8p1",
        "outputId": "d03e9843-fca2-4ad7-d255-be1d171b37a2"
      },
      "execution_count": 28,
      "outputs": [
        {
          "output_type": "stream",
          "name": "stdout",
          "text": [
            "Enter row value: 4\n",
            "* \n",
            "* * \n",
            "* * * \n",
            "* * * * \n"
          ]
        }
      ]
    }
  ]
}